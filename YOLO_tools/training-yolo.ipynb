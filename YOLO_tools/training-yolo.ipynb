{
 "cells": [
  {
   "cell_type": "code",
   "execution_count": 1,
   "metadata": {},
   "outputs": [
    {
     "name": "stdout",
     "output_type": "stream",
     "text": [
      "\u001b[34m\u001b[1malbumentations: \u001b[0m\n",
      "New https://pypi.org/project/ultralytics/8.3.62 available  Update with 'pip install -U ultralytics'\n",
      "Ultralytics 8.3.58  Python-3.12.3 torch-2.5.1+cu121 CUDA:0 (NVIDIA GeForce RTX 3080, 10240MiB)\n"
     ]
    },
    {
     "name": "stderr",
     "output_type": "stream",
     "text": [
      "d:\\Judson_projetos\\Yolo_trainer\\YOLO_tools\\yolo-trainer-venv\\Lib\\site-packages\\albumentations\\__init__.py:24: UserWarning: A new version of Albumentations is available: 2.0.0 (you have 1.4.24). Upgrade using: pip install -U albumentations. To disable automatic update checks, set the environment variable NO_ALBUMENTATIONS_UPDATE to 1.\n",
      "  check_for_updates()\n"
     ]
    },
    {
     "name": "stdout",
     "output_type": "stream",
     "text": [
      "\u001b[34m\u001b[1mengine\\trainer: \u001b[0mtask=detect, mode=train, model=yolo11n.pt, data=D:\\Judson_projetos\\Yolo_trainer\\YOLO_tools\\datasets\\emissoes_YOLO\\dataset.yaml, epochs=300, time=None, patience=100, batch=44, imgsz=360, save=True, save_period=-1, cache=False, device=cuda, workers=8, project=None, name=train409, exist_ok=False, pretrained=True, optimizer=SGD, verbose=True, seed=0, deterministic=True, single_cls=False, rect=False, cos_lr=False, close_mosaic=10, resume=False, amp=True, fraction=1.0, profile=False, freeze=None, multi_scale=False, overlap_mask=True, mask_ratio=4, dropout=0.0, val=True, split=val, save_json=False, save_hybrid=False, conf=None, iou=0.7, max_det=300, half=False, dnn=False, plots=True, source=None, vid_stride=1, stream_buffer=False, visualize=False, augment=False, agnostic_nms=False, classes=None, retina_masks=False, embed=None, show=False, save_frames=False, save_txt=False, save_conf=False, save_crop=False, show_labels=True, show_conf=True, show_boxes=True, line_width=None, format=torchscript, keras=False, optimize=False, int8=False, dynamic=False, simplify=True, opset=None, workspace=None, nms=False, lr0=0.044420941734707106, lrf=0.003714464344322616, momentum=0.8469117399197312, weight_decay=0.002419591893233216, warmup_epochs=4, warmup_momentum=0.4186749514479571, warmup_bias_lr=0.06927991493431769, box=7.5, cls=0.5, dfl=1.5, pose=12.0, kobj=1.0, nbs=64, hsv_h=0.015, hsv_s=0.7, hsv_v=0.4, degrees=0.0, translate=0.1, scale=0.5, shear=0.0, perspective=0.0, flipud=0.0, fliplr=0.5, bgr=0.0, mosaic=1.0, mixup=0.0, copy_paste=0.0, copy_paste_mode=flip, auto_augment=randaugment, erasing=0.4, crop_fraction=1.0, cfg=None, tracker=botsort.yaml, save_dir=d:\\Judson_projetos\\Yolo_trainer\\runs\\detect\\train409\n",
      "Overriding model.yaml nc=80 with nc=1\n",
      "\n",
      "                   from  n    params  module                                       arguments                     \n",
      "  0                  -1  1       464  ultralytics.nn.modules.conv.Conv             [3, 16, 3, 2]                 \n",
      "  1                  -1  1      4672  ultralytics.nn.modules.conv.Conv             [16, 32, 3, 2]                \n",
      "  2                  -1  1      6640  ultralytics.nn.modules.block.C3k2            [32, 64, 1, False, 0.25]      \n",
      "  3                  -1  1     36992  ultralytics.nn.modules.conv.Conv             [64, 64, 3, 2]                \n",
      "  4                  -1  1     26080  ultralytics.nn.modules.block.C3k2            [64, 128, 1, False, 0.25]     \n",
      "  5                  -1  1    147712  ultralytics.nn.modules.conv.Conv             [128, 128, 3, 2]              \n",
      "  6                  -1  1     87040  ultralytics.nn.modules.block.C3k2            [128, 128, 1, True]           \n",
      "  7                  -1  1    295424  ultralytics.nn.modules.conv.Conv             [128, 256, 3, 2]              \n",
      "  8                  -1  1    346112  ultralytics.nn.modules.block.C3k2            [256, 256, 1, True]           \n",
      "  9                  -1  1    164608  ultralytics.nn.modules.block.SPPF            [256, 256, 5]                 \n",
      " 10                  -1  1    249728  ultralytics.nn.modules.block.C2PSA           [256, 256, 1]                 \n",
      " 11                  -1  1         0  torch.nn.modules.upsampling.Upsample         [None, 2, 'nearest']          \n",
      " 12             [-1, 6]  1         0  ultralytics.nn.modules.conv.Concat           [1]                           \n",
      " 13                  -1  1    111296  ultralytics.nn.modules.block.C3k2            [384, 128, 1, False]          \n",
      " 14                  -1  1         0  torch.nn.modules.upsampling.Upsample         [None, 2, 'nearest']          \n",
      " 15             [-1, 4]  1         0  ultralytics.nn.modules.conv.Concat           [1]                           \n",
      " 16                  -1  1     32096  ultralytics.nn.modules.block.C3k2            [256, 64, 1, False]           \n",
      " 17                  -1  1     36992  ultralytics.nn.modules.conv.Conv             [64, 64, 3, 2]                \n",
      " 18            [-1, 13]  1         0  ultralytics.nn.modules.conv.Concat           [1]                           \n",
      " 19                  -1  1     86720  ultralytics.nn.modules.block.C3k2            [192, 128, 1, False]          \n",
      " 20                  -1  1    147712  ultralytics.nn.modules.conv.Conv             [128, 128, 3, 2]              \n",
      " 21            [-1, 10]  1         0  ultralytics.nn.modules.conv.Concat           [1]                           \n",
      " 22                  -1  1    378880  ultralytics.nn.modules.block.C3k2            [384, 256, 1, True]           \n",
      " 23        [16, 19, 22]  1    430867  ultralytics.nn.modules.head.Detect           [1, [64, 128, 256]]           \n",
      "YOLO11n summary: 319 layers, 2,590,035 parameters, 2,590,019 gradients, 6.4 GFLOPs\n",
      "\n",
      "Transferred 448/499 items from pretrained weights\n",
      "Freezing layer 'model.23.dfl.conv.weight'\n",
      "\u001b[34m\u001b[1mAMP: \u001b[0mrunning Automatic Mixed Precision (AMP) checks...\n",
      "\u001b[34m\u001b[1mAMP: \u001b[0mchecks passed \n",
      "WARNING  imgsz=[360] must be multiple of max stride 32, updating to [384]\n"
     ]
    },
    {
     "name": "stderr",
     "output_type": "stream",
     "text": [
      "\u001b[34m\u001b[1mtrain: \u001b[0mScanning D:\\Judson_projetos\\Yolo_trainer\\YOLO_tools\\datasets\\emissoes_YOLO\\labels\\train.cache... 4288 images, 0 backgrounds, 0 corrupt: 100%|██████████| 4288/4288 [00:00<?, ?it/s]"
     ]
    },
    {
     "name": "stdout",
     "output_type": "stream",
     "text": [
      "\u001b[34m\u001b[1malbumentations: \u001b[0m\n"
     ]
    },
    {
     "name": "stderr",
     "output_type": "stream",
     "text": [
      "\n",
      "\u001b[34m\u001b[1mval: \u001b[0mScanning D:\\Judson_projetos\\Yolo_trainer\\YOLO_tools\\datasets\\emissoes_YOLO\\labels\\val.cache... 1056 images, 0 backgrounds, 0 corrupt: 100%|██████████| 1056/1056 [00:00<?, ?it/s]\n"
     ]
    },
    {
     "name": "stdout",
     "output_type": "stream",
     "text": [
      "Plotting labels to d:\\Judson_projetos\\Yolo_trainer\\runs\\detect\\train409\\labels.jpg... \n",
      "\u001b[34m\u001b[1moptimizer:\u001b[0m SGD(lr=0.044420941734707106, momentum=0.8469117399197312) with parameter groups 81 weight(decay=0.0), 88 weight(decay=0.0016634694265978362), 87 bias(decay=0.0)\n",
      "Image sizes 384 train, 384 val\n",
      "Using 8 dataloader workers\n",
      "Logging results to \u001b[1md:\\Judson_projetos\\Yolo_trainer\\runs\\detect\\train409\u001b[0m\n",
      "Starting training for 300 epochs...\n",
      "\n",
      "      Epoch    GPU_mem   box_loss   cls_loss   dfl_loss  Instances       Size\n"
     ]
    },
    {
     "name": "stderr",
     "output_type": "stream",
     "text": [
      "      1/300      2.27G      2.201      3.016      1.955         41        384: 100%|██████████| 98/98 [00:23<00:00,  4.21it/s]\n"
     ]
    },
    {
     "name": "stdout",
     "output_type": "stream",
     "text": [
      "{'metrics/precision(B)': 0, 'metrics/recall(B)': 0, 'metrics/mAP50(B)': 0, 'metrics/mAP50-95(B)': 0, 'val/box_loss': 0, 'val/cls_loss': 0, 'val/dfl_loss': 0}\n",
      "\n",
      "Actual mAP50 : 0\n",
      "\n",
      "Best actual metric : 0.0 on epoch 0\n"
     ]
    },
    {
     "name": "stderr",
     "output_type": "stream",
     "text": [
      "                 Class     Images  Instances      Box(P          R      mAP50  mAP50-95): 100%|██████████| 12/12 [00:05<00:00,  2.22it/s]\n"
     ]
    },
    {
     "name": "stdout",
     "output_type": "stream",
     "text": [
      "                   all       1056       1216      0.505      0.313      0.312     0.0803\n",
      "\n",
      "      Epoch    GPU_mem   box_loss   cls_loss   dfl_loss  Instances       Size\n"
     ]
    },
    {
     "name": "stderr",
     "output_type": "stream",
     "text": [
      "      2/300      2.32G      1.935      2.008      1.648         37        384: 100%|██████████| 98/98 [00:20<00:00,  4.81it/s]\n"
     ]
    },
    {
     "name": "stdout",
     "output_type": "stream",
     "text": [
      "{'metrics/precision(B)': 0.50524, 'metrics/recall(B)': 0.31332, 'metrics/mAP50(B)': 0.31213, 'metrics/mAP50-95(B)': 0.08029, 'val/box_loss': 2.21338, 'val/cls_loss': 2.6958, 'val/dfl_loss': 1.91347}\n",
      "\n",
      "Actual mAP50 : 0.3121\n",
      "\n",
      "Best actual metric : 0.3121 on epoch 1\n"
     ]
    },
    {
     "name": "stderr",
     "output_type": "stream",
     "text": [
      "                 Class     Images  Instances      Box(P          R      mAP50  mAP50-95): 100%|██████████| 12/12 [00:05<00:00,  2.18it/s]"
     ]
    },
    {
     "name": "stdout",
     "output_type": "stream",
     "text": [
      "                   all       1056       1216      0.112      0.287     0.0629     0.0185\n"
     ]
    },
    {
     "name": "stderr",
     "output_type": "stream",
     "text": [
      "\n"
     ]
    },
    {
     "name": "stdout",
     "output_type": "stream",
     "text": [
      "\n",
      "      Epoch    GPU_mem   box_loss   cls_loss   dfl_loss  Instances       Size\n"
     ]
    },
    {
     "name": "stderr",
     "output_type": "stream",
     "text": [
      "      3/300      2.31G      1.968      1.935      1.652         47        384: 100%|██████████| 98/98 [00:20<00:00,  4.85it/s]\n"
     ]
    },
    {
     "name": "stdout",
     "output_type": "stream",
     "text": [
      "{'metrics/precision(B)': 0.11205, 'metrics/recall(B)': 0.28701, 'metrics/mAP50(B)': 0.06287, 'metrics/mAP50-95(B)': 0.01846, 'val/box_loss': 2.43573, 'val/cls_loss': 3.32073, 'val/dfl_loss': 2.37058}\n",
      "\n",
      "Actual mAP50 : 0.0629\n",
      "\n",
      "Best actual metric : 0.3121 on epoch 1\n"
     ]
    },
    {
     "name": "stderr",
     "output_type": "stream",
     "text": [
      "                 Class     Images  Instances      Box(P          R      mAP50  mAP50-95): 100%|██████████| 12/12 [00:05<00:00,  2.03it/s]\n"
     ]
    },
    {
     "name": "stdout",
     "output_type": "stream",
     "text": [
      "                   all       1056       1216      0.234      0.282      0.147      0.053\n",
      "\n",
      "      Epoch    GPU_mem   box_loss   cls_loss   dfl_loss  Instances       Size\n"
     ]
    },
    {
     "name": "stderr",
     "output_type": "stream",
     "text": [
      "      4/300      2.32G      2.023      1.928      1.738         44        384: 100%|██████████| 98/98 [00:21<00:00,  4.53it/s]\n"
     ]
    },
    {
     "name": "stdout",
     "output_type": "stream",
     "text": [
      "{'metrics/precision(B)': 0.23425, 'metrics/recall(B)': 0.28207, 'metrics/mAP50(B)': 0.14733, 'metrics/mAP50-95(B)': 0.05298, 'val/box_loss': 2.43574, 'val/cls_loss': 2.82206, 'val/dfl_loss': 2.26928}\n",
      "\n",
      "Actual mAP50 : 0.1473\n",
      "\n",
      "Best actual metric : 0.3121 on epoch 1\n"
     ]
    },
    {
     "name": "stderr",
     "output_type": "stream",
     "text": [
      "                 Class     Images  Instances      Box(P          R      mAP50  mAP50-95): 100%|██████████| 12/12 [00:05<00:00,  2.05it/s]"
     ]
    },
    {
     "name": "stdout",
     "output_type": "stream",
     "text": [
      "                   all       1056       1216     0.0436     0.0798     0.0118    0.00275\n"
     ]
    },
    {
     "name": "stderr",
     "output_type": "stream",
     "text": [
      "\n"
     ]
    },
    {
     "name": "stdout",
     "output_type": "stream",
     "text": [
      "\n",
      "      Epoch    GPU_mem   box_loss   cls_loss   dfl_loss  Instances       Size\n"
     ]
    },
    {
     "name": "stderr",
     "output_type": "stream",
     "text": [
      "      5/300      2.31G      2.043      1.837      1.803         49        384: 100%|██████████| 98/98 [00:21<00:00,  4.52it/s]\n"
     ]
    },
    {
     "name": "stdout",
     "output_type": "stream",
     "text": [
      "{'metrics/precision(B)': 0.04358, 'metrics/recall(B)': 0.07977, 'metrics/mAP50(B)': 0.01183, 'metrics/mAP50-95(B)': 0.00275, 'val/box_loss': 3.00513, 'val/cls_loss': 8.28924, 'val/dfl_loss': 3.69478}\n",
      "\n",
      "Actual mAP50 : 0.0118\n",
      "\n",
      "Best actual metric : 0.3121 on epoch 1\n"
     ]
    },
    {
     "name": "stderr",
     "output_type": "stream",
     "text": [
      "                 Class     Images  Instances      Box(P          R      mAP50  mAP50-95): 100%|██████████| 12/12 [00:05<00:00,  2.05it/s]\n"
     ]
    },
    {
     "name": "stdout",
     "output_type": "stream",
     "text": [
      "                   all       1056       1216      0.166      0.292      0.122     0.0331\n",
      "\n",
      "      Epoch    GPU_mem   box_loss   cls_loss   dfl_loss  Instances       Size\n"
     ]
    },
    {
     "name": "stderr",
     "output_type": "stream",
     "text": [
      "      6/300      2.32G      1.906      1.621      1.709         38        384: 100%|██████████| 98/98 [00:21<00:00,  4.56it/s]\n"
     ]
    },
    {
     "name": "stdout",
     "output_type": "stream",
     "text": [
      "{'metrics/precision(B)': 0.16563, 'metrics/recall(B)': 0.29194, 'metrics/mAP50(B)': 0.12186, 'metrics/mAP50-95(B)': 0.0331, 'val/box_loss': 2.66513, 'val/cls_loss': 4.33157, 'val/dfl_loss': 2.96157}\n",
      "\n",
      "Actual mAP50 : 0.1219\n",
      "\n",
      "Best actual metric : 0.3121 on epoch 1\n"
     ]
    },
    {
     "name": "stderr",
     "output_type": "stream",
     "text": [
      "                 Class     Images  Instances      Box(P          R      mAP50  mAP50-95): 100%|██████████| 12/12 [00:06<00:00,  1.99it/s]\n"
     ]
    },
    {
     "name": "stdout",
     "output_type": "stream",
     "text": [
      "                   all       1056       1216      0.369      0.256      0.198     0.0541\n",
      "\n",
      "      Epoch    GPU_mem   box_loss   cls_loss   dfl_loss  Instances       Size\n"
     ]
    },
    {
     "name": "stderr",
     "output_type": "stream",
     "text": [
      "      7/300      2.32G      1.854      1.509       1.68         42        384: 100%|██████████| 98/98 [00:21<00:00,  4.49it/s]\n"
     ]
    },
    {
     "name": "stdout",
     "output_type": "stream",
     "text": [
      "{'metrics/precision(B)': 0.36935, 'metrics/recall(B)': 0.25576, 'metrics/mAP50(B)': 0.19793, 'metrics/mAP50-95(B)': 0.05413, 'val/box_loss': 2.77133, 'val/cls_loss': 3.20394, 'val/dfl_loss': 2.29467}\n",
      "\n",
      "Actual mAP50 : 0.1979\n",
      "\n",
      "Best actual metric : 0.3121 on epoch 1\n"
     ]
    },
    {
     "name": "stderr",
     "output_type": "stream",
     "text": [
      "                 Class     Images  Instances      Box(P          R      mAP50  mAP50-95): 100%|██████████| 12/12 [00:06<00:00,  1.95it/s]"
     ]
    },
    {
     "name": "stdout",
     "output_type": "stream",
     "text": [
      "                   all       1056       1216      0.152      0.222     0.0811     0.0198\n"
     ]
    },
    {
     "name": "stderr",
     "output_type": "stream",
     "text": [
      "\n"
     ]
    },
    {
     "name": "stdout",
     "output_type": "stream",
     "text": [
      "\n",
      "      Epoch    GPU_mem   box_loss   cls_loss   dfl_loss  Instances       Size\n"
     ]
    },
    {
     "name": "stderr",
     "output_type": "stream",
     "text": [
      "      8/300      2.31G      1.799      1.413      1.642         45        384: 100%|██████████| 98/98 [00:21<00:00,  4.53it/s]\n"
     ]
    },
    {
     "name": "stdout",
     "output_type": "stream",
     "text": [
      "{'metrics/precision(B)': 0.15238, 'metrics/recall(B)': 0.22204, 'metrics/mAP50(B)': 0.08106, 'metrics/mAP50-95(B)': 0.0198, 'val/box_loss': 2.8927, 'val/cls_loss': 2.95931, 'val/dfl_loss': 2.73693}\n",
      "\n",
      "Actual mAP50 : 0.0811\n",
      "\n",
      "Best actual metric : 0.3121 on epoch 1\n"
     ]
    },
    {
     "name": "stderr",
     "output_type": "stream",
     "text": [
      "                 Class     Images  Instances      Box(P          R      mAP50  mAP50-95): 100%|██████████| 12/12 [00:06<00:00,  2.00it/s]"
     ]
    },
    {
     "name": "stdout",
     "output_type": "stream",
     "text": [
      "                   all       1056       1216      0.456       0.44      0.398      0.101\n"
     ]
    },
    {
     "name": "stderr",
     "output_type": "stream",
     "text": [
      "\n"
     ]
    },
    {
     "name": "stdout",
     "output_type": "stream",
     "text": [
      "\n",
      "      Epoch    GPU_mem   box_loss   cls_loss   dfl_loss  Instances       Size\n"
     ]
    },
    {
     "name": "stderr",
     "output_type": "stream",
     "text": [
      "      9/300       2.3G      1.769      1.359      1.607         49        384: 100%|██████████| 98/98 [00:21<00:00,  4.48it/s]\n"
     ]
    },
    {
     "name": "stdout",
     "output_type": "stream",
     "text": [
      "{'metrics/precision(B)': 0.45557, 'metrics/recall(B)': 0.43997, 'metrics/mAP50(B)': 0.39832, 'metrics/mAP50-95(B)': 0.10139, 'val/box_loss': 2.60955, 'val/cls_loss': 2.12656, 'val/dfl_loss': 2.33125}\n",
      "\n",
      "Actual mAP50 : 0.3983\n",
      "\n",
      "Best actual metric : 0.3983 on epoch 8\n"
     ]
    },
    {
     "name": "stderr",
     "output_type": "stream",
     "text": [
      "                 Class     Images  Instances      Box(P          R      mAP50  mAP50-95): 100%|██████████| 12/12 [00:05<00:00,  2.12it/s]"
     ]
    },
    {
     "name": "stdout",
     "output_type": "stream",
     "text": [
      "                   all       1056       1216      0.504      0.475      0.399      0.113\n"
     ]
    },
    {
     "name": "stderr",
     "output_type": "stream",
     "text": [
      "\n"
     ]
    },
    {
     "name": "stdout",
     "output_type": "stream",
     "text": [
      "\n",
      "      Epoch    GPU_mem   box_loss   cls_loss   dfl_loss  Instances       Size\n"
     ]
    },
    {
     "name": "stderr",
     "output_type": "stream",
     "text": [
      "     10/300       2.3G      1.731      1.338      1.579         43        384: 100%|██████████| 98/98 [00:21<00:00,  4.48it/s]\n"
     ]
    },
    {
     "name": "stdout",
     "output_type": "stream",
     "text": [
      "{'metrics/precision(B)': 0.504, 'metrics/recall(B)': 0.47533, 'metrics/mAP50(B)': 0.39942, 'metrics/mAP50-95(B)': 0.11264, 'val/box_loss': 2.67852, 'val/cls_loss': 1.8848, 'val/dfl_loss': 2.40928}\n",
      "\n",
      "Actual mAP50 : 0.3994\n",
      "\n",
      "Best actual metric : 0.3994 on epoch 9\n"
     ]
    },
    {
     "name": "stderr",
     "output_type": "stream",
     "text": [
      "                 Class     Images  Instances      Box(P          R      mAP50  mAP50-95): 100%|██████████| 12/12 [00:05<00:00,  2.03it/s]"
     ]
    },
    {
     "name": "stdout",
     "output_type": "stream",
     "text": [
      "                   all       1056       1216      0.419      0.424       0.35      0.102\n"
     ]
    },
    {
     "name": "stderr",
     "output_type": "stream",
     "text": [
      "\n"
     ]
    },
    {
     "name": "stdout",
     "output_type": "stream",
     "text": [
      "\n",
      "      Epoch    GPU_mem   box_loss   cls_loss   dfl_loss  Instances       Size\n"
     ]
    },
    {
     "name": "stderr",
     "output_type": "stream",
     "text": [
      "     11/300       2.3G      1.687      1.277      1.551         52        384: 100%|██████████| 98/98 [00:21<00:00,  4.50it/s]\n"
     ]
    },
    {
     "name": "stdout",
     "output_type": "stream",
     "text": [
      "{'metrics/precision(B)': 0.41911, 'metrics/recall(B)': 0.42352, 'metrics/mAP50(B)': 0.34984, 'metrics/mAP50-95(B)': 0.10242, 'val/box_loss': 2.53739, 'val/cls_loss': 2.15449, 'val/dfl_loss': 2.39113}\n",
      "\n",
      "Actual mAP50 : 0.3498\n",
      "\n",
      "Best actual metric : 0.3994 on epoch 9\n"
     ]
    },
    {
     "name": "stderr",
     "output_type": "stream",
     "text": [
      "                 Class     Images  Instances      Box(P          R      mAP50  mAP50-95): 100%|██████████| 12/12 [00:05<00:00,  2.02it/s]"
     ]
    },
    {
     "name": "stdout",
     "output_type": "stream",
     "text": [
      "                   all       1056       1216      0.338      0.302      0.244     0.0713\n"
     ]
    },
    {
     "name": "stderr",
     "output_type": "stream",
     "text": [
      "\n"
     ]
    },
    {
     "name": "stdout",
     "output_type": "stream",
     "text": [
      "\n",
      "      Epoch    GPU_mem   box_loss   cls_loss   dfl_loss  Instances       Size\n"
     ]
    },
    {
     "name": "stderr",
     "output_type": "stream",
     "text": [
      "     12/300       2.3G      1.677      1.224      1.536         46        384: 100%|██████████| 98/98 [00:21<00:00,  4.46it/s]\n"
     ]
    },
    {
     "name": "stdout",
     "output_type": "stream",
     "text": [
      "{'metrics/precision(B)': 0.33752, 'metrics/recall(B)': 0.30181, 'metrics/mAP50(B)': 0.24359, 'metrics/mAP50-95(B)': 0.07128, 'val/box_loss': 2.50876, 'val/cls_loss': 2.55869, 'val/dfl_loss': 2.34635}\n",
      "\n",
      "Actual mAP50 : 0.2436\n",
      "\n",
      "Best actual metric : 0.3994 on epoch 9\n"
     ]
    },
    {
     "name": "stderr",
     "output_type": "stream",
     "text": [
      "                 Class     Images  Instances      Box(P          R      mAP50  mAP50-95): 100%|██████████| 12/12 [00:05<00:00,  2.05it/s]"
     ]
    },
    {
     "name": "stdout",
     "output_type": "stream",
     "text": [
      "                   all       1056       1216      0.422      0.347      0.294     0.0849\n"
     ]
    },
    {
     "name": "stderr",
     "output_type": "stream",
     "text": [
      "\n"
     ]
    },
    {
     "name": "stdout",
     "output_type": "stream",
     "text": [
      "\n",
      "      Epoch    GPU_mem   box_loss   cls_loss   dfl_loss  Instances       Size\n"
     ]
    },
    {
     "name": "stderr",
     "output_type": "stream",
     "text": [
      "     13/300      2.31G      1.651      1.201      1.526         39        384: 100%|██████████| 98/98 [00:21<00:00,  4.54it/s]\n"
     ]
    },
    {
     "name": "stdout",
     "output_type": "stream",
     "text": [
      "{'metrics/precision(B)': 0.42165, 'metrics/recall(B)': 0.34704, 'metrics/mAP50(B)': 0.29404, 'metrics/mAP50-95(B)': 0.08494, 'val/box_loss': 2.71323, 'val/cls_loss': 2.19487, 'val/dfl_loss': 2.51242}\n",
      "\n",
      "Actual mAP50 : 0.294\n",
      "\n",
      "Best actual metric : 0.3994 on epoch 9\n"
     ]
    },
    {
     "name": "stderr",
     "output_type": "stream",
     "text": [
      "                 Class     Images  Instances      Box(P          R      mAP50  mAP50-95): 100%|██████████| 12/12 [00:05<00:00,  2.02it/s]"
     ]
    },
    {
     "name": "stdout",
     "output_type": "stream",
     "text": [
      "                   all       1056       1216      0.439      0.383       0.33      0.105\n"
     ]
    },
    {
     "name": "stderr",
     "output_type": "stream",
     "text": [
      "\n"
     ]
    },
    {
     "name": "stdout",
     "output_type": "stream",
     "text": [
      "\n",
      "      Epoch    GPU_mem   box_loss   cls_loss   dfl_loss  Instances       Size\n"
     ]
    },
    {
     "name": "stderr",
     "output_type": "stream",
     "text": [
      "     14/300       2.3G      1.626      1.185      1.512         49        384: 100%|██████████| 98/98 [00:21<00:00,  4.54it/s]\n"
     ]
    },
    {
     "name": "stdout",
     "output_type": "stream",
     "text": [
      "{'metrics/precision(B)': 0.43851, 'metrics/recall(B)': 0.38322, 'metrics/mAP50(B)': 0.33023, 'metrics/mAP50-95(B)': 0.10459, 'val/box_loss': 2.61673, 'val/cls_loss': 1.97728, 'val/dfl_loss': 2.47082}\n",
      "\n",
      "Actual mAP50 : 0.3302\n",
      "\n",
      "Best actual metric : 0.3994 on epoch 9\n"
     ]
    },
    {
     "name": "stderr",
     "output_type": "stream",
     "text": [
      "                 Class     Images  Instances      Box(P          R      mAP50  mAP50-95): 100%|██████████| 12/12 [00:05<00:00,  2.02it/s]"
     ]
    },
    {
     "name": "stdout",
     "output_type": "stream",
     "text": [
      "                   all       1056       1216      0.276      0.334      0.197     0.0521\n"
     ]
    },
    {
     "name": "stderr",
     "output_type": "stream",
     "text": [
      "\n"
     ]
    },
    {
     "name": "stdout",
     "output_type": "stream",
     "text": [
      "\n",
      "      Epoch    GPU_mem   box_loss   cls_loss   dfl_loss  Instances       Size\n"
     ]
    },
    {
     "name": "stderr",
     "output_type": "stream",
     "text": [
      "     15/300       2.3G      1.606      1.149      1.486         44        384: 100%|██████████| 98/98 [00:21<00:00,  4.48it/s]\n"
     ]
    },
    {
     "name": "stdout",
     "output_type": "stream",
     "text": [
      "{'metrics/precision(B)': 0.27621, 'metrics/recall(B)': 0.3336, 'metrics/mAP50(B)': 0.19714, 'metrics/mAP50-95(B)': 0.05207, 'val/box_loss': 2.80941, 'val/cls_loss': 2.19482, 'val/dfl_loss': 2.59228}\n",
      "\n",
      "Actual mAP50 : 0.1971\n",
      "\n",
      "Best actual metric : 0.3994 on epoch 9\n"
     ]
    },
    {
     "name": "stderr",
     "output_type": "stream",
     "text": [
      "                 Class     Images  Instances      Box(P          R      mAP50  mAP50-95): 100%|██████████| 12/12 [00:05<00:00,  2.00it/s]"
     ]
    },
    {
     "name": "stdout",
     "output_type": "stream",
     "text": [
      "                   all       1056       1216      0.371       0.42      0.249     0.0851\n"
     ]
    },
    {
     "name": "stderr",
     "output_type": "stream",
     "text": [
      "\n"
     ]
    },
    {
     "name": "stdout",
     "output_type": "stream",
     "text": [
      "\n",
      "      Epoch    GPU_mem   box_loss   cls_loss   dfl_loss  Instances       Size\n"
     ]
    },
    {
     "name": "stderr",
     "output_type": "stream",
     "text": [
      "     16/300      2.32G        1.6      1.142      1.485         49        384: 100%|██████████| 98/98 [00:21<00:00,  4.49it/s]\n"
     ]
    },
    {
     "name": "stdout",
     "output_type": "stream",
     "text": [
      "{'metrics/precision(B)': 0.37145, 'metrics/recall(B)': 0.42023, 'metrics/mAP50(B)': 0.2487, 'metrics/mAP50-95(B)': 0.08509, 'val/box_loss': 2.81655, 'val/cls_loss': 2.3932, 'val/dfl_loss': 2.77232}\n",
      "\n",
      "Actual mAP50 : 0.2487\n",
      "\n",
      "Best actual metric : 0.3994 on epoch 9\n"
     ]
    },
    {
     "name": "stderr",
     "output_type": "stream",
     "text": [
      "                 Class     Images  Instances      Box(P          R      mAP50  mAP50-95): 100%|██████████| 12/12 [00:05<00:00,  2.02it/s]"
     ]
    },
    {
     "name": "stdout",
     "output_type": "stream",
     "text": [
      "                   all       1056       1216      0.361       0.32      0.242     0.0581\n"
     ]
    },
    {
     "name": "stderr",
     "output_type": "stream",
     "text": [
      "\n"
     ]
    },
    {
     "name": "stdout",
     "output_type": "stream",
     "text": [
      "\n",
      "      Epoch    GPU_mem   box_loss   cls_loss   dfl_loss  Instances       Size\n"
     ]
    },
    {
     "name": "stderr",
     "output_type": "stream",
     "text": [
      "     17/300      2.32G      1.575      1.103       1.47         48        384: 100%|██████████| 98/98 [00:21<00:00,  4.54it/s]\n"
     ]
    },
    {
     "name": "stdout",
     "output_type": "stream",
     "text": [
      "{'metrics/precision(B)': 0.36095, 'metrics/recall(B)': 0.3199, 'metrics/mAP50(B)': 0.24249, 'metrics/mAP50-95(B)': 0.05809, 'val/box_loss': 2.657, 'val/cls_loss': 2.30484, 'val/dfl_loss': 2.49331}\n",
      "\n",
      "Actual mAP50 : 0.2425\n",
      "\n",
      "Best actual metric : 0.3994 on epoch 9\n"
     ]
    },
    {
     "name": "stderr",
     "output_type": "stream",
     "text": [
      "                 Class     Images  Instances      Box(P          R      mAP50  mAP50-95): 100%|██████████| 12/12 [00:05<00:00,  2.03it/s]"
     ]
    },
    {
     "name": "stdout",
     "output_type": "stream",
     "text": [
      "                   all       1056       1216      0.351      0.271      0.208     0.0531\n"
     ]
    },
    {
     "name": "stderr",
     "output_type": "stream",
     "text": [
      "\n"
     ]
    },
    {
     "name": "stdout",
     "output_type": "stream",
     "text": [
      "\n",
      "      Epoch    GPU_mem   box_loss   cls_loss   dfl_loss  Instances       Size\n"
     ]
    },
    {
     "name": "stderr",
     "output_type": "stream",
     "text": [
      "     18/300      2.32G      1.559      1.096      1.465         47        384: 100%|██████████| 98/98 [00:21<00:00,  4.46it/s]\n"
     ]
    },
    {
     "name": "stdout",
     "output_type": "stream",
     "text": [
      "{'metrics/precision(B)': 0.35092, 'metrics/recall(B)': 0.27138, 'metrics/mAP50(B)': 0.20764, 'metrics/mAP50-95(B)': 0.05305, 'val/box_loss': 2.81568, 'val/cls_loss': 2.65822, 'val/dfl_loss': 2.66778}\n",
      "\n",
      "Actual mAP50 : 0.2076\n",
      "\n",
      "Best actual metric : 0.3994 on epoch 9\n"
     ]
    },
    {
     "name": "stderr",
     "output_type": "stream",
     "text": [
      "                 Class     Images  Instances      Box(P          R      mAP50  mAP50-95): 100%|██████████| 12/12 [00:05<00:00,  2.02it/s]"
     ]
    },
    {
     "name": "stdout",
     "output_type": "stream",
     "text": [
      "                   all       1056       1216      0.426      0.405      0.396      0.126\n"
     ]
    },
    {
     "name": "stderr",
     "output_type": "stream",
     "text": [
      "\n"
     ]
    },
    {
     "name": "stdout",
     "output_type": "stream",
     "text": [
      "\n",
      "      Epoch    GPU_mem   box_loss   cls_loss   dfl_loss  Instances       Size\n"
     ]
    },
    {
     "name": "stderr",
     "output_type": "stream",
     "text": [
      "     19/300       2.3G      1.546      1.069      1.443         55        384: 100%|██████████| 98/98 [00:21<00:00,  4.53it/s]\n"
     ]
    },
    {
     "name": "stdout",
     "output_type": "stream",
     "text": [
      "{'metrics/precision(B)': 0.42612, 'metrics/recall(B)': 0.40461, 'metrics/mAP50(B)': 0.39588, 'metrics/mAP50-95(B)': 0.12637, 'val/box_loss': 2.58737, 'val/cls_loss': 2.09551, 'val/dfl_loss': 2.36377}\n",
      "\n",
      "Actual mAP50 : 0.3959\n",
      "\n",
      "Best actual metric : 0.3994 on epoch 9\n"
     ]
    },
    {
     "name": "stderr",
     "output_type": "stream",
     "text": [
      "                 Class     Images  Instances      Box(P          R      mAP50  mAP50-95): 100%|██████████| 12/12 [00:06<00:00,  1.97it/s]"
     ]
    },
    {
     "name": "stdout",
     "output_type": "stream",
     "text": [
      "                   all       1056       1216      0.401      0.322      0.269     0.0834\n"
     ]
    },
    {
     "name": "stderr",
     "output_type": "stream",
     "text": [
      "\n"
     ]
    },
    {
     "name": "stdout",
     "output_type": "stream",
     "text": [
      "\n",
      "      Epoch    GPU_mem   box_loss   cls_loss   dfl_loss  Instances       Size\n"
     ]
    },
    {
     "name": "stderr",
     "output_type": "stream",
     "text": [
      "     20/300       2.3G       1.53      1.045      1.433         40        384: 100%|██████████| 98/98 [00:21<00:00,  4.54it/s]\n"
     ]
    },
    {
     "name": "stdout",
     "output_type": "stream",
     "text": [
      "{'metrics/precision(B)': 0.40078, 'metrics/recall(B)': 0.32155, 'metrics/mAP50(B)': 0.26944, 'metrics/mAP50-95(B)': 0.08338, 'val/box_loss': 2.74069, 'val/cls_loss': 2.38384, 'val/dfl_loss': 2.6217}\n",
      "\n",
      "Actual mAP50 : 0.2694\n",
      "\n",
      "Best actual metric : 0.3994 on epoch 9\n"
     ]
    },
    {
     "name": "stderr",
     "output_type": "stream",
     "text": [
      "                 Class     Images  Instances      Box(P          R      mAP50  mAP50-95): 100%|██████████| 12/12 [00:05<00:00,  2.00it/s]"
     ]
    },
    {
     "name": "stdout",
     "output_type": "stream",
     "text": [
      "                   all       1056       1216      0.341      0.499       0.35     0.0962\n"
     ]
    },
    {
     "name": "stderr",
     "output_type": "stream",
     "text": [
      "\n"
     ]
    },
    {
     "name": "stdout",
     "output_type": "stream",
     "text": [
      "\n",
      "      Epoch    GPU_mem   box_loss   cls_loss   dfl_loss  Instances       Size\n"
     ]
    },
    {
     "name": "stderr",
     "output_type": "stream",
     "text": [
      "     21/300       2.3G      1.526       1.05       1.44         43        384: 100%|██████████| 98/98 [00:21<00:00,  4.50it/s]\n"
     ]
    },
    {
     "name": "stdout",
     "output_type": "stream",
     "text": [
      "{'metrics/precision(B)': 0.34058, 'metrics/recall(B)': 0.49918, 'metrics/mAP50(B)': 0.34961, 'metrics/mAP50-95(B)': 0.09617, 'val/box_loss': 2.58691, 'val/cls_loss': 1.92546, 'val/dfl_loss': 2.38844}\n",
      "\n",
      "Actual mAP50 : 0.3496\n",
      "\n",
      "Best actual metric : 0.3994 on epoch 9\n"
     ]
    },
    {
     "name": "stderr",
     "output_type": "stream",
     "text": [
      "                 Class     Images  Instances      Box(P          R      mAP50  mAP50-95): 100%|██████████| 12/12 [00:05<00:00,  2.04it/s]"
     ]
    },
    {
     "name": "stdout",
     "output_type": "stream",
     "text": [
      "                   all       1056       1216      0.467      0.451      0.396      0.115\n"
     ]
    },
    {
     "name": "stderr",
     "output_type": "stream",
     "text": [
      "\n"
     ]
    },
    {
     "name": "stdout",
     "output_type": "stream",
     "text": [
      "\n",
      "      Epoch    GPU_mem   box_loss   cls_loss   dfl_loss  Instances       Size\n"
     ]
    },
    {
     "name": "stderr",
     "output_type": "stream",
     "text": [
      "     22/300       2.3G      1.505      1.023      1.414         50        384: 100%|██████████| 98/98 [00:21<00:00,  4.51it/s]\n"
     ]
    },
    {
     "name": "stdout",
     "output_type": "stream",
     "text": [
      "{'metrics/precision(B)': 0.46696, 'metrics/recall(B)': 0.45066, 'metrics/mAP50(B)': 0.39563, 'metrics/mAP50-95(B)': 0.11521, 'val/box_loss': 2.66432, 'val/cls_loss': 1.81272, 'val/dfl_loss': 2.46355}\n",
      "\n",
      "Actual mAP50 : 0.3956\n",
      "\n",
      "Best actual metric : 0.3994 on epoch 9\n"
     ]
    },
    {
     "name": "stderr",
     "output_type": "stream",
     "text": [
      "                 Class     Images  Instances      Box(P          R      mAP50  mAP50-95): 100%|██████████| 12/12 [00:06<00:00,  1.99it/s]"
     ]
    },
    {
     "name": "stdout",
     "output_type": "stream",
     "text": [
      "                   all       1056       1216      0.503      0.327      0.332     0.0861\n"
     ]
    },
    {
     "name": "stderr",
     "output_type": "stream",
     "text": [
      "\n"
     ]
    },
    {
     "name": "stdout",
     "output_type": "stream",
     "text": [
      "\n",
      "      Epoch    GPU_mem   box_loss   cls_loss   dfl_loss  Instances       Size\n"
     ]
    },
    {
     "name": "stderr",
     "output_type": "stream",
     "text": [
      "     23/300      2.31G      1.486      1.019      1.423         46        384: 100%|██████████| 98/98 [00:21<00:00,  4.52it/s]\n"
     ]
    },
    {
     "name": "stdout",
     "output_type": "stream",
     "text": [
      "{'metrics/precision(B)': 0.50297, 'metrics/recall(B)': 0.3273, 'metrics/mAP50(B)': 0.33175, 'metrics/mAP50-95(B)': 0.08614, 'val/box_loss': 2.84022, 'val/cls_loss': 2.24996, 'val/dfl_loss': 2.61589}\n",
      "\n",
      "Actual mAP50 : 0.3317\n",
      "\n",
      "Best actual metric : 0.3994 on epoch 9\n"
     ]
    },
    {
     "name": "stderr",
     "output_type": "stream",
     "text": [
      "                 Class     Images  Instances      Box(P          R      mAP50  mAP50-95): 100%|██████████| 12/12 [00:06<00:00,  1.98it/s]"
     ]
    },
    {
     "name": "stdout",
     "output_type": "stream",
     "text": [
      "                   all       1056       1216      0.462      0.427      0.393      0.118\n"
     ]
    },
    {
     "name": "stderr",
     "output_type": "stream",
     "text": [
      "\n"
     ]
    },
    {
     "name": "stdout",
     "output_type": "stream",
     "text": [
      "\n",
      "      Epoch    GPU_mem   box_loss   cls_loss   dfl_loss  Instances       Size\n"
     ]
    },
    {
     "name": "stderr",
     "output_type": "stream",
     "text": [
      "     24/300       2.3G      1.477     0.9987       1.41         51        384: 100%|██████████| 98/98 [00:22<00:00,  4.45it/s]\n"
     ]
    },
    {
     "name": "stdout",
     "output_type": "stream",
     "text": [
      "{'metrics/precision(B)': 0.46215, 'metrics/recall(B)': 0.42681, 'metrics/mAP50(B)': 0.3929, 'metrics/mAP50-95(B)': 0.11755, 'val/box_loss': 2.6424, 'val/cls_loss': 1.79718, 'val/dfl_loss': 2.43045}\n",
      "\n",
      "Actual mAP50 : 0.3929\n",
      "\n",
      "Best actual metric : 0.3994 on epoch 9\n"
     ]
    },
    {
     "name": "stderr",
     "output_type": "stream",
     "text": [
      "                 Class     Images  Instances      Box(P          R      mAP50  mAP50-95): 100%|██████████| 12/12 [00:06<00:00,  1.98it/s]"
     ]
    },
    {
     "name": "stdout",
     "output_type": "stream",
     "text": [
      "                   all       1056       1216      0.528      0.484      0.451      0.137\n"
     ]
    },
    {
     "name": "stderr",
     "output_type": "stream",
     "text": [
      "\n"
     ]
    },
    {
     "name": "stdout",
     "output_type": "stream",
     "text": [
      "\n",
      "      Epoch    GPU_mem   box_loss   cls_loss   dfl_loss  Instances       Size\n"
     ]
    },
    {
     "name": "stderr",
     "output_type": "stream",
     "text": [
      "     25/300      2.32G      1.465     0.9881      1.392         45        384: 100%|██████████| 98/98 [00:22<00:00,  4.42it/s]\n"
     ]
    },
    {
     "name": "stdout",
     "output_type": "stream",
     "text": [
      "{'metrics/precision(B)': 0.52824, 'metrics/recall(B)': 0.48438, 'metrics/mAP50(B)': 0.45102, 'metrics/mAP50-95(B)': 0.13696, 'val/box_loss': 2.51538, 'val/cls_loss': 1.78985, 'val/dfl_loss': 2.40424}\n",
      "\n",
      "Actual mAP50 : 0.451\n",
      "\n",
      "Best actual metric : 0.451 on epoch 24\n"
     ]
    },
    {
     "name": "stderr",
     "output_type": "stream",
     "text": [
      "                 Class     Images  Instances      Box(P          R      mAP50  mAP50-95): 100%|██████████| 12/12 [00:05<00:00,  2.08it/s]"
     ]
    },
    {
     "name": "stdout",
     "output_type": "stream",
     "text": [
      "                   all       1056       1216      0.381      0.429      0.345     0.0904\n"
     ]
    },
    {
     "name": "stderr",
     "output_type": "stream",
     "text": [
      "\n"
     ]
    },
    {
     "name": "stdout",
     "output_type": "stream",
     "text": [
      "\n",
      "      Epoch    GPU_mem   box_loss   cls_loss   dfl_loss  Instances       Size\n"
     ]
    },
    {
     "name": "stderr",
     "output_type": "stream",
     "text": [
      "     26/300       2.3G      1.457     0.9867      1.383         40        384: 100%|██████████| 98/98 [00:21<00:00,  4.53it/s]\n"
     ]
    },
    {
     "name": "stdout",
     "output_type": "stream",
     "text": [
      "{'metrics/precision(B)': 0.38097, 'metrics/recall(B)': 0.42928, 'metrics/mAP50(B)': 0.3448, 'metrics/mAP50-95(B)': 0.0904, 'val/box_loss': 2.60395, 'val/cls_loss': 2.02171, 'val/dfl_loss': 2.4289}\n",
      "\n",
      "Actual mAP50 : 0.3448\n",
      "\n",
      "Best actual metric : 0.451 on epoch 24\n"
     ]
    },
    {
     "name": "stderr",
     "output_type": "stream",
     "text": [
      "                 Class     Images  Instances      Box(P          R      mAP50  mAP50-95): 100%|██████████| 12/12 [00:05<00:00,  2.01it/s]"
     ]
    },
    {
     "name": "stdout",
     "output_type": "stream",
     "text": [
      "                   all       1056       1216      0.473      0.442      0.404      0.119\n"
     ]
    },
    {
     "name": "stderr",
     "output_type": "stream",
     "text": [
      "\n"
     ]
    },
    {
     "name": "stdout",
     "output_type": "stream",
     "text": [
      "\n",
      "      Epoch    GPU_mem   box_loss   cls_loss   dfl_loss  Instances       Size\n"
     ]
    },
    {
     "name": "stderr",
     "output_type": "stream",
     "text": [
      "     27/300       2.3G      1.438     0.9777       1.38         48        384: 100%|██████████| 98/98 [00:21<00:00,  4.47it/s]\n"
     ]
    },
    {
     "name": "stdout",
     "output_type": "stream",
     "text": [
      "{'metrics/precision(B)': 0.47276, 'metrics/recall(B)': 0.44161, 'metrics/mAP50(B)': 0.40413, 'metrics/mAP50-95(B)': 0.11858, 'val/box_loss': 2.63869, 'val/cls_loss': 1.89484, 'val/dfl_loss': 2.47823}\n",
      "\n",
      "Actual mAP50 : 0.4041\n",
      "\n",
      "Best actual metric : 0.451 on epoch 24\n"
     ]
    },
    {
     "name": "stderr",
     "output_type": "stream",
     "text": [
      "                 Class     Images  Instances      Box(P          R      mAP50  mAP50-95): 100%|██████████| 12/12 [00:06<00:00,  1.95it/s]"
     ]
    },
    {
     "name": "stdout",
     "output_type": "stream",
     "text": [
      "                   all       1056       1216      0.633      0.439      0.517      0.148\n"
     ]
    },
    {
     "name": "stderr",
     "output_type": "stream",
     "text": [
      "\n"
     ]
    },
    {
     "name": "stdout",
     "output_type": "stream",
     "text": [
      "\n",
      "      Epoch    GPU_mem   box_loss   cls_loss   dfl_loss  Instances       Size\n"
     ]
    },
    {
     "name": "stderr",
     "output_type": "stream",
     "text": [
      "     28/300      2.31G      1.429     0.9603      1.371         44        384: 100%|██████████| 98/98 [00:21<00:00,  4.48it/s]\n"
     ]
    },
    {
     "name": "stdout",
     "output_type": "stream",
     "text": [
      "{'metrics/precision(B)': 0.63317, 'metrics/recall(B)': 0.4386, 'metrics/mAP50(B)': 0.51658, 'metrics/mAP50-95(B)': 0.14837, 'val/box_loss': 2.58389, 'val/cls_loss': 1.71002, 'val/dfl_loss': 2.42879}\n",
      "\n",
      "Actual mAP50 : 0.5166\n",
      "\n",
      "Best actual metric : 0.5166 on epoch 27\n"
     ]
    },
    {
     "name": "stderr",
     "output_type": "stream",
     "text": [
      "                 Class     Images  Instances      Box(P          R      mAP50  mAP50-95): 100%|██████████| 12/12 [00:05<00:00,  2.00it/s]"
     ]
    },
    {
     "name": "stdout",
     "output_type": "stream",
     "text": [
      "                   all       1056       1216      0.546      0.418      0.393      0.124\n"
     ]
    },
    {
     "name": "stderr",
     "output_type": "stream",
     "text": [
      "\n"
     ]
    },
    {
     "name": "stdout",
     "output_type": "stream",
     "text": [
      "\n",
      "      Epoch    GPU_mem   box_loss   cls_loss   dfl_loss  Instances       Size\n"
     ]
    },
    {
     "name": "stderr",
     "output_type": "stream",
     "text": [
      "     29/300      2.31G      1.435     0.9489      1.371         42        384: 100%|██████████| 98/98 [00:21<00:00,  4.47it/s]\n"
     ]
    },
    {
     "name": "stdout",
     "output_type": "stream",
     "text": [
      "{'metrics/precision(B)': 0.5462, 'metrics/recall(B)': 0.41776, 'metrics/mAP50(B)': 0.39343, 'metrics/mAP50-95(B)': 0.12415, 'val/box_loss': 2.77953, 'val/cls_loss': 1.75673, 'val/dfl_loss': 2.75203}\n",
      "\n",
      "Actual mAP50 : 0.3934\n",
      "\n",
      "Best actual metric : 0.5166 on epoch 27\n"
     ]
    },
    {
     "name": "stderr",
     "output_type": "stream",
     "text": [
      "                 Class     Images  Instances      Box(P          R      mAP50  mAP50-95): 100%|██████████| 12/12 [00:05<00:00,  2.04it/s]"
     ]
    },
    {
     "name": "stdout",
     "output_type": "stream",
     "text": [
      "                   all       1056       1216      0.496      0.418      0.362      0.107\n"
     ]
    },
    {
     "name": "stderr",
     "output_type": "stream",
     "text": [
      "\n"
     ]
    },
    {
     "name": "stdout",
     "output_type": "stream",
     "text": [
      "\n",
      "      Epoch    GPU_mem   box_loss   cls_loss   dfl_loss  Instances       Size\n"
     ]
    },
    {
     "name": "stderr",
     "output_type": "stream",
     "text": [
      "     30/300      2.31G      1.421     0.9456      1.366         48        384: 100%|██████████| 98/98 [00:21<00:00,  4.46it/s]\n"
     ]
    },
    {
     "name": "stdout",
     "output_type": "stream",
     "text": [
      "{'metrics/precision(B)': 0.49641, 'metrics/recall(B)': 0.41776, 'metrics/mAP50(B)': 0.36241, 'metrics/mAP50-95(B)': 0.1068, 'val/box_loss': 2.61463, 'val/cls_loss': 1.82014, 'val/dfl_loss': 2.51576}\n",
      "\n",
      "Actual mAP50 : 0.3624\n",
      "\n",
      "Best actual metric : 0.5166 on epoch 27\n"
     ]
    },
    {
     "name": "stderr",
     "output_type": "stream",
     "text": [
      "                 Class     Images  Instances      Box(P          R      mAP50  mAP50-95): 100%|██████████| 12/12 [00:05<00:00,  2.03it/s]"
     ]
    },
    {
     "name": "stdout",
     "output_type": "stream",
     "text": [
      "                   all       1056       1216       0.45      0.459      0.377      0.102\n"
     ]
    },
    {
     "name": "stderr",
     "output_type": "stream",
     "text": [
      "\n"
     ]
    },
    {
     "name": "stdout",
     "output_type": "stream",
     "text": [
      "\n",
      "      Epoch    GPU_mem   box_loss   cls_loss   dfl_loss  Instances       Size\n"
     ]
    },
    {
     "name": "stderr",
     "output_type": "stream",
     "text": [
      "     31/300      2.31G        1.4     0.9233      1.356         30        384: 100%|██████████| 98/98 [00:22<00:00,  4.34it/s]\n"
     ]
    },
    {
     "name": "stdout",
     "output_type": "stream",
     "text": [
      "{'metrics/precision(B)': 0.44956, 'metrics/recall(B)': 0.45888, 'metrics/mAP50(B)': 0.37698, 'metrics/mAP50-95(B)': 0.10245, 'val/box_loss': 2.81428, 'val/cls_loss': 1.80283, 'val/dfl_loss': 2.74153}\n",
      "\n",
      "Actual mAP50 : 0.377\n",
      "\n",
      "Best actual metric : 0.5166 on epoch 27\n"
     ]
    },
    {
     "name": "stderr",
     "output_type": "stream",
     "text": [
      "                 Class     Images  Instances      Box(P          R      mAP50  mAP50-95): 100%|██████████| 12/12 [00:05<00:00,  2.13it/s]"
     ]
    },
    {
     "name": "stdout",
     "output_type": "stream",
     "text": [
      "                   all       1056       1216      0.466      0.424      0.402      0.108\n"
     ]
    },
    {
     "name": "stderr",
     "output_type": "stream",
     "text": [
      "\n"
     ]
    },
    {
     "name": "stdout",
     "output_type": "stream",
     "text": [
      "\n",
      "      Epoch    GPU_mem   box_loss   cls_loss   dfl_loss  Instances       Size\n"
     ]
    },
    {
     "name": "stderr",
     "output_type": "stream",
     "text": [
      "     32/300      2.31G      1.407     0.9319       1.35         44        384: 100%|██████████| 98/98 [00:22<00:00,  4.45it/s]\n"
     ]
    },
    {
     "name": "stdout",
     "output_type": "stream",
     "text": [
      "{'metrics/precision(B)': 0.46637, 'metrics/recall(B)': 0.42405, 'metrics/mAP50(B)': 0.40166, 'metrics/mAP50-95(B)': 0.10766, 'val/box_loss': 2.74462, 'val/cls_loss': 1.87316, 'val/dfl_loss': 2.61502}\n",
      "\n",
      "Actual mAP50 : 0.4017\n",
      "\n",
      "Best actual metric : 0.5166 on epoch 27\n"
     ]
    },
    {
     "name": "stderr",
     "output_type": "stream",
     "text": [
      "                 Class     Images  Instances      Box(P          R      mAP50  mAP50-95): 100%|██████████| 12/12 [00:06<00:00,  1.98it/s]"
     ]
    },
    {
     "name": "stdout",
     "output_type": "stream",
     "text": [
      "                   all       1056       1216      0.432      0.483      0.431      0.147\n"
     ]
    },
    {
     "name": "stderr",
     "output_type": "stream",
     "text": [
      "\n"
     ]
    },
    {
     "name": "stdout",
     "output_type": "stream",
     "text": [
      "\n",
      "      Epoch    GPU_mem   box_loss   cls_loss   dfl_loss  Instances       Size\n"
     ]
    },
    {
     "name": "stderr",
     "output_type": "stream",
     "text": [
      "     33/300       2.3G      1.395     0.9124      1.345         54        384: 100%|██████████| 98/98 [00:22<00:00,  4.44it/s]\n"
     ]
    },
    {
     "name": "stdout",
     "output_type": "stream",
     "text": [
      "{'metrics/precision(B)': 0.43179, 'metrics/recall(B)': 0.48273, 'metrics/mAP50(B)': 0.43134, 'metrics/mAP50-95(B)': 0.14702, 'val/box_loss': 2.58232, 'val/cls_loss': 1.75767, 'val/dfl_loss': 2.58744}\n",
      "\n",
      "Actual mAP50 : 0.4313\n",
      "\n",
      "Best actual metric : 0.5166 on epoch 27\n"
     ]
    },
    {
     "name": "stderr",
     "output_type": "stream",
     "text": [
      "                 Class     Images  Instances      Box(P          R      mAP50  mAP50-95): 100%|██████████| 12/12 [00:05<00:00,  2.04it/s]"
     ]
    },
    {
     "name": "stdout",
     "output_type": "stream",
     "text": [
      "                   all       1056       1216      0.601      0.423      0.455      0.131\n"
     ]
    },
    {
     "name": "stderr",
     "output_type": "stream",
     "text": [
      "\n"
     ]
    },
    {
     "name": "stdout",
     "output_type": "stream",
     "text": [
      "\n",
      "      Epoch    GPU_mem   box_loss   cls_loss   dfl_loss  Instances       Size\n"
     ]
    },
    {
     "name": "stderr",
     "output_type": "stream",
     "text": [
      "     34/300      2.31G      1.393     0.9173      1.346         44        384: 100%|██████████| 98/98 [00:21<00:00,  4.52it/s]\n"
     ]
    },
    {
     "name": "stdout",
     "output_type": "stream",
     "text": [
      "{'metrics/precision(B)': 0.60123, 'metrics/recall(B)': 0.4227, 'metrics/mAP50(B)': 0.45501, 'metrics/mAP50-95(B)': 0.13149, 'val/box_loss': 2.69324, 'val/cls_loss': 1.76117, 'val/dfl_loss': 2.6027}\n",
      "\n",
      "Actual mAP50 : 0.455\n",
      "\n",
      "Best actual metric : 0.5166 on epoch 27\n"
     ]
    },
    {
     "name": "stderr",
     "output_type": "stream",
     "text": [
      "                 Class     Images  Instances      Box(P          R      mAP50  mAP50-95): 100%|██████████| 12/12 [00:06<00:00,  1.97it/s]"
     ]
    },
    {
     "name": "stdout",
     "output_type": "stream",
     "text": [
      "                   all       1056       1216      0.459      0.421      0.371      0.109\n"
     ]
    },
    {
     "name": "stderr",
     "output_type": "stream",
     "text": [
      "\n"
     ]
    },
    {
     "name": "stdout",
     "output_type": "stream",
     "text": [
      "\n",
      "      Epoch    GPU_mem   box_loss   cls_loss   dfl_loss  Instances       Size\n"
     ]
    },
    {
     "name": "stderr",
     "output_type": "stream",
     "text": [
      "     35/300       2.3G      1.374     0.9037       1.33         49        384: 100%|██████████| 98/98 [00:21<00:00,  4.51it/s]\n"
     ]
    },
    {
     "name": "stdout",
     "output_type": "stream",
     "text": [
      "{'metrics/precision(B)': 0.45907, 'metrics/recall(B)': 0.42105, 'metrics/mAP50(B)': 0.37087, 'metrics/mAP50-95(B)': 0.10882, 'val/box_loss': 2.69414, 'val/cls_loss': 1.84151, 'val/dfl_loss': 2.58349}\n",
      "\n",
      "Actual mAP50 : 0.3709\n",
      "\n",
      "Best actual metric : 0.5166 on epoch 27\n"
     ]
    },
    {
     "name": "stderr",
     "output_type": "stream",
     "text": [
      "                 Class     Images  Instances      Box(P          R      mAP50  mAP50-95): 100%|██████████| 12/12 [00:05<00:00,  2.02it/s]"
     ]
    },
    {
     "name": "stdout",
     "output_type": "stream",
     "text": [
      "                   all       1056       1216      0.541      0.424      0.377      0.118\n"
     ]
    },
    {
     "name": "stderr",
     "output_type": "stream",
     "text": [
      "\n"
     ]
    },
    {
     "name": "stdout",
     "output_type": "stream",
     "text": [
      "\n",
      "      Epoch    GPU_mem   box_loss   cls_loss   dfl_loss  Instances       Size\n"
     ]
    },
    {
     "name": "stderr",
     "output_type": "stream",
     "text": [
      "     36/300       2.3G      1.366     0.8871      1.321         50        384: 100%|██████████| 98/98 [00:21<00:00,  4.48it/s]\n"
     ]
    },
    {
     "name": "stdout",
     "output_type": "stream",
     "text": [
      "{'metrics/precision(B)': 0.54117, 'metrics/recall(B)': 0.42434, 'metrics/mAP50(B)': 0.37748, 'metrics/mAP50-95(B)': 0.11774, 'val/box_loss': 2.77746, 'val/cls_loss': 1.72809, 'val/dfl_loss': 2.63804}\n",
      "\n",
      "Actual mAP50 : 0.3775\n",
      "\n",
      "Best actual metric : 0.5166 on epoch 27\n"
     ]
    },
    {
     "name": "stderr",
     "output_type": "stream",
     "text": [
      "                 Class     Images  Instances      Box(P          R      mAP50  mAP50-95): 100%|██████████| 12/12 [00:05<00:00,  2.02it/s]"
     ]
    },
    {
     "name": "stdout",
     "output_type": "stream",
     "text": [
      "                   all       1056       1216      0.484      0.465      0.401      0.125\n"
     ]
    },
    {
     "name": "stderr",
     "output_type": "stream",
     "text": [
      "\n"
     ]
    },
    {
     "name": "stdout",
     "output_type": "stream",
     "text": [
      "\n",
      "      Epoch    GPU_mem   box_loss   cls_loss   dfl_loss  Instances       Size\n"
     ]
    },
    {
     "name": "stderr",
     "output_type": "stream",
     "text": [
      "     37/300       2.3G      1.354     0.8774      1.313         54        384: 100%|██████████| 98/98 [00:21<00:00,  4.49it/s]\n"
     ]
    },
    {
     "name": "stdout",
     "output_type": "stream",
     "text": [
      "{'metrics/precision(B)': 0.48377, 'metrics/recall(B)': 0.46471, 'metrics/mAP50(B)': 0.40095, 'metrics/mAP50-95(B)': 0.12499, 'val/box_loss': 2.75783, 'val/cls_loss': 1.78438, 'val/dfl_loss': 2.67318}\n",
      "\n",
      "Actual mAP50 : 0.4009\n",
      "\n",
      "Best actual metric : 0.5166 on epoch 27\n"
     ]
    },
    {
     "name": "stderr",
     "output_type": "stream",
     "text": [
      "                 Class     Images  Instances      Box(P          R      mAP50  mAP50-95): 100%|██████████| 12/12 [00:05<00:00,  2.01it/s]"
     ]
    },
    {
     "name": "stdout",
     "output_type": "stream",
     "text": [
      "                   all       1056       1216      0.559       0.42      0.431      0.134\n"
     ]
    },
    {
     "name": "stderr",
     "output_type": "stream",
     "text": [
      "\n"
     ]
    },
    {
     "name": "stdout",
     "output_type": "stream",
     "text": [
      "\n",
      "      Epoch    GPU_mem   box_loss   cls_loss   dfl_loss  Instances       Size\n"
     ]
    },
    {
     "name": "stderr",
     "output_type": "stream",
     "text": [
      "     38/300      2.32G      1.354      0.891      1.313         55        384: 100%|██████████| 98/98 [00:22<00:00,  4.40it/s]\n"
     ]
    },
    {
     "name": "stdout",
     "output_type": "stream",
     "text": [
      "{'metrics/precision(B)': 0.55861, 'metrics/recall(B)': 0.42023, 'metrics/mAP50(B)': 0.43071, 'metrics/mAP50-95(B)': 0.1344, 'val/box_loss': 2.66553, 'val/cls_loss': 1.72159, 'val/dfl_loss': 2.47576}\n",
      "\n",
      "Actual mAP50 : 0.4307\n",
      "\n",
      "Best actual metric : 0.5166 on epoch 27\n"
     ]
    },
    {
     "name": "stderr",
     "output_type": "stream",
     "text": [
      "                 Class     Images  Instances      Box(P          R      mAP50  mAP50-95): 100%|██████████| 12/12 [00:05<00:00,  2.06it/s]"
     ]
    },
    {
     "name": "stdout",
     "output_type": "stream",
     "text": [
      "                   all       1056       1216      0.533      0.482      0.432      0.129\n"
     ]
    },
    {
     "name": "stderr",
     "output_type": "stream",
     "text": [
      "\n"
     ]
    },
    {
     "name": "stdout",
     "output_type": "stream",
     "text": [
      "\n",
      "      Epoch    GPU_mem   box_loss   cls_loss   dfl_loss  Instances       Size\n"
     ]
    },
    {
     "name": "stderr",
     "output_type": "stream",
     "text": [
      "     39/300       2.3G      1.346     0.8733      1.318         48        384: 100%|██████████| 98/98 [00:21<00:00,  4.49it/s]\n"
     ]
    },
    {
     "name": "stdout",
     "output_type": "stream",
     "text": [
      "{'metrics/precision(B)': 0.53288, 'metrics/recall(B)': 0.48191, 'metrics/mAP50(B)': 0.43201, 'metrics/mAP50-95(B)': 0.12856, 'val/box_loss': 2.71899, 'val/cls_loss': 1.67811, 'val/dfl_loss': 2.56455}\n",
      "\n",
      "Actual mAP50 : 0.432\n",
      "\n",
      "Best actual metric : 0.5166 on epoch 27\n"
     ]
    },
    {
     "name": "stderr",
     "output_type": "stream",
     "text": [
      "                 Class     Images  Instances      Box(P          R      mAP50  mAP50-95): 100%|██████████| 12/12 [00:05<00:00,  2.00it/s]"
     ]
    },
    {
     "name": "stdout",
     "output_type": "stream",
     "text": [
      "                   all       1056       1216      0.491      0.386      0.381      0.117\n"
     ]
    },
    {
     "name": "stderr",
     "output_type": "stream",
     "text": [
      "\n"
     ]
    },
    {
     "name": "stdout",
     "output_type": "stream",
     "text": [
      "\n",
      "      Epoch    GPU_mem   box_loss   cls_loss   dfl_loss  Instances       Size\n"
     ]
    },
    {
     "name": "stderr",
     "output_type": "stream",
     "text": [
      "     40/300       2.3G      1.341     0.8645      1.298         44        384: 100%|██████████| 98/98 [00:21<00:00,  4.46it/s]\n"
     ]
    },
    {
     "name": "stdout",
     "output_type": "stream",
     "text": [
      "{'metrics/precision(B)': 0.49092, 'metrics/recall(B)': 0.38569, 'metrics/mAP50(B)': 0.38138, 'metrics/mAP50-95(B)': 0.11659, 'val/box_loss': 2.75645, 'val/cls_loss': 2.01759, 'val/dfl_loss': 2.64431}\n",
      "\n",
      "Actual mAP50 : 0.3814\n",
      "\n",
      "Best actual metric : 0.5166 on epoch 27\n"
     ]
    },
    {
     "name": "stderr",
     "output_type": "stream",
     "text": [
      "                 Class     Images  Instances      Box(P          R      mAP50  mAP50-95): 100%|██████████| 12/12 [00:05<00:00,  2.05it/s]"
     ]
    },
    {
     "name": "stdout",
     "output_type": "stream",
     "text": [
      "                   all       1056       1216      0.557      0.483      0.466      0.153\n"
     ]
    },
    {
     "name": "stderr",
     "output_type": "stream",
     "text": [
      "\n"
     ]
    },
    {
     "name": "stdout",
     "output_type": "stream",
     "text": [
      "\n",
      "      Epoch    GPU_mem   box_loss   cls_loss   dfl_loss  Instances       Size\n"
     ]
    },
    {
     "name": "stderr",
     "output_type": "stream",
     "text": [
      "     41/300       2.3G       1.34     0.8547      1.297         50        384: 100%|██████████| 98/98 [00:21<00:00,  4.46it/s]\n"
     ]
    },
    {
     "name": "stdout",
     "output_type": "stream",
     "text": [
      "{'metrics/precision(B)': 0.55712, 'metrics/recall(B)': 0.48311, 'metrics/mAP50(B)': 0.46636, 'metrics/mAP50-95(B)': 0.15317, 'val/box_loss': 2.67171, 'val/cls_loss': 1.58148, 'val/dfl_loss': 2.58009}\n",
      "\n",
      "Actual mAP50 : 0.4664\n",
      "\n",
      "Best actual metric : 0.5166 on epoch 27\n"
     ]
    },
    {
     "name": "stderr",
     "output_type": "stream",
     "text": [
      "                 Class     Images  Instances      Box(P          R      mAP50  mAP50-95): 100%|██████████| 12/12 [00:05<00:00,  2.02it/s]"
     ]
    },
    {
     "name": "stdout",
     "output_type": "stream",
     "text": [
      "                   all       1056       1216      0.536      0.367      0.337      0.109\n"
     ]
    },
    {
     "name": "stderr",
     "output_type": "stream",
     "text": [
      "\n"
     ]
    },
    {
     "name": "stdout",
     "output_type": "stream",
     "text": [
      "\n",
      "      Epoch    GPU_mem   box_loss   cls_loss   dfl_loss  Instances       Size\n"
     ]
    },
    {
     "name": "stderr",
     "output_type": "stream",
     "text": [
      "     42/300       2.3G      1.335     0.8609      1.293         49        384: 100%|██████████| 98/98 [00:21<00:00,  4.52it/s]\n"
     ]
    },
    {
     "name": "stdout",
     "output_type": "stream",
     "text": [
      "{'metrics/precision(B)': 0.5359, 'metrics/recall(B)': 0.36678, 'metrics/mAP50(B)': 0.33679, 'metrics/mAP50-95(B)': 0.1093, 'val/box_loss': 2.81448, 'val/cls_loss': 1.93244, 'val/dfl_loss': 2.78253}\n",
      "\n",
      "Actual mAP50 : 0.3368\n",
      "\n",
      "Best actual metric : 0.5166 on epoch 27\n"
     ]
    },
    {
     "name": "stderr",
     "output_type": "stream",
     "text": [
      "                 Class     Images  Instances      Box(P          R      mAP50  mAP50-95): 100%|██████████| 12/12 [00:06<00:00,  1.90it/s]"
     ]
    },
    {
     "name": "stdout",
     "output_type": "stream",
     "text": [
      "                   all       1056       1216      0.481      0.417      0.371       0.11\n"
     ]
    },
    {
     "name": "stderr",
     "output_type": "stream",
     "text": [
      "\n"
     ]
    },
    {
     "name": "stdout",
     "output_type": "stream",
     "text": [
      "\n",
      "      Epoch    GPU_mem   box_loss   cls_loss   dfl_loss  Instances       Size\n"
     ]
    },
    {
     "name": "stderr",
     "output_type": "stream",
     "text": [
      "     43/300      2.31G      1.328     0.8573      1.284         51        384: 100%|██████████| 98/98 [00:21<00:00,  4.49it/s]\n"
     ]
    },
    {
     "name": "stdout",
     "output_type": "stream",
     "text": [
      "{'metrics/precision(B)': 0.48123, 'metrics/recall(B)': 0.41694, 'metrics/mAP50(B)': 0.37122, 'metrics/mAP50-95(B)': 0.10973, 'val/box_loss': 2.67129, 'val/cls_loss': 1.85202, 'val/dfl_loss': 2.57926}\n",
      "\n",
      "Actual mAP50 : 0.3712\n",
      "\n",
      "Best actual metric : 0.5166 on epoch 27\n"
     ]
    },
    {
     "name": "stderr",
     "output_type": "stream",
     "text": [
      "                 Class     Images  Instances      Box(P          R      mAP50  mAP50-95): 100%|██████████| 12/12 [00:06<00:00,  1.95it/s]"
     ]
    },
    {
     "name": "stdout",
     "output_type": "stream",
     "text": [
      "                   all       1056       1216      0.582      0.526      0.489       0.14\n"
     ]
    },
    {
     "name": "stderr",
     "output_type": "stream",
     "text": [
      "\n"
     ]
    },
    {
     "name": "stdout",
     "output_type": "stream",
     "text": [
      "\n",
      "      Epoch    GPU_mem   box_loss   cls_loss   dfl_loss  Instances       Size\n"
     ]
    },
    {
     "name": "stderr",
     "output_type": "stream",
     "text": [
      "     44/300       2.3G      1.313     0.8454      1.283         46        384: 100%|██████████| 98/98 [00:21<00:00,  4.50it/s]\n"
     ]
    },
    {
     "name": "stdout",
     "output_type": "stream",
     "text": [
      "{'metrics/precision(B)': 0.58166, 'metrics/recall(B)': 0.52632, 'metrics/mAP50(B)': 0.48866, 'metrics/mAP50-95(B)': 0.13974, 'val/box_loss': 2.73843, 'val/cls_loss': 1.5236, 'val/dfl_loss': 2.62274}\n",
      "\n",
      "Actual mAP50 : 0.4887\n",
      "\n",
      "Best actual metric : 0.5166 on epoch 27\n"
     ]
    },
    {
     "name": "stderr",
     "output_type": "stream",
     "text": [
      "                 Class     Images  Instances      Box(P          R      mAP50  mAP50-95): 100%|██████████| 12/12 [00:06<00:00,  2.00it/s]"
     ]
    },
    {
     "name": "stdout",
     "output_type": "stream",
     "text": [
      "                   all       1056       1216      0.541      0.418      0.407      0.118\n"
     ]
    },
    {
     "name": "stderr",
     "output_type": "stream",
     "text": [
      "\n"
     ]
    },
    {
     "name": "stdout",
     "output_type": "stream",
     "text": [
      "\n",
      "      Epoch    GPU_mem   box_loss   cls_loss   dfl_loss  Instances       Size\n"
     ]
    },
    {
     "name": "stderr",
     "output_type": "stream",
     "text": [
      "     45/300       2.3G      1.319      0.837      1.281         47        384: 100%|██████████| 98/98 [00:22<00:00,  4.43it/s]\n"
     ]
    },
    {
     "name": "stdout",
     "output_type": "stream",
     "text": [
      "{'metrics/precision(B)': 0.54051, 'metrics/recall(B)': 0.4179, 'metrics/mAP50(B)': 0.40704, 'metrics/mAP50-95(B)': 0.11843, 'val/box_loss': 2.71574, 'val/cls_loss': 1.73721, 'val/dfl_loss': 2.68664}\n",
      "\n",
      "Actual mAP50 : 0.407\n",
      "\n",
      "Best actual metric : 0.5166 on epoch 27\n"
     ]
    },
    {
     "name": "stderr",
     "output_type": "stream",
     "text": [
      "                 Class     Images  Instances      Box(P          R      mAP50  mAP50-95): 100%|██████████| 12/12 [00:05<00:00,  2.05it/s]"
     ]
    },
    {
     "name": "stdout",
     "output_type": "stream",
     "text": [
      "                   all       1056       1216        0.6      0.461      0.489      0.161\n"
     ]
    },
    {
     "name": "stderr",
     "output_type": "stream",
     "text": [
      "\n"
     ]
    },
    {
     "name": "stdout",
     "output_type": "stream",
     "text": [
      "\n",
      "      Epoch    GPU_mem   box_loss   cls_loss   dfl_loss  Instances       Size\n"
     ]
    },
    {
     "name": "stderr",
     "output_type": "stream",
     "text": [
      "     46/300      2.32G      1.319     0.8422      1.278         46        384: 100%|██████████| 98/98 [00:21<00:00,  4.46it/s]\n"
     ]
    },
    {
     "name": "stdout",
     "output_type": "stream",
     "text": [
      "{'metrics/precision(B)': 0.59956, 'metrics/recall(B)': 0.46053, 'metrics/mAP50(B)': 0.48935, 'metrics/mAP50-95(B)': 0.16058, 'val/box_loss': 2.64014, 'val/cls_loss': 1.60434, 'val/dfl_loss': 2.54328}\n",
      "\n",
      "Actual mAP50 : 0.4894\n",
      "\n",
      "Best actual metric : 0.5166 on epoch 27\n"
     ]
    },
    {
     "name": "stderr",
     "output_type": "stream",
     "text": [
      "                 Class     Images  Instances      Box(P          R      mAP50  mAP50-95): 100%|██████████| 12/12 [00:05<00:00,  2.00it/s]"
     ]
    },
    {
     "name": "stdout",
     "output_type": "stream",
     "text": [
      "                   all       1056       1216      0.476      0.498      0.405      0.113\n"
     ]
    },
    {
     "name": "stderr",
     "output_type": "stream",
     "text": [
      "\n"
     ]
    },
    {
     "name": "stdout",
     "output_type": "stream",
     "text": [
      "\n",
      "      Epoch    GPU_mem   box_loss   cls_loss   dfl_loss  Instances       Size\n"
     ]
    },
    {
     "name": "stderr",
     "output_type": "stream",
     "text": [
      "     47/300      2.32G      1.296     0.8373      1.278         40        384: 100%|██████████| 98/98 [00:21<00:00,  4.46it/s]\n"
     ]
    },
    {
     "name": "stdout",
     "output_type": "stream",
     "text": [
      "{'metrics/precision(B)': 0.47626, 'metrics/recall(B)': 0.49753, 'metrics/mAP50(B)': 0.40537, 'metrics/mAP50-95(B)': 0.11315, 'val/box_loss': 2.80351, 'val/cls_loss': 1.67309, 'val/dfl_loss': 2.74736}\n",
      "\n",
      "Actual mAP50 : 0.4054\n",
      "\n",
      "Best actual metric : 0.5166 on epoch 27\n"
     ]
    },
    {
     "name": "stderr",
     "output_type": "stream",
     "text": [
      "                 Class     Images  Instances      Box(P          R      mAP50  mAP50-95): 100%|██████████| 12/12 [00:05<00:00,  2.01it/s]"
     ]
    },
    {
     "name": "stdout",
     "output_type": "stream",
     "text": [
      "                   all       1056       1216      0.498      0.485      0.427       0.11\n"
     ]
    },
    {
     "name": "stderr",
     "output_type": "stream",
     "text": [
      "\n"
     ]
    },
    {
     "name": "stdout",
     "output_type": "stream",
     "text": [
      "\n",
      "      Epoch    GPU_mem   box_loss   cls_loss   dfl_loss  Instances       Size\n"
     ]
    },
    {
     "name": "stderr",
     "output_type": "stream",
     "text": [
      "     48/300      2.32G      1.294     0.8228      1.277         45        384: 100%|██████████| 98/98 [00:21<00:00,  4.50it/s]\n"
     ]
    },
    {
     "name": "stdout",
     "output_type": "stream",
     "text": [
      "{'metrics/precision(B)': 0.49807, 'metrics/recall(B)': 0.4852, 'metrics/mAP50(B)': 0.42651, 'metrics/mAP50-95(B)': 0.11025, 'val/box_loss': 2.78251, 'val/cls_loss': 1.73656, 'val/dfl_loss': 2.7046}\n",
      "\n",
      "Actual mAP50 : 0.4265\n",
      "\n",
      "Best actual metric : 0.5166 on epoch 27\n"
     ]
    },
    {
     "name": "stderr",
     "output_type": "stream",
     "text": [
      "                 Class     Images  Instances      Box(P          R      mAP50  mAP50-95): 100%|██████████| 12/12 [00:05<00:00,  2.02it/s]"
     ]
    },
    {
     "name": "stdout",
     "output_type": "stream",
     "text": [
      "                   all       1056       1216      0.452      0.532      0.406      0.115\n"
     ]
    },
    {
     "name": "stderr",
     "output_type": "stream",
     "text": [
      "\n"
     ]
    },
    {
     "name": "stdout",
     "output_type": "stream",
     "text": [
      "\n",
      "      Epoch    GPU_mem   box_loss   cls_loss   dfl_loss  Instances       Size\n"
     ]
    },
    {
     "name": "stderr",
     "output_type": "stream",
     "text": [
      "     49/300      2.31G      1.278      0.824      1.263         40        384: 100%|██████████| 98/98 [00:22<00:00,  4.43it/s]\n"
     ]
    },
    {
     "name": "stdout",
     "output_type": "stream",
     "text": [
      "{'metrics/precision(B)': 0.45235, 'metrics/recall(B)': 0.53207, 'metrics/mAP50(B)': 0.40632, 'metrics/mAP50-95(B)': 0.11538, 'val/box_loss': 2.72584, 'val/cls_loss': 1.75497, 'val/dfl_loss': 2.63983}\n",
      "\n",
      "Actual mAP50 : 0.4063\n",
      "\n",
      "Best actual metric : 0.5166 on epoch 27\n"
     ]
    },
    {
     "name": "stderr",
     "output_type": "stream",
     "text": [
      "                 Class     Images  Instances      Box(P          R      mAP50  mAP50-95): 100%|██████████| 12/12 [00:06<00:00,  1.98it/s]"
     ]
    },
    {
     "name": "stdout",
     "output_type": "stream",
     "text": [
      "                   all       1056       1216      0.421      0.422      0.308     0.0822\n"
     ]
    },
    {
     "name": "stderr",
     "output_type": "stream",
     "text": [
      "\n"
     ]
    },
    {
     "name": "stdout",
     "output_type": "stream",
     "text": [
      "\n",
      "      Epoch    GPU_mem   box_loss   cls_loss   dfl_loss  Instances       Size\n"
     ]
    },
    {
     "name": "stderr",
     "output_type": "stream",
     "text": [
      "     50/300      2.32G      1.285     0.8116      1.258         38        384: 100%|██████████| 98/98 [00:21<00:00,  4.46it/s]\n"
     ]
    },
    {
     "name": "stdout",
     "output_type": "stream",
     "text": [
      "{'metrics/precision(B)': 0.42143, 'metrics/recall(B)': 0.42188, 'metrics/mAP50(B)': 0.30805, 'metrics/mAP50-95(B)': 0.0822, 'val/box_loss': 2.85227, 'val/cls_loss': 1.88675, 'val/dfl_loss': 2.83335}\n",
      "\n",
      "Actual mAP50 : 0.308\n",
      "\n",
      "Best actual metric : 0.5166 on epoch 27\n"
     ]
    },
    {
     "name": "stderr",
     "output_type": "stream",
     "text": [
      "                 Class     Images  Instances      Box(P          R      mAP50  mAP50-95): 100%|██████████| 12/12 [00:06<00:00,  1.94it/s]"
     ]
    },
    {
     "name": "stdout",
     "output_type": "stream",
     "text": [
      "                   all       1056       1216      0.567       0.49      0.475      0.137\n"
     ]
    },
    {
     "name": "stderr",
     "output_type": "stream",
     "text": [
      "\n"
     ]
    },
    {
     "name": "stdout",
     "output_type": "stream",
     "text": [
      "\n",
      "      Epoch    GPU_mem   box_loss   cls_loss   dfl_loss  Instances       Size\n"
     ]
    },
    {
     "name": "stderr",
     "output_type": "stream",
     "text": [
      "     51/300      2.31G      1.274     0.8049      1.268         37        384: 100%|██████████| 98/98 [00:21<00:00,  4.49it/s]\n"
     ]
    },
    {
     "name": "stdout",
     "output_type": "stream",
     "text": [
      "{'metrics/precision(B)': 0.56681, 'metrics/recall(B)': 0.49013, 'metrics/mAP50(B)': 0.47515, 'metrics/mAP50-95(B)': 0.13743, 'val/box_loss': 2.68733, 'val/cls_loss': 1.6721, 'val/dfl_loss': 2.62361}\n",
      "\n",
      "Actual mAP50 : 0.4752\n",
      "\n",
      "Best actual metric : 0.5166 on epoch 27\n"
     ]
    },
    {
     "name": "stderr",
     "output_type": "stream",
     "text": [
      "                 Class     Images  Instances      Box(P          R      mAP50  mAP50-95): 100%|██████████| 12/12 [00:06<00:00,  1.92it/s]"
     ]
    },
    {
     "name": "stdout",
     "output_type": "stream",
     "text": [
      "                   all       1056       1216      0.602       0.44      0.442      0.133\n"
     ]
    },
    {
     "name": "stderr",
     "output_type": "stream",
     "text": [
      "\n"
     ]
    },
    {
     "name": "stdout",
     "output_type": "stream",
     "text": [
      "\n",
      "      Epoch    GPU_mem   box_loss   cls_loss   dfl_loss  Instances       Size\n"
     ]
    },
    {
     "name": "stderr",
     "output_type": "stream",
     "text": [
      "     52/300      2.31G      1.277     0.8177      1.268         35        384: 100%|██████████| 98/98 [00:22<00:00,  4.45it/s]\n"
     ]
    },
    {
     "name": "stdout",
     "output_type": "stream",
     "text": [
      "{'metrics/precision(B)': 0.60186, 'metrics/recall(B)': 0.43997, 'metrics/mAP50(B)': 0.44248, 'metrics/mAP50-95(B)': 0.13346, 'val/box_loss': 2.78322, 'val/cls_loss': 1.6287, 'val/dfl_loss': 2.69308}\n",
      "\n",
      "Actual mAP50 : 0.4425\n",
      "\n",
      "Best actual metric : 0.5166 on epoch 27\n"
     ]
    },
    {
     "name": "stderr",
     "output_type": "stream",
     "text": [
      "                 Class     Images  Instances      Box(P          R      mAP50  mAP50-95): 100%|██████████| 12/12 [00:05<00:00,  2.12it/s]"
     ]
    },
    {
     "name": "stdout",
     "output_type": "stream",
     "text": [
      "                   all       1056       1216       0.54      0.511      0.474      0.136\n"
     ]
    },
    {
     "name": "stderr",
     "output_type": "stream",
     "text": [
      "\n"
     ]
    },
    {
     "name": "stdout",
     "output_type": "stream",
     "text": [
      "\n",
      "      Epoch    GPU_mem   box_loss   cls_loss   dfl_loss  Instances       Size\n"
     ]
    },
    {
     "name": "stderr",
     "output_type": "stream",
     "text": [
      "     53/300      2.31G      1.264     0.8028      1.258         45        384: 100%|██████████| 98/98 [00:21<00:00,  4.51it/s]\n"
     ]
    },
    {
     "name": "stdout",
     "output_type": "stream",
     "text": [
      "{'metrics/precision(B)': 0.54038, 'metrics/recall(B)': 0.51069, 'metrics/mAP50(B)': 0.47388, 'metrics/mAP50-95(B)': 0.13585, 'val/box_loss': 2.76199, 'val/cls_loss': 1.62472, 'val/dfl_loss': 2.7249}\n",
      "\n",
      "Actual mAP50 : 0.4739\n",
      "\n",
      "Best actual metric : 0.5166 on epoch 27\n"
     ]
    },
    {
     "name": "stderr",
     "output_type": "stream",
     "text": [
      "                 Class     Images  Instances      Box(P          R      mAP50  mAP50-95): 100%|██████████| 12/12 [00:05<00:00,  2.11it/s]"
     ]
    },
    {
     "name": "stdout",
     "output_type": "stream",
     "text": [
      "                   all       1056       1216      0.464       0.38      0.329      0.097\n"
     ]
    },
    {
     "name": "stderr",
     "output_type": "stream",
     "text": [
      "\n"
     ]
    },
    {
     "name": "stdout",
     "output_type": "stream",
     "text": [
      "\n",
      "      Epoch    GPU_mem   box_loss   cls_loss   dfl_loss  Instances       Size\n"
     ]
    },
    {
     "name": "stderr",
     "output_type": "stream",
     "text": [
      "     54/300       2.3G      1.269     0.8017      1.258         39        384: 100%|██████████| 98/98 [00:22<00:00,  4.38it/s]\n"
     ]
    },
    {
     "name": "stdout",
     "output_type": "stream",
     "text": [
      "{'metrics/precision(B)': 0.46392, 'metrics/recall(B)': 0.37993, 'metrics/mAP50(B)': 0.3292, 'metrics/mAP50-95(B)': 0.097, 'val/box_loss': 2.80016, 'val/cls_loss': 1.92076, 'val/dfl_loss': 2.83867}\n",
      "\n",
      "Actual mAP50 : 0.3292\n",
      "\n",
      "Best actual metric : 0.5166 on epoch 27\n"
     ]
    },
    {
     "name": "stderr",
     "output_type": "stream",
     "text": [
      "                 Class     Images  Instances      Box(P          R      mAP50  mAP50-95): 100%|██████████| 12/12 [00:05<00:00,  2.16it/s]"
     ]
    },
    {
     "name": "stdout",
     "output_type": "stream",
     "text": [
      "                   all       1056       1216      0.621      0.461      0.485      0.143\n"
     ]
    },
    {
     "name": "stderr",
     "output_type": "stream",
     "text": [
      "\n"
     ]
    },
    {
     "name": "stdout",
     "output_type": "stream",
     "text": [
      "\n",
      "      Epoch    GPU_mem   box_loss   cls_loss   dfl_loss  Instances       Size\n"
     ]
    },
    {
     "name": "stderr",
     "output_type": "stream",
     "text": [
      "     55/300      2.31G      1.249     0.7914      1.251         44        384: 100%|██████████| 98/98 [00:22<00:00,  4.44it/s]\n"
     ]
    },
    {
     "name": "stdout",
     "output_type": "stream",
     "text": [
      "{'metrics/precision(B)': 0.6212, 'metrics/recall(B)': 0.46135, 'metrics/mAP50(B)': 0.48524, 'metrics/mAP50-95(B)': 0.14309, 'val/box_loss': 2.69359, 'val/cls_loss': 1.60308, 'val/dfl_loss': 2.59142}\n",
      "\n",
      "Actual mAP50 : 0.4852\n",
      "\n",
      "Best actual metric : 0.5166 on epoch 27\n"
     ]
    },
    {
     "name": "stderr",
     "output_type": "stream",
     "text": [
      "                 Class     Images  Instances      Box(P          R      mAP50  mAP50-95): 100%|██████████| 12/12 [00:05<00:00,  2.16it/s]"
     ]
    },
    {
     "name": "stdout",
     "output_type": "stream",
     "text": [
      "                   all       1056       1216      0.578      0.468      0.473      0.146\n"
     ]
    },
    {
     "name": "stderr",
     "output_type": "stream",
     "text": [
      "\n"
     ]
    },
    {
     "name": "stdout",
     "output_type": "stream",
     "text": [
      "\n",
      "      Epoch    GPU_mem   box_loss   cls_loss   dfl_loss  Instances       Size\n"
     ]
    },
    {
     "name": "stderr",
     "output_type": "stream",
     "text": [
      "     56/300      2.31G      1.251     0.7973      1.246         36        384: 100%|██████████| 98/98 [00:22<00:00,  4.42it/s]\n"
     ]
    },
    {
     "name": "stdout",
     "output_type": "stream",
     "text": [
      "{'metrics/precision(B)': 0.57808, 'metrics/recall(B)': 0.46793, 'metrics/mAP50(B)': 0.47296, 'metrics/mAP50-95(B)': 0.1458, 'val/box_loss': 2.64564, 'val/cls_loss': 1.62585, 'val/dfl_loss': 2.52106}\n",
      "\n",
      "Actual mAP50 : 0.473\n",
      "\n",
      "Best actual metric : 0.5166 on epoch 27\n"
     ]
    },
    {
     "name": "stderr",
     "output_type": "stream",
     "text": [
      "                 Class     Images  Instances      Box(P          R      mAP50  mAP50-95): 100%|██████████| 12/12 [00:05<00:00,  2.15it/s]"
     ]
    },
    {
     "name": "stdout",
     "output_type": "stream",
     "text": [
      "                   all       1056       1216       0.55      0.438      0.404      0.113\n"
     ]
    },
    {
     "name": "stderr",
     "output_type": "stream",
     "text": [
      "\n"
     ]
    },
    {
     "name": "stdout",
     "output_type": "stream",
     "text": [
      "\n",
      "      Epoch    GPU_mem   box_loss   cls_loss   dfl_loss  Instances       Size\n"
     ]
    },
    {
     "name": "stderr",
     "output_type": "stream",
     "text": [
      "     57/300       2.3G      1.243     0.7871       1.24         47        384: 100%|██████████| 98/98 [00:21<00:00,  4.47it/s]\n"
     ]
    },
    {
     "name": "stdout",
     "output_type": "stream",
     "text": [
      "{'metrics/precision(B)': 0.55023, 'metrics/recall(B)': 0.4375, 'metrics/mAP50(B)': 0.40405, 'metrics/mAP50-95(B)': 0.11284, 'val/box_loss': 2.80533, 'val/cls_loss': 1.7223, 'val/dfl_loss': 2.78278}\n",
      "\n",
      "Actual mAP50 : 0.4041\n",
      "\n",
      "Best actual metric : 0.5166 on epoch 27\n"
     ]
    },
    {
     "name": "stderr",
     "output_type": "stream",
     "text": [
      "                 Class     Images  Instances      Box(P          R      mAP50  mAP50-95): 100%|██████████| 12/12 [00:05<00:00,  2.11it/s]"
     ]
    },
    {
     "name": "stdout",
     "output_type": "stream",
     "text": [
      "                   all       1056       1216      0.637      0.471      0.453      0.135\n"
     ]
    },
    {
     "name": "stderr",
     "output_type": "stream",
     "text": [
      "\n"
     ]
    },
    {
     "name": "stdout",
     "output_type": "stream",
     "text": [
      "\n",
      "      Epoch    GPU_mem   box_loss   cls_loss   dfl_loss  Instances       Size\n"
     ]
    },
    {
     "name": "stderr",
     "output_type": "stream",
     "text": [
      "     58/300       2.3G       1.24     0.7842      1.233         40        384: 100%|██████████| 98/98 [00:22<00:00,  4.39it/s]\n"
     ]
    },
    {
     "name": "stdout",
     "output_type": "stream",
     "text": [
      "{'metrics/precision(B)': 0.63731, 'metrics/recall(B)': 0.47109, 'metrics/mAP50(B)': 0.45339, 'metrics/mAP50-95(B)': 0.13484, 'val/box_loss': 2.76134, 'val/cls_loss': 1.65828, 'val/dfl_loss': 2.67316}\n",
      "\n",
      "Actual mAP50 : 0.4534\n",
      "\n",
      "Best actual metric : 0.5166 on epoch 27\n"
     ]
    },
    {
     "name": "stderr",
     "output_type": "stream",
     "text": [
      "                 Class     Images  Instances      Box(P          R      mAP50  mAP50-95): 100%|██████████| 12/12 [00:05<00:00,  2.20it/s]"
     ]
    },
    {
     "name": "stdout",
     "output_type": "stream",
     "text": [
      "                   all       1056       1216       0.48      0.459      0.407      0.127\n"
     ]
    },
    {
     "name": "stderr",
     "output_type": "stream",
     "text": [
      "\n"
     ]
    },
    {
     "name": "stdout",
     "output_type": "stream",
     "text": [
      "\n",
      "      Epoch    GPU_mem   box_loss   cls_loss   dfl_loss  Instances       Size\n"
     ]
    },
    {
     "name": "stderr",
     "output_type": "stream",
     "text": [
      "     59/300       2.3G      1.244     0.7856      1.242         47        384: 100%|██████████| 98/98 [00:21<00:00,  4.49it/s]\n"
     ]
    },
    {
     "name": "stdout",
     "output_type": "stream",
     "text": [
      "{'metrics/precision(B)': 0.48009, 'metrics/recall(B)': 0.45888, 'metrics/mAP50(B)': 0.40682, 'metrics/mAP50-95(B)': 0.12746, 'val/box_loss': 2.6944, 'val/cls_loss': 1.85644, 'val/dfl_loss': 2.62193}\n",
      "\n",
      "Actual mAP50 : 0.4068\n",
      "\n",
      "Best actual metric : 0.5166 on epoch 27\n"
     ]
    },
    {
     "name": "stderr",
     "output_type": "stream",
     "text": [
      "                 Class     Images  Instances      Box(P          R      mAP50  mAP50-95): 100%|██████████| 12/12 [00:05<00:00,  2.12it/s]"
     ]
    },
    {
     "name": "stdout",
     "output_type": "stream",
     "text": [
      "                   all       1056       1216      0.642      0.456      0.456      0.124\n"
     ]
    },
    {
     "name": "stderr",
     "output_type": "stream",
     "text": [
      "\n"
     ]
    },
    {
     "name": "stdout",
     "output_type": "stream",
     "text": [
      "\n",
      "      Epoch    GPU_mem   box_loss   cls_loss   dfl_loss  Instances       Size\n"
     ]
    },
    {
     "name": "stderr",
     "output_type": "stream",
     "text": [
      "     60/300      2.31G       1.24      0.767      1.238         44        384: 100%|██████████| 98/98 [00:21<00:00,  4.47it/s]\n"
     ]
    },
    {
     "name": "stdout",
     "output_type": "stream",
     "text": [
      "{'metrics/precision(B)': 0.64249, 'metrics/recall(B)': 0.45641, 'metrics/mAP50(B)': 0.45642, 'metrics/mAP50-95(B)': 0.12432, 'val/box_loss': 2.80956, 'val/cls_loss': 1.64509, 'val/dfl_loss': 2.79313}\n",
      "\n",
      "Actual mAP50 : 0.4564\n",
      "\n",
      "Best actual metric : 0.5166 on epoch 27\n"
     ]
    },
    {
     "name": "stderr",
     "output_type": "stream",
     "text": [
      "                 Class     Images  Instances      Box(P          R      mAP50  mAP50-95): 100%|██████████| 12/12 [00:05<00:00,  2.17it/s]"
     ]
    },
    {
     "name": "stdout",
     "output_type": "stream",
     "text": [
      "                   all       1056       1216      0.549       0.48      0.422      0.122\n"
     ]
    },
    {
     "name": "stderr",
     "output_type": "stream",
     "text": [
      "\n"
     ]
    },
    {
     "name": "stdout",
     "output_type": "stream",
     "text": [
      "\n",
      "      Epoch    GPU_mem   box_loss   cls_loss   dfl_loss  Instances       Size\n"
     ]
    },
    {
     "name": "stderr",
     "output_type": "stream",
     "text": [
      "     61/300       2.3G      1.231     0.7717      1.241         53        384: 100%|██████████| 98/98 [00:22<00:00,  4.35it/s]\n"
     ]
    },
    {
     "name": "stdout",
     "output_type": "stream",
     "text": [
      "{'metrics/precision(B)': 0.54868, 'metrics/recall(B)': 0.48026, 'metrics/mAP50(B)': 0.42174, 'metrics/mAP50-95(B)': 0.12203, 'val/box_loss': 2.73072, 'val/cls_loss': 1.69617, 'val/dfl_loss': 2.71196}\n",
      "\n",
      "Actual mAP50 : 0.4217\n",
      "\n",
      "Best actual metric : 0.5166 on epoch 27\n"
     ]
    },
    {
     "name": "stderr",
     "output_type": "stream",
     "text": [
      "                 Class     Images  Instances      Box(P          R      mAP50  mAP50-95): 100%|██████████| 12/12 [00:05<00:00,  2.02it/s]"
     ]
    },
    {
     "name": "stdout",
     "output_type": "stream",
     "text": [
      "                   all       1056       1216      0.566      0.485      0.451      0.127\n"
     ]
    },
    {
     "name": "stderr",
     "output_type": "stream",
     "text": [
      "\n"
     ]
    },
    {
     "name": "stdout",
     "output_type": "stream",
     "text": [
      "\n",
      "      Epoch    GPU_mem   box_loss   cls_loss   dfl_loss  Instances       Size\n"
     ]
    },
    {
     "name": "stderr",
     "output_type": "stream",
     "text": [
      "     62/300      2.31G      1.226     0.7817      1.232         44        384: 100%|██████████| 98/98 [00:22<00:00,  4.29it/s]\n"
     ]
    },
    {
     "name": "stdout",
     "output_type": "stream",
     "text": [
      "{'metrics/precision(B)': 0.5661, 'metrics/recall(B)': 0.48497, 'metrics/mAP50(B)': 0.45115, 'metrics/mAP50-95(B)': 0.12747, 'val/box_loss': 2.73619, 'val/cls_loss': 1.62551, 'val/dfl_loss': 2.62399}\n",
      "\n",
      "Actual mAP50 : 0.4511\n",
      "\n",
      "Best actual metric : 0.5166 on epoch 27\n"
     ]
    },
    {
     "name": "stderr",
     "output_type": "stream",
     "text": [
      "                 Class     Images  Instances      Box(P          R      mAP50  mAP50-95): 100%|██████████| 12/12 [00:05<00:00,  2.14it/s]"
     ]
    },
    {
     "name": "stdout",
     "output_type": "stream",
     "text": [
      "                   all       1056       1216       0.55      0.502      0.437      0.132\n"
     ]
    },
    {
     "name": "stderr",
     "output_type": "stream",
     "text": [
      "\n"
     ]
    },
    {
     "name": "stdout",
     "output_type": "stream",
     "text": [
      "\n",
      "      Epoch    GPU_mem   box_loss   cls_loss   dfl_loss  Instances       Size\n"
     ]
    },
    {
     "name": "stderr",
     "output_type": "stream",
     "text": [
      "     63/300       2.3G      1.216     0.7636      1.231         49        384: 100%|██████████| 98/98 [00:22<00:00,  4.45it/s]\n"
     ]
    },
    {
     "name": "stdout",
     "output_type": "stream",
     "text": [
      "{'metrics/precision(B)': 0.55019, 'metrics/recall(B)': 0.50247, 'metrics/mAP50(B)': 0.43679, 'metrics/mAP50-95(B)': 0.13176, 'val/box_loss': 2.71826, 'val/cls_loss': 1.58873, 'val/dfl_loss': 2.75061}\n",
      "\n",
      "Actual mAP50 : 0.4368\n",
      "\n",
      "Best actual metric : 0.5166 on epoch 27\n"
     ]
    },
    {
     "name": "stderr",
     "output_type": "stream",
     "text": [
      "                 Class     Images  Instances      Box(P          R      mAP50  mAP50-95): 100%|██████████| 12/12 [00:05<00:00,  2.12it/s]"
     ]
    },
    {
     "name": "stdout",
     "output_type": "stream",
     "text": [
      "                   all       1056       1216      0.468      0.397      0.326     0.0963\n"
     ]
    },
    {
     "name": "stderr",
     "output_type": "stream",
     "text": [
      "\n"
     ]
    },
    {
     "name": "stdout",
     "output_type": "stream",
     "text": [
      "\n",
      "      Epoch    GPU_mem   box_loss   cls_loss   dfl_loss  Instances       Size\n"
     ]
    },
    {
     "name": "stderr",
     "output_type": "stream",
     "text": [
      "     64/300      2.32G      1.216     0.7617      1.228         60        384: 100%|██████████| 98/98 [00:22<00:00,  4.44it/s]\n"
     ]
    },
    {
     "name": "stdout",
     "output_type": "stream",
     "text": [
      "{'metrics/precision(B)': 0.4678, 'metrics/recall(B)': 0.3972, 'metrics/mAP50(B)': 0.32599, 'metrics/mAP50-95(B)': 0.09627, 'val/box_loss': 2.83007, 'val/cls_loss': 1.86166, 'val/dfl_loss': 2.8478}\n",
      "\n",
      "Actual mAP50 : 0.326\n",
      "\n",
      "Best actual metric : 0.5166 on epoch 27\n"
     ]
    },
    {
     "name": "stderr",
     "output_type": "stream",
     "text": [
      "                 Class     Images  Instances      Box(P          R      mAP50  mAP50-95): 100%|██████████| 12/12 [00:05<00:00,  2.20it/s]"
     ]
    },
    {
     "name": "stdout",
     "output_type": "stream",
     "text": [
      "                   all       1056       1216       0.54      0.495      0.473      0.137\n"
     ]
    },
    {
     "name": "stderr",
     "output_type": "stream",
     "text": [
      "\n"
     ]
    },
    {
     "name": "stdout",
     "output_type": "stream",
     "text": [
      "\n",
      "      Epoch    GPU_mem   box_loss   cls_loss   dfl_loss  Instances       Size\n"
     ]
    },
    {
     "name": "stderr",
     "output_type": "stream",
     "text": [
      "     65/300       2.3G      1.208     0.7543      1.217         50        384: 100%|██████████| 98/98 [00:22<00:00,  4.38it/s]\n"
     ]
    },
    {
     "name": "stdout",
     "output_type": "stream",
     "text": [
      "{'metrics/precision(B)': 0.54008, 'metrics/recall(B)': 0.49507, 'metrics/mAP50(B)': 0.47301, 'metrics/mAP50-95(B)': 0.13688, 'val/box_loss': 2.69495, 'val/cls_loss': 1.59843, 'val/dfl_loss': 2.63287}\n",
      "\n",
      "Actual mAP50 : 0.473\n",
      "\n",
      "Best actual metric : 0.5166 on epoch 27\n"
     ]
    },
    {
     "name": "stderr",
     "output_type": "stream",
     "text": [
      "                 Class     Images  Instances      Box(P          R      mAP50  mAP50-95): 100%|██████████| 12/12 [00:05<00:00,  2.13it/s]"
     ]
    },
    {
     "name": "stdout",
     "output_type": "stream",
     "text": [
      "                   all       1056       1216      0.494      0.521      0.417      0.123\n"
     ]
    },
    {
     "name": "stderr",
     "output_type": "stream",
     "text": [
      "\n"
     ]
    },
    {
     "name": "stdout",
     "output_type": "stream",
     "text": [
      "\n",
      "      Epoch    GPU_mem   box_loss   cls_loss   dfl_loss  Instances       Size\n"
     ]
    },
    {
     "name": "stderr",
     "output_type": "stream",
     "text": [
      "     66/300      2.31G      1.211      0.758      1.214         37        384: 100%|██████████| 98/98 [00:21<00:00,  4.46it/s]\n"
     ]
    },
    {
     "name": "stdout",
     "output_type": "stream",
     "text": [
      "{'metrics/precision(B)': 0.49437, 'metrics/recall(B)': 0.52138, 'metrics/mAP50(B)': 0.41713, 'metrics/mAP50-95(B)': 0.12347, 'val/box_loss': 2.81467, 'val/cls_loss': 1.56254, 'val/dfl_loss': 2.78888}\n",
      "\n",
      "Actual mAP50 : 0.4171\n",
      "\n",
      "Best actual metric : 0.5166 on epoch 27\n"
     ]
    },
    {
     "name": "stderr",
     "output_type": "stream",
     "text": [
      "                 Class     Images  Instances      Box(P          R      mAP50  mAP50-95): 100%|██████████| 12/12 [00:05<00:00,  2.11it/s]"
     ]
    },
    {
     "name": "stdout",
     "output_type": "stream",
     "text": [
      "                   all       1056       1216      0.486      0.489      0.387      0.115\n"
     ]
    },
    {
     "name": "stderr",
     "output_type": "stream",
     "text": [
      "\n"
     ]
    },
    {
     "name": "stdout",
     "output_type": "stream",
     "text": [
      "\n",
      "      Epoch    GPU_mem   box_loss   cls_loss   dfl_loss  Instances       Size\n"
     ]
    },
    {
     "name": "stderr",
     "output_type": "stream",
     "text": [
      "     67/300       2.3G      1.204      0.754      1.216         52        384: 100%|██████████| 98/98 [00:21<00:00,  4.47it/s]\n"
     ]
    },
    {
     "name": "stdout",
     "output_type": "stream",
     "text": [
      "{'metrics/precision(B)': 0.48637, 'metrics/recall(B)': 0.48931, 'metrics/mAP50(B)': 0.3875, 'metrics/mAP50-95(B)': 0.11455, 'val/box_loss': 2.76773, 'val/cls_loss': 1.66732, 'val/dfl_loss': 2.7751}\n",
      "\n",
      "Actual mAP50 : 0.3875\n",
      "\n",
      "Best actual metric : 0.5166 on epoch 27\n"
     ]
    },
    {
     "name": "stderr",
     "output_type": "stream",
     "text": [
      "                 Class     Images  Instances      Box(P          R      mAP50  mAP50-95): 100%|██████████| 12/12 [00:05<00:00,  2.20it/s]"
     ]
    },
    {
     "name": "stdout",
     "output_type": "stream",
     "text": [
      "                   all       1056       1216       0.57      0.426      0.409      0.117\n"
     ]
    },
    {
     "name": "stderr",
     "output_type": "stream",
     "text": [
      "\n"
     ]
    },
    {
     "name": "stdout",
     "output_type": "stream",
     "text": [
      "\n",
      "      Epoch    GPU_mem   box_loss   cls_loss   dfl_loss  Instances       Size\n"
     ]
    },
    {
     "name": "stderr",
     "output_type": "stream",
     "text": [
      "     68/300      2.31G      1.197     0.7494      1.213         44        384: 100%|██████████| 98/98 [00:22<00:00,  4.43it/s]\n"
     ]
    },
    {
     "name": "stdout",
     "output_type": "stream",
     "text": [
      "{'metrics/precision(B)': 0.57012, 'metrics/recall(B)': 0.42599, 'metrics/mAP50(B)': 0.40852, 'metrics/mAP50-95(B)': 0.11694, 'val/box_loss': 2.80373, 'val/cls_loss': 1.72668, 'val/dfl_loss': 2.76129}\n",
      "\n",
      "Actual mAP50 : 0.4085\n",
      "\n",
      "Best actual metric : 0.5166 on epoch 27\n"
     ]
    },
    {
     "name": "stderr",
     "output_type": "stream",
     "text": [
      "                 Class     Images  Instances      Box(P          R      mAP50  mAP50-95): 100%|██████████| 12/12 [00:05<00:00,  2.21it/s]"
     ]
    },
    {
     "name": "stdout",
     "output_type": "stream",
     "text": [
      "                   all       1056       1216      0.525      0.464      0.411      0.122\n"
     ]
    },
    {
     "name": "stderr",
     "output_type": "stream",
     "text": [
      "\n"
     ]
    },
    {
     "name": "stdout",
     "output_type": "stream",
     "text": [
      "\n",
      "      Epoch    GPU_mem   box_loss   cls_loss   dfl_loss  Instances       Size\n"
     ]
    },
    {
     "name": "stderr",
     "output_type": "stream",
     "text": [
      "     69/300      2.31G      1.196     0.7489      1.213         44        384: 100%|██████████| 98/98 [00:21<00:00,  4.52it/s]\n"
     ]
    },
    {
     "name": "stdout",
     "output_type": "stream",
     "text": [
      "{'metrics/precision(B)': 0.52496, 'metrics/recall(B)': 0.46438, 'metrics/mAP50(B)': 0.41063, 'metrics/mAP50-95(B)': 0.12168, 'val/box_loss': 2.80893, 'val/cls_loss': 1.60343, 'val/dfl_loss': 2.79781}\n",
      "\n",
      "Actual mAP50 : 0.4106\n",
      "\n",
      "Best actual metric : 0.5166 on epoch 27\n"
     ]
    },
    {
     "name": "stderr",
     "output_type": "stream",
     "text": [
      "                 Class     Images  Instances      Box(P          R      mAP50  mAP50-95): 100%|██████████| 12/12 [00:05<00:00,  2.04it/s]"
     ]
    },
    {
     "name": "stdout",
     "output_type": "stream",
     "text": [
      "                   all       1056       1216      0.512      0.457      0.376      0.116\n"
     ]
    },
    {
     "name": "stderr",
     "output_type": "stream",
     "text": [
      "\n"
     ]
    },
    {
     "name": "stdout",
     "output_type": "stream",
     "text": [
      "\n",
      "      Epoch    GPU_mem   box_loss   cls_loss   dfl_loss  Instances       Size\n"
     ]
    },
    {
     "name": "stderr",
     "output_type": "stream",
     "text": [
      "     70/300      2.31G       1.19     0.7439        1.2         40        384: 100%|██████████| 98/98 [00:21<00:00,  4.50it/s]\n"
     ]
    },
    {
     "name": "stdout",
     "output_type": "stream",
     "text": [
      "{'metrics/precision(B)': 0.51235, 'metrics/recall(B)': 0.45724, 'metrics/mAP50(B)': 0.37574, 'metrics/mAP50-95(B)': 0.11608, 'val/box_loss': 2.82514, 'val/cls_loss': 1.67478, 'val/dfl_loss': 2.88176}\n",
      "\n",
      "Actual mAP50 : 0.3757\n",
      "\n",
      "Best actual metric : 0.5166 on epoch 27\n"
     ]
    },
    {
     "name": "stderr",
     "output_type": "stream",
     "text": [
      "                 Class     Images  Instances      Box(P          R      mAP50  mAP50-95): 100%|██████████| 12/12 [00:05<00:00,  2.09it/s]"
     ]
    },
    {
     "name": "stdout",
     "output_type": "stream",
     "text": [
      "                   all       1056       1216      0.565      0.416      0.437      0.126\n"
     ]
    },
    {
     "name": "stderr",
     "output_type": "stream",
     "text": [
      "\n"
     ]
    },
    {
     "name": "stdout",
     "output_type": "stream",
     "text": [
      "\n",
      "      Epoch    GPU_mem   box_loss   cls_loss   dfl_loss  Instances       Size\n"
     ]
    },
    {
     "name": "stderr",
     "output_type": "stream",
     "text": [
      "     71/300      2.31G      1.183     0.7383      1.206         51        384: 100%|██████████| 98/98 [00:22<00:00,  4.43it/s]\n"
     ]
    },
    {
     "name": "stdout",
     "output_type": "stream",
     "text": [
      "{'metrics/precision(B)': 0.56494, 'metrics/recall(B)': 0.41646, 'metrics/mAP50(B)': 0.4371, 'metrics/mAP50-95(B)': 0.12607, 'val/box_loss': 2.74333, 'val/cls_loss': 1.6383, 'val/dfl_loss': 2.74251}\n",
      "\n",
      "Actual mAP50 : 0.4371\n",
      "\n",
      "Best actual metric : 0.5166 on epoch 27\n"
     ]
    },
    {
     "name": "stderr",
     "output_type": "stream",
     "text": [
      "                 Class     Images  Instances      Box(P          R      mAP50  mAP50-95): 100%|██████████| 12/12 [00:05<00:00,  2.17it/s]"
     ]
    },
    {
     "name": "stdout",
     "output_type": "stream",
     "text": [
      "                   all       1056       1216      0.619      0.488      0.472      0.141\n"
     ]
    },
    {
     "name": "stderr",
     "output_type": "stream",
     "text": [
      "\n"
     ]
    },
    {
     "name": "stdout",
     "output_type": "stream",
     "text": [
      "\n",
      "      Epoch    GPU_mem   box_loss   cls_loss   dfl_loss  Instances       Size\n"
     ]
    },
    {
     "name": "stderr",
     "output_type": "stream",
     "text": [
      "     72/300       2.3G      1.196     0.7393      1.206         62        384: 100%|██████████| 98/98 [00:22<00:00,  4.45it/s]\n"
     ]
    },
    {
     "name": "stdout",
     "output_type": "stream",
     "text": [
      "{'metrics/precision(B)': 0.61858, 'metrics/recall(B)': 0.48849, 'metrics/mAP50(B)': 0.47163, 'metrics/mAP50-95(B)': 0.14066, 'val/box_loss': 2.77117, 'val/cls_loss': 1.53161, 'val/dfl_loss': 2.77663}\n",
      "\n",
      "Actual mAP50 : 0.4716\n",
      "\n",
      "Best actual metric : 0.5166 on epoch 27\n"
     ]
    },
    {
     "name": "stderr",
     "output_type": "stream",
     "text": [
      "                 Class     Images  Instances      Box(P          R      mAP50  mAP50-95): 100%|██████████| 12/12 [00:05<00:00,  2.23it/s]"
     ]
    },
    {
     "name": "stdout",
     "output_type": "stream",
     "text": [
      "                   all       1056       1216      0.558      0.498      0.479      0.142\n"
     ]
    },
    {
     "name": "stderr",
     "output_type": "stream",
     "text": [
      "\n"
     ]
    },
    {
     "name": "stdout",
     "output_type": "stream",
     "text": [
      "\n",
      "      Epoch    GPU_mem   box_loss   cls_loss   dfl_loss  Instances       Size\n"
     ]
    },
    {
     "name": "stderr",
     "output_type": "stream",
     "text": [
      "     73/300      2.31G      1.178     0.7357        1.2         44        384: 100%|██████████| 98/98 [00:22<00:00,  4.41it/s]\n"
     ]
    },
    {
     "name": "stdout",
     "output_type": "stream",
     "text": [
      "{'metrics/precision(B)': 0.55847, 'metrics/recall(B)': 0.49753, 'metrics/mAP50(B)': 0.4785, 'metrics/mAP50-95(B)': 0.14194, 'val/box_loss': 2.78814, 'val/cls_loss': 1.50307, 'val/dfl_loss': 2.6677}\n",
      "\n",
      "Actual mAP50 : 0.4785\n",
      "\n",
      "Best actual metric : 0.5166 on epoch 27\n"
     ]
    },
    {
     "name": "stderr",
     "output_type": "stream",
     "text": [
      "                 Class     Images  Instances      Box(P          R      mAP50  mAP50-95): 100%|██████████| 12/12 [00:05<00:00,  2.15it/s]"
     ]
    },
    {
     "name": "stdout",
     "output_type": "stream",
     "text": [
      "                   all       1056       1216      0.526      0.508      0.456      0.132\n"
     ]
    },
    {
     "name": "stderr",
     "output_type": "stream",
     "text": [
      "\n"
     ]
    },
    {
     "name": "stdout",
     "output_type": "stream",
     "text": [
      "\n",
      "      Epoch    GPU_mem   box_loss   cls_loss   dfl_loss  Instances       Size\n"
     ]
    },
    {
     "name": "stderr",
     "output_type": "stream",
     "text": [
      "     74/300      2.31G      1.177     0.7356      1.203         43        384: 100%|██████████| 98/98 [00:23<00:00,  4.24it/s]\n"
     ]
    },
    {
     "name": "stdout",
     "output_type": "stream",
     "text": [
      "{'metrics/precision(B)': 0.52649, 'metrics/recall(B)': 0.50822, 'metrics/mAP50(B)': 0.45567, 'metrics/mAP50-95(B)': 0.13231, 'val/box_loss': 2.71881, 'val/cls_loss': 1.58432, 'val/dfl_loss': 2.61338}\n",
      "\n",
      "Actual mAP50 : 0.4557\n",
      "\n",
      "Best actual metric : 0.5166 on epoch 27\n"
     ]
    },
    {
     "name": "stderr",
     "output_type": "stream",
     "text": [
      "                 Class     Images  Instances      Box(P          R      mAP50  mAP50-95): 100%|██████████| 12/12 [00:05<00:00,  2.20it/s]"
     ]
    },
    {
     "name": "stdout",
     "output_type": "stream",
     "text": [
      "                   all       1056       1216      0.507      0.469      0.376      0.118\n"
     ]
    },
    {
     "name": "stderr",
     "output_type": "stream",
     "text": [
      "\n"
     ]
    },
    {
     "name": "stdout",
     "output_type": "stream",
     "text": [
      "\n",
      "      Epoch    GPU_mem   box_loss   cls_loss   dfl_loss  Instances       Size\n"
     ]
    },
    {
     "name": "stderr",
     "output_type": "stream",
     "text": [
      "     75/300      2.31G      1.181     0.7348      1.203         42        384: 100%|██████████| 98/98 [00:23<00:00,  4.22it/s]\n"
     ]
    },
    {
     "name": "stdout",
     "output_type": "stream",
     "text": [
      "{'metrics/precision(B)': 0.50742, 'metrics/recall(B)': 0.46932, 'metrics/mAP50(B)': 0.37624, 'metrics/mAP50-95(B)': 0.11805, 'val/box_loss': 2.73567, 'val/cls_loss': 1.63066, 'val/dfl_loss': 2.77822}\n",
      "\n",
      "Actual mAP50 : 0.3762\n",
      "\n",
      "Best actual metric : 0.5166 on epoch 27\n"
     ]
    },
    {
     "name": "stderr",
     "output_type": "stream",
     "text": [
      "                 Class     Images  Instances      Box(P          R      mAP50  mAP50-95): 100%|██████████| 12/12 [00:05<00:00,  2.18it/s]"
     ]
    },
    {
     "name": "stdout",
     "output_type": "stream",
     "text": [
      "                   all       1056       1216      0.418      0.528       0.41      0.117\n"
     ]
    },
    {
     "name": "stderr",
     "output_type": "stream",
     "text": [
      "\n"
     ]
    },
    {
     "name": "stdout",
     "output_type": "stream",
     "text": [
      "\n",
      "      Epoch    GPU_mem   box_loss   cls_loss   dfl_loss  Instances       Size\n"
     ]
    },
    {
     "name": "stderr",
     "output_type": "stream",
     "text": [
      "     76/300       2.3G      1.187     0.7372      1.207         49        384: 100%|██████████| 98/98 [00:23<00:00,  4.25it/s]\n"
     ]
    },
    {
     "name": "stdout",
     "output_type": "stream",
     "text": [
      "{'metrics/precision(B)': 0.41808, 'metrics/recall(B)': 0.5282, 'metrics/mAP50(B)': 0.40991, 'metrics/mAP50-95(B)': 0.11726, 'val/box_loss': 2.77168, 'val/cls_loss': 1.6481, 'val/dfl_loss': 2.7454}\n",
      "\n",
      "Actual mAP50 : 0.4099\n",
      "\n",
      "Best actual metric : 0.5166 on epoch 27\n"
     ]
    },
    {
     "name": "stderr",
     "output_type": "stream",
     "text": [
      "                 Class     Images  Instances      Box(P          R      mAP50  mAP50-95): 100%|██████████| 12/12 [00:05<00:00,  2.26it/s]"
     ]
    },
    {
     "name": "stdout",
     "output_type": "stream",
     "text": [
      "                   all       1056       1216      0.572      0.449      0.424      0.123\n"
     ]
    },
    {
     "name": "stderr",
     "output_type": "stream",
     "text": [
      "\n"
     ]
    },
    {
     "name": "stdout",
     "output_type": "stream",
     "text": [
      "\n",
      "      Epoch    GPU_mem   box_loss   cls_loss   dfl_loss  Instances       Size\n"
     ]
    },
    {
     "name": "stderr",
     "output_type": "stream",
     "text": [
      "     77/300      2.32G      1.154     0.7177      1.191         46        384: 100%|██████████| 98/98 [00:22<00:00,  4.30it/s]\n"
     ]
    },
    {
     "name": "stdout",
     "output_type": "stream",
     "text": [
      "{'metrics/precision(B)': 0.57195, 'metrics/recall(B)': 0.44941, 'metrics/mAP50(B)': 0.42394, 'metrics/mAP50-95(B)': 0.12255, 'val/box_loss': 2.79168, 'val/cls_loss': 1.59266, 'val/dfl_loss': 2.73696}\n",
      "\n",
      "Actual mAP50 : 0.4239\n",
      "\n",
      "Best actual metric : 0.5166 on epoch 27\n"
     ]
    },
    {
     "name": "stderr",
     "output_type": "stream",
     "text": [
      "                 Class     Images  Instances      Box(P          R      mAP50  mAP50-95): 100%|██████████| 12/12 [00:05<00:00,  2.17it/s]"
     ]
    },
    {
     "name": "stdout",
     "output_type": "stream",
     "text": [
      "                   all       1056       1216      0.526      0.444      0.368      0.108\n"
     ]
    },
    {
     "name": "stderr",
     "output_type": "stream",
     "text": [
      "\n"
     ]
    },
    {
     "name": "stdout",
     "output_type": "stream",
     "text": [
      "\n",
      "      Epoch    GPU_mem   box_loss   cls_loss   dfl_loss  Instances       Size\n"
     ]
    },
    {
     "name": "stderr",
     "output_type": "stream",
     "text": [
      "     78/300       2.3G      1.158     0.7208       1.19         46        384: 100%|██████████| 98/98 [00:22<00:00,  4.26it/s]\n"
     ]
    },
    {
     "name": "stdout",
     "output_type": "stream",
     "text": [
      "{'metrics/precision(B)': 0.52566, 'metrics/recall(B)': 0.44408, 'metrics/mAP50(B)': 0.36751, 'metrics/mAP50-95(B)': 0.10848, 'val/box_loss': 2.93046, 'val/cls_loss': 1.7167, 'val/dfl_loss': 2.94124}\n",
      "\n",
      "Actual mAP50 : 0.3675\n",
      "\n",
      "Best actual metric : 0.5166 on epoch 27\n"
     ]
    },
    {
     "name": "stderr",
     "output_type": "stream",
     "text": [
      "                 Class     Images  Instances      Box(P          R      mAP50  mAP50-95): 100%|██████████| 12/12 [00:05<00:00,  2.19it/s]"
     ]
    },
    {
     "name": "stdout",
     "output_type": "stream",
     "text": [
      "                   all       1056       1216      0.547      0.515      0.436      0.124\n"
     ]
    },
    {
     "name": "stderr",
     "output_type": "stream",
     "text": [
      "\n"
     ]
    },
    {
     "name": "stdout",
     "output_type": "stream",
     "text": [
      "\n",
      "      Epoch    GPU_mem   box_loss   cls_loss   dfl_loss  Instances       Size\n"
     ]
    },
    {
     "name": "stderr",
     "output_type": "stream",
     "text": [
      "     79/300       2.3G      1.164     0.7242       1.19         48        384: 100%|██████████| 98/98 [00:23<00:00,  4.23it/s]\n"
     ]
    },
    {
     "name": "stdout",
     "output_type": "stream",
     "text": [
      "{'metrics/precision(B)': 0.5465, 'metrics/recall(B)': 0.51533, 'metrics/mAP50(B)': 0.43579, 'metrics/mAP50-95(B)': 0.12391, 'val/box_loss': 2.83142, 'val/cls_loss': 1.50558, 'val/dfl_loss': 2.82751}\n",
      "\n",
      "Actual mAP50 : 0.4358\n",
      "\n",
      "Best actual metric : 0.5166 on epoch 27\n"
     ]
    },
    {
     "name": "stderr",
     "output_type": "stream",
     "text": [
      "                 Class     Images  Instances      Box(P          R      mAP50  mAP50-95): 100%|██████████| 12/12 [00:05<00:00,  2.06it/s]"
     ]
    },
    {
     "name": "stdout",
     "output_type": "stream",
     "text": [
      "                   all       1056       1216      0.456      0.483      0.356      0.106\n"
     ]
    },
    {
     "name": "stderr",
     "output_type": "stream",
     "text": [
      "\n"
     ]
    },
    {
     "name": "stdout",
     "output_type": "stream",
     "text": [
      "\n",
      "      Epoch    GPU_mem   box_loss   cls_loss   dfl_loss  Instances       Size\n"
     ]
    },
    {
     "name": "stderr",
     "output_type": "stream",
     "text": [
      "     80/300      2.31G      1.161     0.7236      1.192         47        384: 100%|██████████| 98/98 [00:22<00:00,  4.34it/s]\n"
     ]
    },
    {
     "name": "stdout",
     "output_type": "stream",
     "text": [
      "{'metrics/precision(B)': 0.45588, 'metrics/recall(B)': 0.483, 'metrics/mAP50(B)': 0.35553, 'metrics/mAP50-95(B)': 0.10646, 'val/box_loss': 2.90246, 'val/cls_loss': 1.54361, 'val/dfl_loss': 3.00199}\n",
      "\n",
      "Actual mAP50 : 0.3555\n",
      "\n",
      "Best actual metric : 0.5166 on epoch 27\n"
     ]
    },
    {
     "name": "stderr",
     "output_type": "stream",
     "text": [
      "                 Class     Images  Instances      Box(P          R      mAP50  mAP50-95): 100%|██████████| 12/12 [00:05<00:00,  2.22it/s]"
     ]
    },
    {
     "name": "stdout",
     "output_type": "stream",
     "text": [
      "                   all       1056       1216      0.513      0.494      0.417      0.126\n"
     ]
    },
    {
     "name": "stderr",
     "output_type": "stream",
     "text": [
      "\n"
     ]
    },
    {
     "name": "stdout",
     "output_type": "stream",
     "text": [
      "\n",
      "      Epoch    GPU_mem   box_loss   cls_loss   dfl_loss  Instances       Size\n"
     ]
    },
    {
     "name": "stderr",
     "output_type": "stream",
     "text": [
      "     81/300      2.31G      1.157     0.7169      1.188         47        384: 100%|██████████| 98/98 [00:22<00:00,  4.28it/s]\n"
     ]
    },
    {
     "name": "stdout",
     "output_type": "stream",
     "text": [
      "{'metrics/precision(B)': 0.51268, 'metrics/recall(B)': 0.49424, 'metrics/mAP50(B)': 0.41726, 'metrics/mAP50-95(B)': 0.126, 'val/box_loss': 2.76621, 'val/cls_loss': 1.52503, 'val/dfl_loss': 2.78005}\n",
      "\n",
      "Actual mAP50 : 0.4173\n",
      "\n",
      "Best actual metric : 0.5166 on epoch 27\n"
     ]
    },
    {
     "name": "stderr",
     "output_type": "stream",
     "text": [
      "                 Class     Images  Instances      Box(P          R      mAP50  mAP50-95): 100%|██████████| 12/12 [00:05<00:00,  2.17it/s]"
     ]
    },
    {
     "name": "stdout",
     "output_type": "stream",
     "text": [
      "                   all       1056       1216       0.53      0.467      0.405      0.117\n"
     ]
    },
    {
     "name": "stderr",
     "output_type": "stream",
     "text": [
      "\n"
     ]
    },
    {
     "name": "stdout",
     "output_type": "stream",
     "text": [
      "\n",
      "      Epoch    GPU_mem   box_loss   cls_loss   dfl_loss  Instances       Size\n"
     ]
    },
    {
     "name": "stderr",
     "output_type": "stream",
     "text": [
      "     82/300      2.31G      1.139     0.7089      1.181         38        384: 100%|██████████| 98/98 [00:22<00:00,  4.26it/s]\n"
     ]
    },
    {
     "name": "stdout",
     "output_type": "stream",
     "text": [
      "{'metrics/precision(B)': 0.52999, 'metrics/recall(B)': 0.46711, 'metrics/mAP50(B)': 0.40466, 'metrics/mAP50-95(B)': 0.11745, 'val/box_loss': 2.84206, 'val/cls_loss': 1.59696, 'val/dfl_loss': 2.813}\n",
      "\n",
      "Actual mAP50 : 0.4047\n",
      "\n",
      "Best actual metric : 0.5166 on epoch 27\n"
     ]
    },
    {
     "name": "stderr",
     "output_type": "stream",
     "text": [
      "                 Class     Images  Instances      Box(P          R      mAP50  mAP50-95): 100%|██████████| 12/12 [00:05<00:00,  2.26it/s]"
     ]
    },
    {
     "name": "stdout",
     "output_type": "stream",
     "text": [
      "                   all       1056       1216      0.531      0.465      0.389      0.111\n"
     ]
    },
    {
     "name": "stderr",
     "output_type": "stream",
     "text": [
      "\n"
     ]
    },
    {
     "name": "stdout",
     "output_type": "stream",
     "text": [
      "\n",
      "      Epoch    GPU_mem   box_loss   cls_loss   dfl_loss  Instances       Size\n"
     ]
    },
    {
     "name": "stderr",
     "output_type": "stream",
     "text": [
      "     83/300      2.31G      1.153     0.7193      1.185         48        384: 100%|██████████| 98/98 [00:23<00:00,  4.26it/s]\n"
     ]
    },
    {
     "name": "stdout",
     "output_type": "stream",
     "text": [
      "{'metrics/precision(B)': 0.53121, 'metrics/recall(B)': 0.46464, 'metrics/mAP50(B)': 0.38922, 'metrics/mAP50-95(B)': 0.11075, 'val/box_loss': 2.84584, 'val/cls_loss': 1.57906, 'val/dfl_loss': 2.89262}\n",
      "\n",
      "Actual mAP50 : 0.3892\n",
      "\n",
      "Best actual metric : 0.5166 on epoch 27\n"
     ]
    },
    {
     "name": "stderr",
     "output_type": "stream",
     "text": [
      "                 Class     Images  Instances      Box(P          R      mAP50  mAP50-95): 100%|██████████| 12/12 [00:05<00:00,  2.29it/s]"
     ]
    },
    {
     "name": "stdout",
     "output_type": "stream",
     "text": [
      "                   all       1056       1216      0.493      0.469      0.382      0.115\n"
     ]
    },
    {
     "name": "stderr",
     "output_type": "stream",
     "text": [
      "\n"
     ]
    },
    {
     "name": "stdout",
     "output_type": "stream",
     "text": [
      "\n",
      "      Epoch    GPU_mem   box_loss   cls_loss   dfl_loss  Instances       Size\n"
     ]
    },
    {
     "name": "stderr",
     "output_type": "stream",
     "text": [
      "     84/300      2.31G      1.137     0.7073      1.182         40        384: 100%|██████████| 98/98 [00:23<00:00,  4.23it/s]\n"
     ]
    },
    {
     "name": "stdout",
     "output_type": "stream",
     "text": [
      "{'metrics/precision(B)': 0.49253, 'metrics/recall(B)': 0.46932, 'metrics/mAP50(B)': 0.38245, 'metrics/mAP50-95(B)': 0.1155, 'val/box_loss': 2.79408, 'val/cls_loss': 1.66627, 'val/dfl_loss': 2.82226}\n",
      "\n",
      "Actual mAP50 : 0.3825\n",
      "\n",
      "Best actual metric : 0.5166 on epoch 27\n"
     ]
    },
    {
     "name": "stderr",
     "output_type": "stream",
     "text": [
      "                 Class     Images  Instances      Box(P          R      mAP50  mAP50-95): 100%|██████████| 12/12 [00:05<00:00,  2.26it/s]"
     ]
    },
    {
     "name": "stdout",
     "output_type": "stream",
     "text": [
      "                   all       1056       1216      0.518      0.499      0.412      0.111\n"
     ]
    },
    {
     "name": "stderr",
     "output_type": "stream",
     "text": [
      "\n"
     ]
    },
    {
     "name": "stdout",
     "output_type": "stream",
     "text": [
      "\n",
      "      Epoch    GPU_mem   box_loss   cls_loss   dfl_loss  Instances       Size\n"
     ]
    },
    {
     "name": "stderr",
     "output_type": "stream",
     "text": [
      "     85/300      2.31G      1.141     0.7094      1.183         48        384: 100%|██████████| 98/98 [00:22<00:00,  4.34it/s]\n"
     ]
    },
    {
     "name": "stdout",
     "output_type": "stream",
     "text": [
      "{'metrics/precision(B)': 0.51768, 'metrics/recall(B)': 0.49918, 'metrics/mAP50(B)': 0.41249, 'metrics/mAP50-95(B)': 0.11069, 'val/box_loss': 2.91561, 'val/cls_loss': 1.58659, 'val/dfl_loss': 2.91953}\n",
      "\n",
      "Actual mAP50 : 0.4125\n",
      "\n",
      "Best actual metric : 0.5166 on epoch 27\n"
     ]
    },
    {
     "name": "stderr",
     "output_type": "stream",
     "text": [
      "                 Class     Images  Instances      Box(P          R      mAP50  mAP50-95): 100%|██████████| 12/12 [00:05<00:00,  2.24it/s]"
     ]
    },
    {
     "name": "stdout",
     "output_type": "stream",
     "text": [
      "                   all       1056       1216      0.503      0.499      0.397      0.117\n"
     ]
    },
    {
     "name": "stderr",
     "output_type": "stream",
     "text": [
      "\n"
     ]
    },
    {
     "name": "stdout",
     "output_type": "stream",
     "text": [
      "\n",
      "      Epoch    GPU_mem   box_loss   cls_loss   dfl_loss  Instances       Size\n"
     ]
    },
    {
     "name": "stderr",
     "output_type": "stream",
     "text": [
      "     86/300      2.31G      1.115     0.7012      1.171         46        384: 100%|██████████| 98/98 [00:22<00:00,  4.28it/s]\n"
     ]
    },
    {
     "name": "stdout",
     "output_type": "stream",
     "text": [
      "{'metrics/precision(B)': 0.50266, 'metrics/recall(B)': 0.4987, 'metrics/mAP50(B)': 0.39749, 'metrics/mAP50-95(B)': 0.11719, 'val/box_loss': 2.83866, 'val/cls_loss': 1.60651, 'val/dfl_loss': 2.83134}\n",
      "\n",
      "Actual mAP50 : 0.3975\n",
      "\n",
      "Best actual metric : 0.5166 on epoch 27\n"
     ]
    },
    {
     "name": "stderr",
     "output_type": "stream",
     "text": [
      "                 Class     Images  Instances      Box(P          R      mAP50  mAP50-95): 100%|██████████| 12/12 [00:05<00:00,  2.20it/s]"
     ]
    },
    {
     "name": "stdout",
     "output_type": "stream",
     "text": [
      "                   all       1056       1216      0.568      0.478      0.433      0.125\n"
     ]
    },
    {
     "name": "stderr",
     "output_type": "stream",
     "text": [
      "\n"
     ]
    },
    {
     "name": "stdout",
     "output_type": "stream",
     "text": [
      "\n",
      "      Epoch    GPU_mem   box_loss   cls_loss   dfl_loss  Instances       Size\n"
     ]
    },
    {
     "name": "stderr",
     "output_type": "stream",
     "text": [
      "     87/300      2.31G       1.14     0.7108      1.183         39        384: 100%|██████████| 98/98 [00:22<00:00,  4.29it/s]\n"
     ]
    },
    {
     "name": "stdout",
     "output_type": "stream",
     "text": [
      "{'metrics/precision(B)': 0.56835, 'metrics/recall(B)': 0.4778, 'metrics/mAP50(B)': 0.43349, 'metrics/mAP50-95(B)': 0.12526, 'val/box_loss': 2.76761, 'val/cls_loss': 1.51185, 'val/dfl_loss': 2.76951}\n",
      "\n",
      "Actual mAP50 : 0.4335\n",
      "\n",
      "Best actual metric : 0.5166 on epoch 27\n"
     ]
    },
    {
     "name": "stderr",
     "output_type": "stream",
     "text": [
      "                 Class     Images  Instances      Box(P          R      mAP50  mAP50-95): 100%|██████████| 12/12 [00:06<00:00,  1.72it/s]"
     ]
    },
    {
     "name": "stdout",
     "output_type": "stream",
     "text": [
      "                   all       1056       1216      0.534      0.514      0.447      0.133\n"
     ]
    },
    {
     "name": "stderr",
     "output_type": "stream",
     "text": [
      "\n"
     ]
    },
    {
     "name": "stdout",
     "output_type": "stream",
     "text": [
      "\n",
      "      Epoch    GPU_mem   box_loss   cls_loss   dfl_loss  Instances       Size\n"
     ]
    },
    {
     "name": "stderr",
     "output_type": "stream",
     "text": [
      "     88/300       2.3G      1.136     0.7014      1.171         47        384: 100%|██████████| 98/98 [00:21<00:00,  4.47it/s]\n"
     ]
    },
    {
     "name": "stdout",
     "output_type": "stream",
     "text": [
      "{'metrics/precision(B)': 0.53382, 'metrics/recall(B)': 0.51416, 'metrics/mAP50(B)': 0.44693, 'metrics/mAP50-95(B)': 0.13341, 'val/box_loss': 2.78802, 'val/cls_loss': 1.57668, 'val/dfl_loss': 2.76824}\n",
      "\n",
      "Actual mAP50 : 0.4469\n",
      "\n",
      "Best actual metric : 0.5166 on epoch 27\n"
     ]
    },
    {
     "name": "stderr",
     "output_type": "stream",
     "text": [
      "                 Class     Images  Instances      Box(P          R      mAP50  mAP50-95): 100%|██████████| 12/12 [00:05<00:00,  2.04it/s]"
     ]
    },
    {
     "name": "stdout",
     "output_type": "stream",
     "text": [
      "                   all       1056       1216      0.585      0.473       0.42      0.127\n"
     ]
    },
    {
     "name": "stderr",
     "output_type": "stream",
     "text": [
      "\n"
     ]
    },
    {
     "name": "stdout",
     "output_type": "stream",
     "text": [
      "\n",
      "      Epoch    GPU_mem   box_loss   cls_loss   dfl_loss  Instances       Size\n"
     ]
    },
    {
     "name": "stderr",
     "output_type": "stream",
     "text": [
      "     89/300       2.3G      1.133     0.6944      1.176         40        384: 100%|██████████| 98/98 [00:21<00:00,  4.46it/s]\n"
     ]
    },
    {
     "name": "stdout",
     "output_type": "stream",
     "text": [
      "{'metrics/precision(B)': 0.58525, 'metrics/recall(B)': 0.47286, 'metrics/mAP50(B)': 0.42002, 'metrics/mAP50-95(B)': 0.12679, 'val/box_loss': 2.80606, 'val/cls_loss': 1.53325, 'val/dfl_loss': 2.83668}\n",
      "\n",
      "Actual mAP50 : 0.42\n",
      "\n",
      "Best actual metric : 0.5166 on epoch 27\n"
     ]
    },
    {
     "name": "stderr",
     "output_type": "stream",
     "text": [
      "                 Class     Images  Instances      Box(P          R      mAP50  mAP50-95): 100%|██████████| 12/12 [00:05<00:00,  2.09it/s]"
     ]
    },
    {
     "name": "stdout",
     "output_type": "stream",
     "text": [
      "                   all       1056       1216      0.555      0.474      0.425      0.127\n"
     ]
    },
    {
     "name": "stderr",
     "output_type": "stream",
     "text": [
      "\n"
     ]
    },
    {
     "name": "stdout",
     "output_type": "stream",
     "text": [
      "\n",
      "      Epoch    GPU_mem   box_loss   cls_loss   dfl_loss  Instances       Size\n"
     ]
    },
    {
     "name": "stderr",
     "output_type": "stream",
     "text": [
      "     90/300      2.31G      1.119     0.6862      1.166         42        384: 100%|██████████| 98/98 [00:21<00:00,  4.51it/s]\n"
     ]
    },
    {
     "name": "stdout",
     "output_type": "stream",
     "text": [
      "{'metrics/precision(B)': 0.55456, 'metrics/recall(B)': 0.47368, 'metrics/mAP50(B)': 0.42504, 'metrics/mAP50-95(B)': 0.12718, 'val/box_loss': 2.75784, 'val/cls_loss': 1.59305, 'val/dfl_loss': 2.78055}\n",
      "\n",
      "Actual mAP50 : 0.425\n",
      "\n",
      "Best actual metric : 0.5166 on epoch 27\n"
     ]
    },
    {
     "name": "stderr",
     "output_type": "stream",
     "text": [
      "                 Class     Images  Instances      Box(P          R      mAP50  mAP50-95): 100%|██████████| 12/12 [00:05<00:00,  2.10it/s]"
     ]
    },
    {
     "name": "stdout",
     "output_type": "stream",
     "text": [
      "                   all       1056       1216      0.543      0.471      0.408      0.125\n"
     ]
    },
    {
     "name": "stderr",
     "output_type": "stream",
     "text": [
      "\n"
     ]
    },
    {
     "name": "stdout",
     "output_type": "stream",
     "text": [
      "\n",
      "      Epoch    GPU_mem   box_loss   cls_loss   dfl_loss  Instances       Size\n"
     ]
    },
    {
     "name": "stderr",
     "output_type": "stream",
     "text": [
      "     91/300      2.32G      1.132     0.7036      1.178         46        384: 100%|██████████| 98/98 [00:21<00:00,  4.52it/s]\n"
     ]
    },
    {
     "name": "stdout",
     "output_type": "stream",
     "text": [
      "{'metrics/precision(B)': 0.5433, 'metrics/recall(B)': 0.47057, 'metrics/mAP50(B)': 0.40842, 'metrics/mAP50-95(B)': 0.12513, 'val/box_loss': 2.79051, 'val/cls_loss': 1.56188, 'val/dfl_loss': 2.83145}\n",
      "\n",
      "Actual mAP50 : 0.4084\n",
      "\n",
      "Best actual metric : 0.5166 on epoch 27\n"
     ]
    },
    {
     "name": "stderr",
     "output_type": "stream",
     "text": [
      "                 Class     Images  Instances      Box(P          R      mAP50  mAP50-95): 100%|██████████| 12/12 [00:05<00:00,  2.07it/s]"
     ]
    },
    {
     "name": "stdout",
     "output_type": "stream",
     "text": [
      "                   all       1056       1216      0.569      0.479      0.441      0.133\n"
     ]
    },
    {
     "name": "stderr",
     "output_type": "stream",
     "text": [
      "\n"
     ]
    },
    {
     "name": "stdout",
     "output_type": "stream",
     "text": [
      "\n",
      "      Epoch    GPU_mem   box_loss   cls_loss   dfl_loss  Instances       Size\n"
     ]
    },
    {
     "name": "stderr",
     "output_type": "stream",
     "text": [
      "     92/300       2.3G      1.117     0.6937      1.167         46        384: 100%|██████████| 98/98 [00:21<00:00,  4.48it/s]\n"
     ]
    },
    {
     "name": "stdout",
     "output_type": "stream",
     "text": [
      "{'metrics/precision(B)': 0.56865, 'metrics/recall(B)': 0.47944, 'metrics/mAP50(B)': 0.44072, 'metrics/mAP50-95(B)': 0.13312, 'val/box_loss': 2.80576, 'val/cls_loss': 1.53606, 'val/dfl_loss': 2.87357}\n",
      "\n",
      "Actual mAP50 : 0.4407\n",
      "\n",
      "Best actual metric : 0.5166 on epoch 27\n"
     ]
    },
    {
     "name": "stderr",
     "output_type": "stream",
     "text": [
      "                 Class     Images  Instances      Box(P          R      mAP50  mAP50-95): 100%|██████████| 12/12 [00:05<00:00,  2.03it/s]"
     ]
    },
    {
     "name": "stdout",
     "output_type": "stream",
     "text": [
      "                   all       1056       1216      0.578      0.473      0.434      0.126\n"
     ]
    },
    {
     "name": "stderr",
     "output_type": "stream",
     "text": [
      "\n"
     ]
    },
    {
     "name": "stdout",
     "output_type": "stream",
     "text": [
      "\n",
      "      Epoch    GPU_mem   box_loss   cls_loss   dfl_loss  Instances       Size\n"
     ]
    },
    {
     "name": "stderr",
     "output_type": "stream",
     "text": [
      "     93/300       2.3G      1.117     0.6895      1.166         46        384: 100%|██████████| 98/98 [00:21<00:00,  4.51it/s]\n"
     ]
    },
    {
     "name": "stdout",
     "output_type": "stream",
     "text": [
      "{'metrics/precision(B)': 0.57762, 'metrics/recall(B)': 0.47346, 'metrics/mAP50(B)': 0.43431, 'metrics/mAP50-95(B)': 0.12607, 'val/box_loss': 2.80529, 'val/cls_loss': 1.57724, 'val/dfl_loss': 2.83472}\n",
      "\n",
      "Actual mAP50 : 0.4343\n",
      "\n",
      "Best actual metric : 0.5166 on epoch 27\n"
     ]
    },
    {
     "name": "stderr",
     "output_type": "stream",
     "text": [
      "                 Class     Images  Instances      Box(P          R      mAP50  mAP50-95): 100%|██████████| 12/12 [00:05<00:00,  2.04it/s]"
     ]
    },
    {
     "name": "stdout",
     "output_type": "stream",
     "text": [
      "                   all       1056       1216       0.57      0.442      0.414      0.124\n"
     ]
    },
    {
     "name": "stderr",
     "output_type": "stream",
     "text": [
      "\n"
     ]
    },
    {
     "name": "stdout",
     "output_type": "stream",
     "text": [
      "\n",
      "      Epoch    GPU_mem   box_loss   cls_loss   dfl_loss  Instances       Size\n"
     ]
    },
    {
     "name": "stderr",
     "output_type": "stream",
     "text": [
      "     94/300       2.3G      1.098     0.6758      1.158         51        384: 100%|██████████| 98/98 [00:21<00:00,  4.54it/s]\n"
     ]
    },
    {
     "name": "stdout",
     "output_type": "stream",
     "text": [
      "{'metrics/precision(B)': 0.56995, 'metrics/recall(B)': 0.44161, 'metrics/mAP50(B)': 0.41436, 'metrics/mAP50-95(B)': 0.12419, 'val/box_loss': 2.83513, 'val/cls_loss': 1.6535, 'val/dfl_loss': 2.88363}\n",
      "\n",
      "Actual mAP50 : 0.4144\n",
      "\n",
      "Best actual metric : 0.5166 on epoch 27\n"
     ]
    },
    {
     "name": "stderr",
     "output_type": "stream",
     "text": [
      "                 Class     Images  Instances      Box(P          R      mAP50  mAP50-95): 100%|██████████| 12/12 [00:06<00:00,  2.00it/s]"
     ]
    },
    {
     "name": "stdout",
     "output_type": "stream",
     "text": [
      "                   all       1056       1216      0.589      0.471      0.442      0.127\n"
     ]
    },
    {
     "name": "stderr",
     "output_type": "stream",
     "text": [
      "\n"
     ]
    },
    {
     "name": "stdout",
     "output_type": "stream",
     "text": [
      "\n",
      "      Epoch    GPU_mem   box_loss   cls_loss   dfl_loss  Instances       Size\n"
     ]
    },
    {
     "name": "stderr",
     "output_type": "stream",
     "text": [
      "     95/300       2.3G      1.117     0.6893      1.166         37        384: 100%|██████████| 98/98 [00:21<00:00,  4.49it/s]\n"
     ]
    },
    {
     "name": "stdout",
     "output_type": "stream",
     "text": [
      "{'metrics/precision(B)': 0.58927, 'metrics/recall(B)': 0.47122, 'metrics/mAP50(B)': 0.44161, 'metrics/mAP50-95(B)': 0.12699, 'val/box_loss': 2.80625, 'val/cls_loss': 1.61703, 'val/dfl_loss': 2.84817}\n",
      "\n",
      "Actual mAP50 : 0.4416\n",
      "\n",
      "Best actual metric : 0.5166 on epoch 27\n"
     ]
    },
    {
     "name": "stderr",
     "output_type": "stream",
     "text": [
      "                 Class     Images  Instances      Box(P          R      mAP50  mAP50-95): 100%|██████████| 12/12 [00:05<00:00,  2.07it/s]"
     ]
    },
    {
     "name": "stdout",
     "output_type": "stream",
     "text": [
      "                   all       1056       1216      0.544      0.478      0.428      0.125\n"
     ]
    },
    {
     "name": "stderr",
     "output_type": "stream",
     "text": [
      "\n"
     ]
    },
    {
     "name": "stdout",
     "output_type": "stream",
     "text": [
      "\n",
      "      Epoch    GPU_mem   box_loss   cls_loss   dfl_loss  Instances       Size\n"
     ]
    },
    {
     "name": "stderr",
     "output_type": "stream",
     "text": [
      "     96/300      2.32G      1.099     0.6795      1.155         41        384: 100%|██████████| 98/98 [00:21<00:00,  4.49it/s]\n"
     ]
    },
    {
     "name": "stdout",
     "output_type": "stream",
     "text": [
      "{'metrics/precision(B)': 0.54433, 'metrics/recall(B)': 0.4778, 'metrics/mAP50(B)': 0.42779, 'metrics/mAP50-95(B)': 0.1254, 'val/box_loss': 2.79657, 'val/cls_loss': 1.59208, 'val/dfl_loss': 2.80971}\n",
      "\n",
      "Actual mAP50 : 0.4278\n",
      "\n",
      "Best actual metric : 0.5166 on epoch 27\n"
     ]
    },
    {
     "name": "stderr",
     "output_type": "stream",
     "text": [
      "                 Class     Images  Instances      Box(P          R      mAP50  mAP50-95): 100%|██████████| 12/12 [00:05<00:00,  2.02it/s]"
     ]
    },
    {
     "name": "stdout",
     "output_type": "stream",
     "text": [
      "                   all       1056       1216      0.553      0.462      0.412      0.118\n"
     ]
    },
    {
     "name": "stderr",
     "output_type": "stream",
     "text": [
      "\n"
     ]
    },
    {
     "name": "stdout",
     "output_type": "stream",
     "text": [
      "\n",
      "      Epoch    GPU_mem   box_loss   cls_loss   dfl_loss  Instances       Size\n"
     ]
    },
    {
     "name": "stderr",
     "output_type": "stream",
     "text": [
      "     97/300       2.3G      1.112     0.6924      1.163         43        384: 100%|██████████| 98/98 [00:21<00:00,  4.46it/s]\n"
     ]
    },
    {
     "name": "stdout",
     "output_type": "stream",
     "text": [
      "{'metrics/precision(B)': 0.55335, 'metrics/recall(B)': 0.46217, 'metrics/mAP50(B)': 0.41165, 'metrics/mAP50-95(B)': 0.11758, 'val/box_loss': 2.8284, 'val/cls_loss': 1.628, 'val/dfl_loss': 2.87595}\n",
      "\n",
      "Actual mAP50 : 0.4117\n",
      "\n",
      "Best actual metric : 0.5166 on epoch 27\n"
     ]
    },
    {
     "name": "stderr",
     "output_type": "stream",
     "text": [
      "                 Class     Images  Instances      Box(P          R      mAP50  mAP50-95): 100%|██████████| 12/12 [00:05<00:00,  2.07it/s]"
     ]
    },
    {
     "name": "stdout",
     "output_type": "stream",
     "text": [
      "                   all       1056       1216      0.547       0.48       0.44      0.124\n"
     ]
    },
    {
     "name": "stderr",
     "output_type": "stream",
     "text": [
      "\n"
     ]
    },
    {
     "name": "stdout",
     "output_type": "stream",
     "text": [
      "\n",
      "      Epoch    GPU_mem   box_loss   cls_loss   dfl_loss  Instances       Size\n"
     ]
    },
    {
     "name": "stderr",
     "output_type": "stream",
     "text": [
      "     98/300      2.31G      1.103     0.6816      1.158         47        384: 100%|██████████| 98/98 [00:21<00:00,  4.49it/s]\n"
     ]
    },
    {
     "name": "stdout",
     "output_type": "stream",
     "text": [
      "{'metrics/precision(B)': 0.54671, 'metrics/recall(B)': 0.48026, 'metrics/mAP50(B)': 0.44018, 'metrics/mAP50-95(B)': 0.12375, 'val/box_loss': 2.81933, 'val/cls_loss': 1.58523, 'val/dfl_loss': 2.84091}\n",
      "\n",
      "Actual mAP50 : 0.4402\n",
      "\n",
      "Best actual metric : 0.5166 on epoch 27\n"
     ]
    },
    {
     "name": "stderr",
     "output_type": "stream",
     "text": [
      "                 Class     Images  Instances      Box(P          R      mAP50  mAP50-95): 100%|██████████| 12/12 [00:05<00:00,  2.03it/s]"
     ]
    },
    {
     "name": "stdout",
     "output_type": "stream",
     "text": [
      "                   all       1056       1216      0.546      0.454      0.396      0.117\n"
     ]
    },
    {
     "name": "stderr",
     "output_type": "stream",
     "text": [
      "\n"
     ]
    },
    {
     "name": "stdout",
     "output_type": "stream",
     "text": [
      "\n",
      "      Epoch    GPU_mem   box_loss   cls_loss   dfl_loss  Instances       Size\n"
     ]
    },
    {
     "name": "stderr",
     "output_type": "stream",
     "text": [
      "     99/300      2.32G      1.099      0.678      1.157         47        384: 100%|██████████| 98/98 [00:21<00:00,  4.51it/s]\n"
     ]
    },
    {
     "name": "stdout",
     "output_type": "stream",
     "text": [
      "{'metrics/precision(B)': 0.54567, 'metrics/recall(B)': 0.45395, 'metrics/mAP50(B)': 0.39578, 'metrics/mAP50-95(B)': 0.11712, 'val/box_loss': 2.80957, 'val/cls_loss': 1.66551, 'val/dfl_loss': 2.84722}\n",
      "\n",
      "Actual mAP50 : 0.3958\n",
      "\n",
      "Best actual metric : 0.5166 on epoch 27\n"
     ]
    },
    {
     "name": "stderr",
     "output_type": "stream",
     "text": [
      "                 Class     Images  Instances      Box(P          R      mAP50  mAP50-95): 100%|██████████| 12/12 [00:05<00:00,  2.05it/s]"
     ]
    },
    {
     "name": "stdout",
     "output_type": "stream",
     "text": [
      "                   all       1056       1216      0.521      0.467      0.386      0.114\n"
     ]
    },
    {
     "name": "stderr",
     "output_type": "stream",
     "text": [
      "\n"
     ]
    },
    {
     "name": "stdout",
     "output_type": "stream",
     "text": [
      "\n",
      "      Epoch    GPU_mem   box_loss   cls_loss   dfl_loss  Instances       Size\n"
     ]
    },
    {
     "name": "stderr",
     "output_type": "stream",
     "text": [
      "    100/300       2.3G      1.099     0.6806      1.157         42        384: 100%|██████████| 98/98 [00:21<00:00,  4.46it/s]\n"
     ]
    },
    {
     "name": "stdout",
     "output_type": "stream",
     "text": [
      "{'metrics/precision(B)': 0.52122, 'metrics/recall(B)': 0.46711, 'metrics/mAP50(B)': 0.38597, 'metrics/mAP50-95(B)': 0.11357, 'val/box_loss': 2.84619, 'val/cls_loss': 1.62131, 'val/dfl_loss': 2.89709}\n",
      "\n",
      "Actual mAP50 : 0.386\n",
      "\n",
      "Best actual metric : 0.5166 on epoch 27\n"
     ]
    },
    {
     "name": "stderr",
     "output_type": "stream",
     "text": [
      "                 Class     Images  Instances      Box(P          R      mAP50  mAP50-95): 100%|██████████| 12/12 [00:06<00:00,  1.98it/s]"
     ]
    },
    {
     "name": "stdout",
     "output_type": "stream",
     "text": [
      "                   all       1056       1216      0.524      0.462      0.403      0.115\n"
     ]
    },
    {
     "name": "stderr",
     "output_type": "stream",
     "text": [
      "\n"
     ]
    },
    {
     "name": "stdout",
     "output_type": "stream",
     "text": [
      "\n",
      "      Epoch    GPU_mem   box_loss   cls_loss   dfl_loss  Instances       Size\n"
     ]
    },
    {
     "name": "stderr",
     "output_type": "stream",
     "text": [
      "    101/300      2.32G        1.1     0.6733      1.156         42        384: 100%|██████████| 98/98 [00:21<00:00,  4.46it/s]\n"
     ]
    },
    {
     "name": "stdout",
     "output_type": "stream",
     "text": [
      "{'metrics/precision(B)': 0.52395, 'metrics/recall(B)': 0.46217, 'metrics/mAP50(B)': 0.40292, 'metrics/mAP50-95(B)': 0.11498, 'val/box_loss': 2.85536, 'val/cls_loss': 1.66212, 'val/dfl_loss': 2.90319}\n",
      "\n",
      "Actual mAP50 : 0.4029\n",
      "\n",
      "Best actual metric : 0.5166 on epoch 27\n"
     ]
    },
    {
     "name": "stderr",
     "output_type": "stream",
     "text": [
      "                 Class     Images  Instances      Box(P          R      mAP50  mAP50-95): 100%|██████████| 12/12 [00:05<00:00,  2.02it/s]"
     ]
    },
    {
     "name": "stdout",
     "output_type": "stream",
     "text": [
      "                   all       1056       1216      0.546       0.47       0.42      0.121\n"
     ]
    },
    {
     "name": "stderr",
     "output_type": "stream",
     "text": [
      "\n"
     ]
    },
    {
     "name": "stdout",
     "output_type": "stream",
     "text": [
      "\n",
      "      Epoch    GPU_mem   box_loss   cls_loss   dfl_loss  Instances       Size\n"
     ]
    },
    {
     "name": "stderr",
     "output_type": "stream",
     "text": [
      "    102/300      2.31G      1.089     0.6681      1.149         43        384: 100%|██████████| 98/98 [00:21<00:00,  4.49it/s]\n"
     ]
    },
    {
     "name": "stdout",
     "output_type": "stream",
     "text": [
      "{'metrics/precision(B)': 0.54624, 'metrics/recall(B)': 0.47039, 'metrics/mAP50(B)': 0.41975, 'metrics/mAP50-95(B)': 0.12074, 'val/box_loss': 2.81685, 'val/cls_loss': 1.60882, 'val/dfl_loss': 2.87197}\n",
      "\n",
      "Actual mAP50 : 0.4198\n",
      "\n",
      "Best actual metric : 0.5166 on epoch 27\n"
     ]
    },
    {
     "name": "stderr",
     "output_type": "stream",
     "text": [
      "                 Class     Images  Instances      Box(P          R      mAP50  mAP50-95): 100%|██████████| 12/12 [00:05<00:00,  2.05it/s]"
     ]
    },
    {
     "name": "stdout",
     "output_type": "stream",
     "text": [
      "                   all       1056       1216      0.509       0.47      0.416      0.121\n"
     ]
    },
    {
     "name": "stderr",
     "output_type": "stream",
     "text": [
      "\n"
     ]
    },
    {
     "name": "stdout",
     "output_type": "stream",
     "text": [
      "\n",
      "      Epoch    GPU_mem   box_loss   cls_loss   dfl_loss  Instances       Size\n"
     ]
    },
    {
     "name": "stderr",
     "output_type": "stream",
     "text": [
      "    103/300      2.31G      1.096     0.6728      1.154         44        384: 100%|██████████| 98/98 [00:22<00:00,  4.43it/s]\n"
     ]
    },
    {
     "name": "stdout",
     "output_type": "stream",
     "text": [
      "{'metrics/precision(B)': 0.50891, 'metrics/recall(B)': 0.47039, 'metrics/mAP50(B)': 0.41554, 'metrics/mAP50-95(B)': 0.12084, 'val/box_loss': 2.82502, 'val/cls_loss': 1.61346, 'val/dfl_loss': 2.87428}\n",
      "\n",
      "Actual mAP50 : 0.4155\n",
      "\n",
      "Best actual metric : 0.5166 on epoch 27\n"
     ]
    },
    {
     "name": "stderr",
     "output_type": "stream",
     "text": [
      "                 Class     Images  Instances      Box(P          R      mAP50  mAP50-95): 100%|██████████| 12/12 [00:05<00:00,  2.10it/s]"
     ]
    },
    {
     "name": "stdout",
     "output_type": "stream",
     "text": [
      "                   all       1056       1216      0.551      0.452      0.396       0.12\n"
     ]
    },
    {
     "name": "stderr",
     "output_type": "stream",
     "text": [
      "\n"
     ]
    },
    {
     "name": "stdout",
     "output_type": "stream",
     "text": [
      "\n",
      "      Epoch    GPU_mem   box_loss   cls_loss   dfl_loss  Instances       Size\n"
     ]
    },
    {
     "name": "stderr",
     "output_type": "stream",
     "text": [
      "    104/300      2.31G      1.076     0.6707      1.152         44        384: 100%|██████████| 98/98 [00:21<00:00,  4.46it/s]\n"
     ]
    },
    {
     "name": "stdout",
     "output_type": "stream",
     "text": [
      "{'metrics/precision(B)': 0.55141, 'metrics/recall(B)': 0.4523, 'metrics/mAP50(B)': 0.39644, 'metrics/mAP50-95(B)': 0.1196, 'val/box_loss': 2.82856, 'val/cls_loss': 1.58334, 'val/dfl_loss': 2.88455}\n",
      "\n",
      "Actual mAP50 : 0.3964\n",
      "\n",
      "Best actual metric : 0.5166 on epoch 27\n"
     ]
    },
    {
     "name": "stderr",
     "output_type": "stream",
     "text": [
      "                 Class     Images  Instances      Box(P          R      mAP50  mAP50-95): 100%|██████████| 12/12 [00:05<00:00,  2.06it/s]"
     ]
    },
    {
     "name": "stdout",
     "output_type": "stream",
     "text": [
      "                   all       1056       1216      0.563      0.459      0.412      0.123\n"
     ]
    },
    {
     "name": "stderr",
     "output_type": "stream",
     "text": [
      "\n"
     ]
    },
    {
     "name": "stdout",
     "output_type": "stream",
     "text": [
      "\n",
      "      Epoch    GPU_mem   box_loss   cls_loss   dfl_loss  Instances       Size\n"
     ]
    },
    {
     "name": "stderr",
     "output_type": "stream",
     "text": [
      "    105/300      2.31G      1.082     0.6634      1.143         44        384: 100%|██████████| 98/98 [00:21<00:00,  4.46it/s]\n"
     ]
    },
    {
     "name": "stdout",
     "output_type": "stream",
     "text": [
      "{'metrics/precision(B)': 0.56334, 'metrics/recall(B)': 0.45939, 'metrics/mAP50(B)': 0.41215, 'metrics/mAP50-95(B)': 0.12311, 'val/box_loss': 2.80944, 'val/cls_loss': 1.59649, 'val/dfl_loss': 2.84904}\n",
      "\n",
      "Actual mAP50 : 0.4122\n",
      "\n",
      "Best actual metric : 0.5166 on epoch 27\n"
     ]
    },
    {
     "name": "stderr",
     "output_type": "stream",
     "text": [
      "                 Class     Images  Instances      Box(P          R      mAP50  mAP50-95): 100%|██████████| 12/12 [00:05<00:00,  2.00it/s]"
     ]
    },
    {
     "name": "stdout",
     "output_type": "stream",
     "text": [
      "                   all       1056       1216      0.479      0.488      0.386      0.117\n"
     ]
    },
    {
     "name": "stderr",
     "output_type": "stream",
     "text": [
      "\n"
     ]
    },
    {
     "name": "stdout",
     "output_type": "stream",
     "text": [
      "\n",
      "      Epoch    GPU_mem   box_loss   cls_loss   dfl_loss  Instances       Size\n"
     ]
    },
    {
     "name": "stderr",
     "output_type": "stream",
     "text": [
      "    106/300      2.31G      1.081     0.6608      1.141         46        384: 100%|██████████| 98/98 [00:22<00:00,  4.44it/s]\n"
     ]
    },
    {
     "name": "stdout",
     "output_type": "stream",
     "text": [
      "{'metrics/precision(B)': 0.47873, 'metrics/recall(B)': 0.48766, 'metrics/mAP50(B)': 0.38575, 'metrics/mAP50-95(B)': 0.11723, 'val/box_loss': 2.85561, 'val/cls_loss': 1.59002, 'val/dfl_loss': 2.8796}\n",
      "\n",
      "Actual mAP50 : 0.3857\n",
      "\n",
      "Best actual metric : 0.5166 on epoch 27\n"
     ]
    },
    {
     "name": "stderr",
     "output_type": "stream",
     "text": [
      "                 Class     Images  Instances      Box(P          R      mAP50  mAP50-95): 100%|██████████| 12/12 [00:05<00:00,  2.10it/s]"
     ]
    },
    {
     "name": "stdout",
     "output_type": "stream",
     "text": [
      "                   all       1056       1216      0.534      0.434      0.382      0.116\n"
     ]
    },
    {
     "name": "stderr",
     "output_type": "stream",
     "text": [
      "\n"
     ]
    },
    {
     "name": "stdout",
     "output_type": "stream",
     "text": [
      "\n",
      "      Epoch    GPU_mem   box_loss   cls_loss   dfl_loss  Instances       Size\n"
     ]
    },
    {
     "name": "stderr",
     "output_type": "stream",
     "text": [
      "    107/300      2.31G      1.077      0.658      1.138         51        384: 100%|██████████| 98/98 [00:21<00:00,  4.50it/s]\n"
     ]
    },
    {
     "name": "stdout",
     "output_type": "stream",
     "text": [
      "{'metrics/precision(B)': 0.53443, 'metrics/recall(B)': 0.43421, 'metrics/mAP50(B)': 0.38223, 'metrics/mAP50-95(B)': 0.1155, 'val/box_loss': 2.88231, 'val/cls_loss': 1.58612, 'val/dfl_loss': 2.90274}\n",
      "\n",
      "Actual mAP50 : 0.3822\n",
      "\n",
      "Best actual metric : 0.5166 on epoch 27\n"
     ]
    },
    {
     "ename": "KeyboardInterrupt",
     "evalue": "",
     "output_type": "error",
     "traceback": [
      "\u001b[1;31m---------------------------------------------------------------------------\u001b[0m",
      "\u001b[1;31mKeyboardInterrupt\u001b[0m                         Traceback (most recent call last)",
      "Cell \u001b[1;32mIn[1], line 91\u001b[0m\n\u001b[0;32m     87\u001b[0m         \u001b[38;5;28;01mraise\u001b[39;00m \u001b[38;5;167;01mKeyboardInterrupt\u001b[39;00m\n\u001b[0;32m     89\u001b[0m model\u001b[38;5;241m.\u001b[39madd_callback(\u001b[38;5;124m'\u001b[39m\u001b[38;5;124mon_train_epoch_end\u001b[39m\u001b[38;5;124m'\u001b[39m, on_train_epoch_end)    \u001b[38;5;66;03m# Adicione o callback personalizado ao modelo\u001b[39;00m\n\u001b[1;32m---> 91\u001b[0m \u001b[43mmodel\u001b[49m\u001b[38;5;241;43m.\u001b[39;49m\u001b[43mtrain\u001b[49m\u001b[43m(\u001b[49m\n\u001b[0;32m     92\u001b[0m \u001b[43m    \u001b[49m\u001b[43mdata\u001b[49m\u001b[43m \u001b[49m\u001b[38;5;241;43m=\u001b[39;49m\u001b[43m \u001b[49m\u001b[38;5;124;43mr\u001b[39;49m\u001b[38;5;124;43m\"\u001b[39;49m\u001b[38;5;124;43mD:\u001b[39;49m\u001b[38;5;124;43m\\\u001b[39;49m\u001b[38;5;124;43mJudson_projetos\u001b[39;49m\u001b[38;5;124;43m\\\u001b[39;49m\u001b[38;5;124;43mYolo_trainer\u001b[39;49m\u001b[38;5;124;43m\\\u001b[39;49m\u001b[38;5;124;43mYOLO_tools\u001b[39;49m\u001b[38;5;124;43m\\\u001b[39;49m\u001b[38;5;124;43mdatasets\u001b[39;49m\u001b[38;5;124;43m\\\u001b[39;49m\u001b[38;5;124;43memissoes_YOLO\u001b[39;49m\u001b[38;5;124;43m\\\u001b[39;49m\u001b[38;5;124;43mdataset.yaml\u001b[39;49m\u001b[38;5;124;43m\"\u001b[39;49m\u001b[43m,\u001b[49m\n\u001b[0;32m     93\u001b[0m \u001b[43m    \u001b[49m\u001b[43mdevice\u001b[49m\u001b[43m \u001b[49m\u001b[38;5;241;43m=\u001b[39;49m\u001b[43m \u001b[49m\u001b[38;5;124;43m\"\u001b[39;49m\u001b[38;5;124;43mcuda\u001b[39;49m\u001b[38;5;124;43m\"\u001b[39;49m\u001b[43m,\u001b[49m\n\u001b[0;32m     94\u001b[0m \n\u001b[0;32m     95\u001b[0m \u001b[43m    \u001b[49m\u001b[43mbatch\u001b[49m\u001b[43m \u001b[49m\u001b[38;5;241;43m=\u001b[39;49m\u001b[43m \u001b[49m\u001b[43mconfig\u001b[49m\u001b[43m[\u001b[49m\u001b[38;5;124;43m'\u001b[39;49m\u001b[38;5;124;43mbatch\u001b[39;49m\u001b[38;5;124;43m'\u001b[39;49m\u001b[43m]\u001b[49m\u001b[43m,\u001b[49m\u001b[43m    \u001b[49m\u001b[38;5;66;43;03m### training configs\u001b[39;49;00m\n\u001b[0;32m     96\u001b[0m \u001b[43m    \u001b[49m\u001b[38;5;66;43;03m# epochs = config['epochs'],\u001b[39;49;00m\n\u001b[0;32m     97\u001b[0m \u001b[43m    \u001b[49m\u001b[43mepochs\u001b[49m\u001b[43m \u001b[49m\u001b[38;5;241;43m=\u001b[39;49m\u001b[43m \u001b[49m\u001b[38;5;241;43m300\u001b[39;49m\u001b[43m,\u001b[49m\n\u001b[0;32m     98\u001b[0m \u001b[43m    \u001b[49m\u001b[43mimgsz\u001b[49m\u001b[43m \u001b[49m\u001b[38;5;241;43m=\u001b[39;49m\u001b[43m \u001b[49m\u001b[43mconfig\u001b[49m\u001b[43m[\u001b[49m\u001b[38;5;124;43m'\u001b[39;49m\u001b[38;5;124;43mimgsz\u001b[39;49m\u001b[38;5;124;43m'\u001b[39;49m\u001b[43m]\u001b[49m\u001b[43m,\u001b[49m\n\u001b[0;32m     99\u001b[0m \n\u001b[0;32m    100\u001b[0m \u001b[43m    \u001b[49m\u001b[43mlr0\u001b[49m\u001b[43m \u001b[49m\u001b[38;5;241;43m=\u001b[39;49m\u001b[43m \u001b[49m\u001b[43mconfig\u001b[49m\u001b[43m[\u001b[49m\u001b[38;5;124;43m'\u001b[39;49m\u001b[38;5;124;43mlr0\u001b[39;49m\u001b[38;5;124;43m'\u001b[39;49m\u001b[43m]\u001b[49m\u001b[43m,\u001b[49m\n\u001b[0;32m    101\u001b[0m \u001b[43m    \u001b[49m\u001b[43mlrf\u001b[49m\u001b[43m \u001b[49m\u001b[38;5;241;43m=\u001b[39;49m\u001b[43m \u001b[49m\u001b[43mconfig\u001b[49m\u001b[43m[\u001b[49m\u001b[38;5;124;43m'\u001b[39;49m\u001b[38;5;124;43mlrf\u001b[39;49m\u001b[38;5;124;43m'\u001b[39;49m\u001b[43m]\u001b[49m\u001b[43m,\u001b[49m\n\u001b[0;32m    102\u001b[0m \u001b[43m    \u001b[49m\u001b[43mmomentum\u001b[49m\u001b[43m \u001b[49m\u001b[38;5;241;43m=\u001b[39;49m\u001b[43m \u001b[49m\u001b[43mconfig\u001b[49m\u001b[43m[\u001b[49m\u001b[38;5;124;43m'\u001b[39;49m\u001b[38;5;124;43mmomentum\u001b[39;49m\u001b[38;5;124;43m'\u001b[39;49m\u001b[43m]\u001b[49m\u001b[43m,\u001b[49m\n\u001b[0;32m    103\u001b[0m \u001b[43m    \u001b[49m\u001b[43moptimizer\u001b[49m\u001b[43m \u001b[49m\u001b[38;5;241;43m=\u001b[39;49m\u001b[43m \u001b[49m\u001b[43mconfig\u001b[49m\u001b[43m[\u001b[49m\u001b[38;5;124;43m'\u001b[39;49m\u001b[38;5;124;43moptimizer\u001b[39;49m\u001b[38;5;124;43m'\u001b[39;49m\u001b[43m]\u001b[49m\u001b[43m,\u001b[49m\n\u001b[0;32m    104\u001b[0m \n\u001b[0;32m    105\u001b[0m \u001b[43m    \u001b[49m\u001b[43mwarmup_bias_lr\u001b[49m\u001b[43m \u001b[49m\u001b[38;5;241;43m=\u001b[39;49m\u001b[43m \u001b[49m\u001b[43mconfig\u001b[49m\u001b[43m[\u001b[49m\u001b[38;5;124;43m'\u001b[39;49m\u001b[38;5;124;43mwarmup_bias_lr\u001b[39;49m\u001b[38;5;124;43m'\u001b[39;49m\u001b[43m]\u001b[49m\u001b[43m,\u001b[49m\n\u001b[0;32m    106\u001b[0m \u001b[43m    \u001b[49m\u001b[43mwarmup_epochs\u001b[49m\u001b[43m \u001b[49m\u001b[38;5;241;43m=\u001b[39;49m\u001b[43m \u001b[49m\u001b[43mconfig\u001b[49m\u001b[43m[\u001b[49m\u001b[38;5;124;43m'\u001b[39;49m\u001b[38;5;124;43mwarmup_epochs\u001b[39;49m\u001b[38;5;124;43m'\u001b[39;49m\u001b[43m]\u001b[49m\u001b[43m,\u001b[49m\n\u001b[0;32m    107\u001b[0m \u001b[43m    \u001b[49m\u001b[43mwarmup_momentum\u001b[49m\u001b[43m \u001b[49m\u001b[38;5;241;43m=\u001b[39;49m\u001b[43m \u001b[49m\u001b[43mconfig\u001b[49m\u001b[43m[\u001b[49m\u001b[38;5;124;43m'\u001b[39;49m\u001b[38;5;124;43mwarmup_momentum\u001b[39;49m\u001b[38;5;124;43m'\u001b[39;49m\u001b[43m]\u001b[49m\u001b[43m,\u001b[49m\n\u001b[0;32m    108\u001b[0m \u001b[43m    \u001b[49m\u001b[43mweight_decay\u001b[49m\u001b[43m \u001b[49m\u001b[38;5;241;43m=\u001b[39;49m\u001b[43m \u001b[49m\u001b[43mconfig\u001b[49m\u001b[43m[\u001b[49m\u001b[38;5;124;43m'\u001b[39;49m\u001b[38;5;124;43mweight_decay\u001b[39;49m\u001b[38;5;124;43m'\u001b[39;49m\u001b[43m]\u001b[49m\u001b[43m,\u001b[49m\n\u001b[0;32m    109\u001b[0m \u001b[43m)\u001b[49m\n",
      "File \u001b[1;32md:\\Judson_projetos\\Yolo_trainer\\YOLO_tools\\yolo-trainer-venv\\Lib\\site-packages\\ultralytics\\engine\\model.py:806\u001b[0m, in \u001b[0;36mModel.train\u001b[1;34m(self, trainer, **kwargs)\u001b[0m\n\u001b[0;32m    803\u001b[0m     \u001b[38;5;28mself\u001b[39m\u001b[38;5;241m.\u001b[39mmodel \u001b[38;5;241m=\u001b[39m \u001b[38;5;28mself\u001b[39m\u001b[38;5;241m.\u001b[39mtrainer\u001b[38;5;241m.\u001b[39mmodel\n\u001b[0;32m    805\u001b[0m \u001b[38;5;28mself\u001b[39m\u001b[38;5;241m.\u001b[39mtrainer\u001b[38;5;241m.\u001b[39mhub_session \u001b[38;5;241m=\u001b[39m \u001b[38;5;28mself\u001b[39m\u001b[38;5;241m.\u001b[39msession  \u001b[38;5;66;03m# attach optional HUB session\u001b[39;00m\n\u001b[1;32m--> 806\u001b[0m \u001b[38;5;28;43mself\u001b[39;49m\u001b[38;5;241;43m.\u001b[39;49m\u001b[43mtrainer\u001b[49m\u001b[38;5;241;43m.\u001b[39;49m\u001b[43mtrain\u001b[49m\u001b[43m(\u001b[49m\u001b[43m)\u001b[49m\n\u001b[0;32m    807\u001b[0m \u001b[38;5;66;03m# Update model and cfg after training\u001b[39;00m\n\u001b[0;32m    808\u001b[0m \u001b[38;5;28;01mif\u001b[39;00m RANK \u001b[38;5;129;01min\u001b[39;00m {\u001b[38;5;241m-\u001b[39m\u001b[38;5;241m1\u001b[39m, \u001b[38;5;241m0\u001b[39m}:\n",
      "File \u001b[1;32md:\\Judson_projetos\\Yolo_trainer\\YOLO_tools\\yolo-trainer-venv\\Lib\\site-packages\\ultralytics\\engine\\trainer.py:207\u001b[0m, in \u001b[0;36mBaseTrainer.train\u001b[1;34m(self)\u001b[0m\n\u001b[0;32m    204\u001b[0m         ddp_cleanup(\u001b[38;5;28mself\u001b[39m, \u001b[38;5;28mstr\u001b[39m(file))\n\u001b[0;32m    206\u001b[0m \u001b[38;5;28;01melse\u001b[39;00m:\n\u001b[1;32m--> 207\u001b[0m     \u001b[38;5;28;43mself\u001b[39;49m\u001b[38;5;241;43m.\u001b[39;49m\u001b[43m_do_train\u001b[49m\u001b[43m(\u001b[49m\u001b[43mworld_size\u001b[49m\u001b[43m)\u001b[49m\n",
      "File \u001b[1;32md:\\Judson_projetos\\Yolo_trainer\\YOLO_tools\\yolo-trainer-venv\\Lib\\site-packages\\ultralytics\\engine\\trainer.py:425\u001b[0m, in \u001b[0;36mBaseTrainer._do_train\u001b[1;34m(self, world_size)\u001b[0m\n\u001b[0;32m    422\u001b[0m     \u001b[38;5;28mself\u001b[39m\u001b[38;5;241m.\u001b[39mrun_callbacks(\u001b[38;5;124m\"\u001b[39m\u001b[38;5;124mon_train_batch_end\u001b[39m\u001b[38;5;124m\"\u001b[39m)\n\u001b[0;32m    424\u001b[0m \u001b[38;5;28mself\u001b[39m\u001b[38;5;241m.\u001b[39mlr \u001b[38;5;241m=\u001b[39m {\u001b[38;5;124mf\u001b[39m\u001b[38;5;124m\"\u001b[39m\u001b[38;5;124mlr/pg\u001b[39m\u001b[38;5;132;01m{\u001b[39;00mir\u001b[38;5;132;01m}\u001b[39;00m\u001b[38;5;124m\"\u001b[39m: x[\u001b[38;5;124m\"\u001b[39m\u001b[38;5;124mlr\u001b[39m\u001b[38;5;124m\"\u001b[39m] \u001b[38;5;28;01mfor\u001b[39;00m ir, x \u001b[38;5;129;01min\u001b[39;00m \u001b[38;5;28menumerate\u001b[39m(\u001b[38;5;28mself\u001b[39m\u001b[38;5;241m.\u001b[39moptimizer\u001b[38;5;241m.\u001b[39mparam_groups)}  \u001b[38;5;66;03m# for loggers\u001b[39;00m\n\u001b[1;32m--> 425\u001b[0m \u001b[38;5;28;43mself\u001b[39;49m\u001b[38;5;241;43m.\u001b[39;49m\u001b[43mrun_callbacks\u001b[49m\u001b[43m(\u001b[49m\u001b[38;5;124;43m\"\u001b[39;49m\u001b[38;5;124;43mon_train_epoch_end\u001b[39;49m\u001b[38;5;124;43m\"\u001b[39;49m\u001b[43m)\u001b[49m\n\u001b[0;32m    426\u001b[0m \u001b[38;5;28;01mif\u001b[39;00m RANK \u001b[38;5;129;01min\u001b[39;00m {\u001b[38;5;241m-\u001b[39m\u001b[38;5;241m1\u001b[39m, \u001b[38;5;241m0\u001b[39m}:\n\u001b[0;32m    427\u001b[0m     final_epoch \u001b[38;5;241m=\u001b[39m epoch \u001b[38;5;241m+\u001b[39m \u001b[38;5;241m1\u001b[39m \u001b[38;5;241m>\u001b[39m\u001b[38;5;241m=\u001b[39m \u001b[38;5;28mself\u001b[39m\u001b[38;5;241m.\u001b[39mepochs\n",
      "File \u001b[1;32md:\\Judson_projetos\\Yolo_trainer\\YOLO_tools\\yolo-trainer-venv\\Lib\\site-packages\\ultralytics\\engine\\trainer.py:168\u001b[0m, in \u001b[0;36mBaseTrainer.run_callbacks\u001b[1;34m(self, event)\u001b[0m\n\u001b[0;32m    166\u001b[0m \u001b[38;5;250m\u001b[39m\u001b[38;5;124;03m\"\"\"Run all existing callbacks associated with a particular event.\"\"\"\u001b[39;00m\n\u001b[0;32m    167\u001b[0m \u001b[38;5;28;01mfor\u001b[39;00m callback \u001b[38;5;129;01min\u001b[39;00m \u001b[38;5;28mself\u001b[39m\u001b[38;5;241m.\u001b[39mcallbacks\u001b[38;5;241m.\u001b[39mget(event, []):\n\u001b[1;32m--> 168\u001b[0m     \u001b[43mcallback\u001b[49m\u001b[43m(\u001b[49m\u001b[38;5;28;43mself\u001b[39;49m\u001b[43m)\u001b[49m\n",
      "Cell \u001b[1;32mIn[1], line 87\u001b[0m, in \u001b[0;36mon_train_epoch_end\u001b[1;34m(trainer)\u001b[0m\n\u001b[0;32m     84\u001b[0m logging\u001b[38;5;241m.\u001b[39mwarning(\u001b[38;5;124mf\u001b[39m\u001b[38;5;124m\"\u001b[39m\u001b[38;5;124mPatience has reached limit at epoch \u001b[39m\u001b[38;5;132;01m{\u001b[39;00mtrainer\u001b[38;5;241m.\u001b[39mepoch\u001b[38;5;132;01m}\u001b[39;00m\u001b[38;5;124m\"\u001b[39m)\n\u001b[0;32m     85\u001b[0m \u001b[38;5;66;03m# logging.error(\"Erro inesperado no treinamento\")\u001b[39;00m\n\u001b[1;32m---> 87\u001b[0m \u001b[38;5;28;01mraise\u001b[39;00m \u001b[38;5;167;01mKeyboardInterrupt\u001b[39;00m\n",
      "\u001b[1;31mKeyboardInterrupt\u001b[0m: "
     ]
    }
   ],
   "source": [
    "from ultralytics import YOLO\n",
    "import logging\n",
    "import json\n",
    "import yaml\n",
    "\n",
    "### this are a mix of all YOLO built-in augments, if ur implementing manual augments, it's ideal to disable YOLO augments to avoid overlay\n",
    "from ultralytics.data.augment import Albumentations, CenterCrop, RandomFlip, RandomHSV, RandomPerspective\n",
    "\n",
    "\"\"\"\n",
    "eu modifiquei as transformações dentro da classe 'Albumentations' no '.../ultralytics/data/augment, \n",
    "foi necessário zerar a probabilidade usando um float 0.0 no transform 'T' e\n",
    "mudando o valor de 'p' em __init__ para 'p=0' \n",
    "\"\"\"\n",
    "albumentations_yolo = Albumentations(p=0.0)\n",
    "centercrop_yolo = CenterCrop(0)\n",
    "randomflip_yolo = RandomFlip(p=0.0)\n",
    "randomhsv_yolo = RandomHSV(hgain=0.0, sgain=0.0, vgain=0.0)\n",
    "randomperspective_yolo = RandomPerspective(translate=0.0, scale=0.0)\n",
    "\n",
    "### YOLO é gambiarra e eu posso provar:\n",
    "\"\"\" Para treinamentos de classificação com YOLO, você deve indicar o dir com o dataset\n",
    "que deve estar especificado dentro de uma pasta chamada 'datasets'. No entando, para detecção\n",
    "o YOLO é diferente. Você precisa indicar o caminho do arquivo 'dataset.yaml' para que ele \n",
    "possa encontrar o dataset e realizar o treinamento. É a mesma função, de uma mesma lib,\n",
    "mas os caras fizeram de forma que o mesmo argumento recebe duas entradas completamente \n",
    "diferentes a depender do treinamento que você vai fazer.\n",
    "\"\"\"\n",
    "\n",
    "# # Carregar configurações de um arquivo \n",
    "# with open('../hyper_yolo.yaml', 'r') as file:\n",
    "#     config = yaml.safe_load(file)\n",
    "\n",
    "# train_config = config['train']\n",
    "# aug_config = config['train']['augmentation']\n",
    "\n",
    "with open(r'params.json', 'r') as file:   # Carregar configurações de um arquivo\n",
    "    config = json.load(file)\n",
    "\n",
    "model = YOLO(r\"yolo11n.pt\")\n",
    "\n",
    "best_recall = 0.0   # Variáveis globais para rastrear o melhor recall e a época correspondente\n",
    "best_precision = 0.0\n",
    "best_f1score = 0.0\n",
    "best_mAP50 = 0.0\n",
    "best_mAP5095 = 0.0\n",
    "best_epoch = 0\n",
    "patience = 80\n",
    "limit = patience\n",
    "\n",
    "def on_train_epoch_end(trainer):\n",
    "    global best_recall, best_precision, best_f1score, best_mAP5095, best_mAP50, best_epoch, limit\n",
    "\n",
    "    logging.basicConfig(      # Configuração do logger\n",
    "        level=logging.INFO,  # Nível mínimo de mensagens para registrar\n",
    "        format=\"%(asctime)s - %(levelname)s - %(message)s\",\n",
    "        filename=\"training.log\",  # Arquivo onde as mensagens serão salvas\n",
    "        filemode=\"w\",  # Sobrescreve o arquivo a cada execução\n",
    "    )\n",
    "\n",
    "    # current_recall = trainer.metrics.get('metrics/recall(B)', 0.0)       # Obtenha o recall atual dos resultados de validação\n",
    "    # current_precision = trainer.metrics.get('metrics/precision(B)', 0.0)    # Obtenha o precision atual dos resultados de validação\n",
    "    # current_f1score = 2 * (current_precision * current_recall) / (current_precision + current_recall) if current_recall > 0 else 0.0      # f1score\n",
    "\n",
    "    current_mAP50 = trainer.metrics.get('metrics/mAP50(B)', 0.0)       # mAP50 ajuda no melhor 'recall'\n",
    "    current_mAP5095 = trainer.metrics.get('metrics/mAP50-95(B)', 0.0)       # mAP50-95 ajuda no melhor 'precision'\n",
    "    \n",
    "\n",
    "    if current_mAP50 > best_mAP50:        # Verifique se o recall atual é melhor que o melhor recall registrado\n",
    "        best_mAP50 = current_mAP50\n",
    "        best_epoch = trainer.epoch\n",
    "\n",
    "        logging.info(f\"\\nBest actual metric : {round(best_mAP50, 4)} on epoch {best_epoch}\")\n",
    "        limit = patience\n",
    "\n",
    "        model.save(f'best_metric.pt')            # Salve os pesos do modelo para a melhor época com base no recall\n",
    "\n",
    "    print(trainer.metrics)\n",
    "    print(f\"\\nActual mAP50 : {round(current_mAP50, 4)}\")\n",
    "    print(f\"\\nBest actual metric : {round(best_mAP50, 4)} on epoch {best_epoch}\")\n",
    "\n",
    "    limit -= 1\n",
    "\n",
    "    if limit == 0 :\n",
    "        logging.warning(f\"Patience has reached limit at epoch {trainer.epoch}\")\n",
    "        # logging.error(\"Erro inesperado no treinamento\")\n",
    "        \n",
    "        raise KeyboardInterrupt\n",
    "\n",
    "model.add_callback('on_train_epoch_end', on_train_epoch_end)    # Adicione o callback personalizado ao modelo\n",
    "\n",
    "model.train(\n",
    "    data = r\"D:\\Judson_projetos\\Yolo_trainer\\YOLO_tools\\datasets\\emissoes_YOLO\\dataset.yaml\",\n",
    "    device = \"cuda\",\n",
    "\n",
    "    batch = config['batch'],    ### training configs\n",
    "    # epochs = config['epochs'],\n",
    "    epochs = 300,\n",
    "    imgsz = config['imgsz'],\n",
    "\n",
    "    lr0 = config['lr0'],\n",
    "    lrf = config['lrf'],\n",
    "    momentum = config['momentum'],\n",
    "    optimizer = config['optimizer'],\n",
    "\n",
    "    warmup_bias_lr = config['warmup_bias_lr'],\n",
    "    warmup_epochs = config['warmup_epochs'],\n",
    "    warmup_momentum = config['warmup_momentum'],\n",
    "    weight_decay = config['weight_decay'],\n",
    ")"
   ]
  }
 ],
 "metadata": {
  "kernelspec": {
   "display_name": "yolo-trainer-venv",
   "language": "python",
   "name": "python3"
  },
  "language_info": {
   "codemirror_mode": {
    "name": "ipython",
    "version": 3
   },
   "file_extension": ".py",
   "mimetype": "text/x-python",
   "name": "python",
   "nbconvert_exporter": "python",
   "pygments_lexer": "ipython3",
   "version": "3.12.3"
  }
 },
 "nbformat": 4,
 "nbformat_minor": 2
}
