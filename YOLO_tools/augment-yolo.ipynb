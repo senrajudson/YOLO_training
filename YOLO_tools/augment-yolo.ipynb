{
 "cells": [
  {
   "cell_type": "code",
   "execution_count": null,
   "metadata": {},
   "outputs": [],
   "source": [
    "from source.class_yolo_trainer import YOLOTrainer\n",
    "\n",
    "yolo_trainer = YOLOTrainer\n",
    "yolo_trainer = YOLOTrainer()\n",
    "\n",
    "### vou deixar anotado porque não sei se fiz gambiarra, \n",
    "\"\"\" no atributo image_folder para tarefas de classificação eu estou passando somente a pasta do dataset, sem indicar a pasta de imagens\n",
    "\"\"\"\n",
    "yolo_trainer.image_folder = r\"emissoes_dataset_YOLO\\images\"\n",
    "yolo_trainer.annotations_folder = r\"emissoes_dataset_YOLO\\labels\"\n",
    "yolo_trainer.yolo_Classes = [\"emissao\"]\n",
    "yolo_trainer.dataset_path = \"emissoes_YOLO\"\n",
    "yolo_trainer.task = \"detect\"\n",
    "yolo_trainer.aug = True\n",
    "yolo_trainer.n_aug = 10\n",
    "yolo_trainer.odd = 0.12\n",
    "yolo_trainer.test_percentual_divisor = 20"
   ]
  },
  {
   "cell_type": "code",
   "execution_count": null,
   "metadata": {},
   "outputs": [],
   "source": [
    "from utils.remover_labels_vazios import processar_dataset\n",
    "from utils.cvat_dataset import cvat_dataset\n",
    "\n",
    "cvat_dataset(\"../emissoes_dataset_CVAT\", \"emissoes_dataset_YOLO\")\n",
    "processar_dataset(\"emissoes_dataset_YOLO\")"
   ]
  },
  {
   "cell_type": "code",
   "execution_count": 6,
   "metadata": {},
   "outputs": [
    {
     "name": "stdout",
     "output_type": "stream",
     "text": [
      "\n",
      "\n",
      "nvcc: NVIDIA (R) Cuda compiler driver\n",
      "Copyright (c) 2005-2023 NVIDIA Corporation\n",
      "Built on Wed_Feb__8_05:53:42_Coordinated_Universal_Time_2023\n",
      "Cuda compilation tools, release 12.1, V12.1.66\n",
      "Build cuda_12.1.r12.1/compiler.32415258_0\n",
      "\n",
      "\n",
      "Is torch available?  True\n",
      "CUDA version:  12.1\n",
      "cuDNN version:  90100\n"
     ]
    }
   ],
   "source": [
    "from utils.torch_is_available import torch_is_available\n",
    "import torchvision\n",
    "import torch\n",
    "\n",
    "# print(f\"TorchVision version: {torchvision.__version__}\")\n",
    "# print(f\"PyTorch version: {torch.__version__}\")\n",
    "# print(torchvision.ops.nms.__module__)\n",
    "# print('Torch: ', torch.cuda.is_available())\n",
    "print('\\n')\n",
    "torch_is_available()"
   ]
  },
  {
   "cell_type": "code",
   "execution_count": null,
   "metadata": {},
   "outputs": [],
   "source": [
    "from ultralytics import YOLO\n",
    "\n",
    "model = YOLO(\"runs\\\\detect\\\\train52\\\\weights\\\\best.pt\")\n",
    "\n",
    "model.info()"
   ]
  },
  {
   "cell_type": "code",
   "execution_count": null,
   "metadata": {},
   "outputs": [],
   "source": [
    "from utils.check_file import check_file\n",
    "\n",
    "check_file(\"datasets\\\\emissoes_YOLO\\\\dataset.yaml\")"
   ]
  }
 ],
 "metadata": {
  "kernelspec": {
   "display_name": "yolo-trainer-venv",
   "language": "python",
   "name": "python3"
  },
  "language_info": {
   "codemirror_mode": {
    "name": "ipython",
    "version": 3
   },
   "file_extension": ".py",
   "mimetype": "text/x-python",
   "name": "python",
   "nbconvert_exporter": "python",
   "pygments_lexer": "ipython3",
   "version": "3.12.3"
  }
 },
 "nbformat": 4,
 "nbformat_minor": 2
}
