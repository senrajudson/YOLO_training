{
 "cells": [
  {
   "cell_type": "code",
   "execution_count": 1,
   "metadata": {},
   "outputs": [
    {
     "name": "stderr",
     "output_type": "stream",
     "text": [
      "d:\\Judson_projetos\\Yolo_trainer\\YOLO_tools\\yolo-trainer-venv\\Lib\\site-packages\\albumentations\\__init__.py:24: UserWarning: A new version of Albumentations is available: 2.0.0 (you have 1.4.24). Upgrade using: pip install -U albumentations. To disable automatic update checks, set the environment variable NO_ALBUMENTATIONS_UPDATE to 1.\n",
      "  check_for_updates()\n",
      "d:\\Judson_projetos\\Yolo_trainer\\YOLO_tools\\yolo-trainer-venv\\Lib\\site-packages\\albumentations\\augmentations\\blur\\functional.py:149: UserWarning: blur_limit: Non-zero kernel sizes must be odd. Range (2, 5) automatically adjusted to (3, 5).\n",
      "  result = _ensure_odd_values(result, info.field_name)\n"
     ]
    }
   ],
   "source": [
    "from source.class_yolo_trainer import YOLOTrainer\n",
    "\n",
    "yolo_trainer = YOLOTrainer\n",
    "yolo_trainer = YOLOTrainer()\n",
    "\n",
    "### vou deixar anotado porque não sei se fiz gambiarra, \n",
    "\"\"\" no atributo image_folder para tarefas de classificação eu estou passando somente a pasta do dataset, sem indicar a pasta de imagens\n",
    "\"\"\"\n",
    "yolo_trainer.image_folder = r\"emissoes_dataset_YOLO\\images\"\n",
    "yolo_trainer.annotations_folder = r\"emissoes_dataset_YOLO\\labels\"\n",
    "yolo_trainer.yolo_Classes = [\"emissao\"]\n",
    "yolo_trainer.dataset_path = \"emissoes_YOLO\"\n",
    "yolo_trainer.task = \"detect\"\n",
    "yolo_trainer.aug = True\n",
    "yolo_trainer.n_aug = 15\n",
    "yolo_trainer.odd = 0.12\n",
    "yolo_trainer.test_percentual_divisor = 20\n",
    "\n",
    "yolo_trainer.slicing()"
   ]
  },
  {
   "cell_type": "code",
   "execution_count": null,
   "metadata": {},
   "outputs": [],
   "source": [
    "from utils.remover_labels_vazios import processar_dataset\n",
    "from utils.cvat_dataset import cvat_dataset\n",
    "\n",
    "cvat_dataset(\"../emissoes_dataset_CVAT\", \"emissoes_dataset_YOLO\")\n",
    "processar_dataset(\"emissoes_dataset_YOLO\")"
   ]
  },
  {
   "cell_type": "code",
   "execution_count": null,
   "metadata": {},
   "outputs": [],
   "source": [
    "from utils.torch_is_available import torch_is_available\n",
    "import torchvision\n",
    "import torch\n",
    "\n",
    "# print(f\"TorchVision version: {torchvision.__version__}\")\n",
    "# print(f\"PyTorch version: {torch.__version__}\")\n",
    "# print(torchvision.ops.nms.__module__)\n",
    "# print('Torch: ', torch.cuda.is_available())\n",
    "print('\\n')\n",
    "torch_is_available()"
   ]
  },
  {
   "cell_type": "code",
   "execution_count": null,
   "metadata": {},
   "outputs": [],
   "source": [
    "from ultralytics import YOLO\n",
    "\n",
    "model = YOLO(\"runs\\\\detect\\\\train52\\\\weights\\\\best.pt\")\n",
    "\n",
    "model.info()"
   ]
  },
  {
   "cell_type": "code",
   "execution_count": null,
   "metadata": {},
   "outputs": [],
   "source": [
    "from utils.check_file import check_file\n",
    "\n",
    "check_file(\"datasets\\\\emissoes_YOLO\\\\dataset.yaml\")"
   ]
  }
 ],
 "metadata": {
  "kernelspec": {
   "display_name": "yolo-trainer-venv",
   "language": "python",
   "name": "python3"
  },
  "language_info": {
   "codemirror_mode": {
    "name": "ipython",
    "version": 3
   },
   "file_extension": ".py",
   "mimetype": "text/x-python",
   "name": "python",
   "nbconvert_exporter": "python",
   "pygments_lexer": "ipython3",
   "version": "3.12.3"
  }
 },
 "nbformat": 4,
 "nbformat_minor": 2
}
