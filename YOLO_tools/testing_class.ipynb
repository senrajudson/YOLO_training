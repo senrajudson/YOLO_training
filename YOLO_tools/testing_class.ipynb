{
 "cells": [
  {
   "cell_type": "code",
   "execution_count": 1,
   "metadata": {},
   "outputs": [],
   "source": [
    "from source.class_yolo_trainer import YOLOTrainer\n",
    "\n",
    "yolo_trainer = YOLOTrainer\n",
    "yolo_trainer = YOLOTrainer()"
   ]
  },
  {
   "cell_type": "code",
   "execution_count": 2,
   "metadata": {},
   "outputs": [],
   "source": [
    "### vou deixar anotado porque não sei se fiz gambiarra, \n",
    "\"\"\" no atributo image_folder para tarefas de classificação eu estou passando somente a pasta do dataset, sem indicar a pasta de imagens\n",
    "\"\"\"\n",
    "yolo_trainer.image_folder = r\"emissoes_dataset_YOLO\\images\"\n",
    "yolo_trainer.annotations_folder = r\"emissoes_dataset_YOLO\\labels\"\n",
    "yolo_trainer.yolo_Classes = [\"emissao\"]\n",
    "yolo_trainer.dataset_path = \"emissoes_YOLO\"\n",
    "yolo_trainer.task = \"detect\"\n",
    "yolo_trainer.aug = True\n",
    "yolo_trainer.n_aug = 10\n",
    "yolo_trainer.odd = 0.12\n",
    "yolo_trainer.test_percentual_divisor = 20\n",
    "\n",
    "yolo_trainer.slicing()"
   ]
  },
  {
   "cell_type": "code",
   "execution_count": null,
   "metadata": {},
   "outputs": [],
   "source": [
    "from source.modules.yolo_dataloader import YOLO_Dataset\n",
    "from torch.utils.data import DataLoader\n",
    "from torchvision import transforms\n",
    "\n",
    "yolo_dataloader = YOLO_Dataset\n",
    "yolo_dataloader = YOLO_Dataset()\n",
    "\n",
    "train_images_dir = 'path/to/train/labels'\n",
    "val_images_dir = 'path/to/train/labels'\n",
    "train_labels_dir = 'path/to/train/labels'\n",
    "val_labels_dir = 'path/to/train/labels'\n",
    "batch_size = 30\n",
    "\n",
    "transform = transforms.Compose([    # Utilizando o novo Dataset no lugar do ImageFolder:\n",
    "    transforms.Resize((640, 640)),\n",
    "    transforms.ToTensor()\n",
    "])\n",
    "\n",
    "train_dataset = YOLO_Dataset(train_images_dir, train_labels_dir, transform=transform)\n",
    "val_dataset = YOLO_Dataset(val_images_dir, val_labels_dir, transform=transform)\n",
    "\n",
    "train_loader = DataLoader(train_dataset, batch_size=batch_size, shuffle=True)\n",
    "val_loader = DataLoader(val_dataset, batch_size=batch_size)"
   ]
  },
  {
   "cell_type": "code",
   "execution_count": null,
   "metadata": {},
   "outputs": [],
   "source": [
    "from ultralytics import YOLO\n",
    "import yaml\n",
    "\n",
    "#### YOLO é gambiarra e eu posso provar:\n",
    "\"\"\" Para treinamentos de classificação com YOLO, você deve indicar o dir com o dataset\n",
    "que deve estar especificado dentro de uma pasta chamada 'datasets'. No entando, para detecção\n",
    "o YOLO é diferente. Você precisa indicar o caminho do arquivo 'dataset.yaml' para que ele \n",
    "possa encontrar o dataset e realizar o treinamento. É a mesma função, de uma mesma lib,\n",
    "mas os caras fizeram de forma que o mesmo argumento recebe duas entradas completamente \n",
    "diferentes a depender do treinamento que você vai fazer.\n",
    "\"\"\"\n",
    "\n",
    "# Carregar configurações de um arquivo YAML\n",
    "with open('../hyper_yolo.yaml', 'r') as file:\n",
    "    config = yaml.safe_load(file)\n",
    "\n",
    "train_config = config['train']\n",
    "aug_config = config['train']['augmentation']\n",
    "\n",
    "model = YOLO(\"runs\\\\detect\\\\train52\\\\weights\\\\best.pt\")\n",
    "\n",
    "results = model.train(\n",
    "    data = \"datasets/emissoes_YOLO/dataset.yaml\",\n",
    "    device = \"cuda\",\n",
    "\n",
    "    ### training configs. Checkout hyper_yolo.yaml for details\n",
    "    imgsz = train_config['imgsz'],\n",
    "    batch = train_config['batch'],\n",
    "    weight_decay = train_config['weight_decay'],\n",
    "\n",
    "    warmup_epochs = train_config['warmup_epochs'],\n",
    "    warmup_momentum = train_config['warmup_momentum'],\n",
    "    warmup_bias_lr = train_config['warmup_bias_lr'],\n",
    "\n",
    "    epochs = train_config['epochs'],\n",
    "    momentum = train_config['momentum'],\n",
    "    lr0 = train_config['lr0'],\n",
    "    lrf = train_config['lrf'],\n",
    "    optimizer = train_config['optimizer'],\n",
    "\n",
    "    ### if you r willing to use yolo aug, uncomment section bellow\n",
    "    ### not recomended if ur data is already aug though\n",
    "    ### augment args\n",
    "    # hsv_h = aug_config['hsv_h'],\n",
    "    # hsv_s = aug_config['hsv_s'],\n",
    "    # hsv_v = aug_config['hsv_v'],\n",
    "    # degrees = aug_config['degrees'],\n",
    "    # translate = aug_config['translate'],\n",
    "    # scale = aug_config['scale'],\n",
    "    # shear = aug_config['shear'],\n",
    "    # perspective = aug_config['perspective'],\n",
    "    # flipud = aug_config['flipud'],\n",
    "    # fliplr = aug_config['fliplr'],\n",
    "    # mosaic = aug_config['mosaic'],\n",
    "    # mixup = aug_config['mixup'],\n",
    "    # copy_paste = aug_config['copy_paste'],\n",
    "    # auto_augment = aug_config['auto_augment'],\n",
    ")"
   ]
  },
  {
   "cell_type": "code",
   "execution_count": null,
   "metadata": {},
   "outputs": [],
   "source": [
    "from ultralytics import YOLO\n",
    "\n",
    "model = YOLO(\"runs\\\\detect\\\\train52\\\\weights\\\\best.pt\")\n",
    "\n",
    "model.info()"
   ]
  },
  {
   "cell_type": "code",
   "execution_count": null,
   "metadata": {},
   "outputs": [],
   "source": [
    "from ultralytics import YOLO\n",
    "\n",
    "train = 'train52'\n",
    "model = YOLO(f\"runs/detect/{train}/weights/best.pt\")\n",
    "model.predict(\"../RUIM 23-06-22 (1).mp4\", save=True, conf=0.4, device=\"cuda\", save_txt=False, save_conf=True, save_crop=False)"
   ]
  },
  {
   "cell_type": "code",
   "execution_count": null,
   "metadata": {},
   "outputs": [],
   "source": [
    "from utils.check_file import check_file\n",
    "\n",
    "check_file(\"datasets\\\\emissoes_YOLO\\\\dataset.yaml\")"
   ]
  },
  {
   "cell_type": "code",
   "execution_count": null,
   "metadata": {},
   "outputs": [],
   "source": [
    "from utils.torch_is_available import torch_is_available\n",
    "\n",
    "torch_is_available()"
   ]
  },
  {
   "cell_type": "code",
   "execution_count": null,
   "metadata": {},
   "outputs": [],
   "source": [
    "from utils.cvat_dataset import cvat_dataset\n",
    "\n",
    "cvat_dataset(\"../emissoes_dataset_CVAT\", \"emissoes_dataset_YOLO\")"
   ]
  },
  {
   "cell_type": "code",
   "execution_count": null,
   "metadata": {},
   "outputs": [],
   "source": [
    "from utils.remover_labels_vazios import processar_dataset\n",
    "\n",
    "processar_dataset(\"emissoes_dataset_YOLO\")"
   ]
  }
 ],
 "metadata": {
  "kernelspec": {
   "display_name": "dataset-for-training-UuJD_CB9-py3.10",
   "language": "python",
   "name": "python3"
  },
  "language_info": {
   "codemirror_mode": {
    "name": "ipython",
    "version": 3
   },
   "file_extension": ".py",
   "mimetype": "text/x-python",
   "name": "python",
   "nbconvert_exporter": "python",
   "pygments_lexer": "ipython3",
   "version": "3.12.3"
  }
 },
 "nbformat": 4,
 "nbformat_minor": 2
}
