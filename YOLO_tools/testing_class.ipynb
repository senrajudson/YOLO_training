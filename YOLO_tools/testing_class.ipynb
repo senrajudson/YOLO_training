{
 "cells": [
  {
   "cell_type": "code",
   "execution_count": null,
   "metadata": {},
   "outputs": [],
   "source": [
    "from source.class_yolo_trainer import YOLOTrainer\n",
    "\n",
    "yolo_trainer = YOLOTrainer\n",
    "yolo_trainer = YOLOTrainer()"
   ]
  },
  {
   "cell_type": "code",
   "execution_count": null,
   "metadata": {},
   "outputs": [],
   "source": [
    "yolo_trainer.image_folder = \"pelotas_19-08/images\"\n",
    "yolo_trainer.annotations_folder = \"pelotas_19-08/labels\"\n",
    "yolo_trainer.yolo_Classes = \"Pellet\"\n",
    "yolo_trainer.test_percentual_divisor = 20\n",
    "yolo_trainer.slicing()"
   ]
  },
  {
   "cell_type": "code",
   "execution_count": 2,
   "metadata": {},
   "outputs": [],
   "source": [
    "yolo_trainer.img_sz = 960\n",
    "yolo_trainer.training_epochs = 20\n",
    "yolo_trainer.task = \"detect\"\n",
    "yolo_trainer.training()"
   ]
  },
  {
   "cell_type": "code",
   "execution_count": null,
   "metadata": {},
   "outputs": [],
   "source": [
    "yolo_trainer.train_model = \"train16\"\n",
    "yolo_trainer.object_to_predict = \"D:/Judson_projetos/Yolo_trainer/vid_1.mp4\"\n",
    "yolo_trainer.predict_confidence = 0.2\n",
    "yolo_trainer.predict()"
   ]
  },
  {
   "cell_type": "code",
   "execution_count": null,
   "metadata": {},
   "outputs": [],
   "source": [
    "from utils.check_file import check_file\n",
    "\n",
    "check_file(\"any_file\")"
   ]
  },
  {
   "cell_type": "code",
   "execution_count": null,
   "metadata": {},
   "outputs": [],
   "source": [
    "from utils.torch_is_available import torch_is_available\n",
    "\n",
    "torch_is_available()"
   ]
  },
  {
   "cell_type": "code",
   "execution_count": null,
   "metadata": {},
   "outputs": [],
   "source": [
    "from utils.cvat_dataset import cvat_dataset\n",
    "\n",
    "cvat_dataset(\"pelotas_19-08\", \"pelotas_19-08\")"
   ]
  }
 ],
 "metadata": {
  "kernelspec": {
   "display_name": "dataset-for-training-UuJD_CB9-py3.10",
   "language": "python",
   "name": "python3"
  },
  "language_info": {
   "codemirror_mode": {
    "name": "ipython",
    "version": 3
   },
   "file_extension": ".py",
   "mimetype": "text/x-python",
   "name": "python",
   "nbconvert_exporter": "python",
   "pygments_lexer": "ipython3",
   "version": "3.12.1"
  }
 },
 "nbformat": 4,
 "nbformat_minor": 2
}
