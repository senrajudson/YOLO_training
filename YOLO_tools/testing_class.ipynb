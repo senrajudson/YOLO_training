{
 "cells": [
  {
   "cell_type": "code",
   "execution_count": 1,
   "metadata": {},
   "outputs": [],
   "source": [
    "from source.class_yolo_trainer import YOLOTrainer\n",
    "\n",
    "dataset_constructor = YOLOTrainer\n",
    "dataset_constructor = YOLOTrainer()"
   ]
  },
  {
   "cell_type": "code",
   "execution_count": null,
   "metadata": {},
   "outputs": [],
   "source": [
    "dataset_constructor.image_folder = \"pelotas_12-08/images\"\n",
    "dataset_constructor.annotations_folder = \"pelotas_12-08/labels\"\n",
    "dataset_constructor.yolo_Classes = \"pelotas_12-08/classes.txt\"\n",
    "dataset_constructor.yolo_Notes = \"pelotas_12-08/notes.json\"\n",
    "dataset_constructor.test_percentual_divisor = 20\n",
    "dataset_constructor.slicing()"
   ]
  },
  {
   "cell_type": "code",
   "execution_count": null,
   "metadata": {},
   "outputs": [],
   "source": [
    "dataset_constructor.training()"
   ]
  },
  {
   "cell_type": "code",
   "execution_count": 2,
   "metadata": {},
   "outputs": [
    {
     "ename": "RecursionError",
     "evalue": "maximum recursion depth exceeded",
     "output_type": "error",
     "traceback": [
      "\u001b[1;31m---------------------------------------------------------------------------\u001b[0m",
      "\u001b[1;31mRecursionError\u001b[0m                            Traceback (most recent call last)",
      "Cell \u001b[1;32mIn[2], line 4\u001b[0m\n\u001b[0;32m      2\u001b[0m dataset_constructor\u001b[38;5;241m.\u001b[39mobject_to_predict \u001b[38;5;241m=\u001b[39m \u001b[38;5;124m\"\u001b[39m\u001b[38;5;124m2024-08-08_00.22.40.png\u001b[39m\u001b[38;5;124m\"\u001b[39m\n\u001b[0;32m      3\u001b[0m dataset_constructor\u001b[38;5;241m.\u001b[39mpredict_confidence \u001b[38;5;241m=\u001b[39m \u001b[38;5;241m0.5\u001b[39m\n\u001b[1;32m----> 4\u001b[0m \u001b[43mdataset_constructor\u001b[49m\u001b[38;5;241;43m.\u001b[39;49m\u001b[43mpredict\u001b[49m\u001b[43m(\u001b[49m\u001b[43m)\u001b[49m\n",
      "File \u001b[1;32md:\\Judson_projetos\\Yolo_trainer\\YOLO_tools\\source\\class_yolo_trainer.py:25\u001b[0m, in \u001b[0;36mYOLOTrainer.predict\u001b[1;34m(self)\u001b[0m\n\u001b[0;32m     24\u001b[0m \u001b[38;5;28;01mdef\u001b[39;00m \u001b[38;5;21mpredict\u001b[39m(\u001b[38;5;28mself\u001b[39m):\n\u001b[1;32m---> 25\u001b[0m     predict_YOLO_model(\u001b[38;5;28;43mself\u001b[39;49m\u001b[38;5;241;43m.\u001b[39;49m\u001b[43mtrain_model\u001b[49m, \u001b[38;5;28mself\u001b[39m\u001b[38;5;241m.\u001b[39mobject_to_predict)\n",
      "File \u001b[1;32md:\\Judson_projetos\\Yolo_trainer\\YOLO_tools\\source\\class_yolo_trainer.py:37\u001b[0m, in \u001b[0;36mYOLOTrainer.train_model\u001b[1;34m(self)\u001b[0m\n\u001b[0;32m     35\u001b[0m \u001b[38;5;129m@property\u001b[39m\n\u001b[0;32m     36\u001b[0m \u001b[38;5;28;01mdef\u001b[39;00m \u001b[38;5;21mtrain_model\u001b[39m(\u001b[38;5;28mself\u001b[39m):\n\u001b[1;32m---> 37\u001b[0m     \u001b[38;5;28;01mreturn\u001b[39;00m \u001b[38;5;28;43mself\u001b[39;49m\u001b[38;5;241;43m.\u001b[39;49m\u001b[43mtrain_model\u001b[49m\n",
      "File \u001b[1;32md:\\Judson_projetos\\Yolo_trainer\\YOLO_tools\\source\\class_yolo_trainer.py:37\u001b[0m, in \u001b[0;36mYOLOTrainer.train_model\u001b[1;34m(self)\u001b[0m\n\u001b[0;32m     35\u001b[0m \u001b[38;5;129m@property\u001b[39m\n\u001b[0;32m     36\u001b[0m \u001b[38;5;28;01mdef\u001b[39;00m \u001b[38;5;21mtrain_model\u001b[39m(\u001b[38;5;28mself\u001b[39m):\n\u001b[1;32m---> 37\u001b[0m     \u001b[38;5;28;01mreturn\u001b[39;00m \u001b[38;5;28;43mself\u001b[39;49m\u001b[38;5;241;43m.\u001b[39;49m\u001b[43mtrain_model\u001b[49m\n",
      "    \u001b[1;31m[... skipping similar frames: YOLOTrainer.train_model at line 37 (2973 times)]\u001b[0m\n",
      "File \u001b[1;32md:\\Judson_projetos\\Yolo_trainer\\YOLO_tools\\source\\class_yolo_trainer.py:37\u001b[0m, in \u001b[0;36mYOLOTrainer.train_model\u001b[1;34m(self)\u001b[0m\n\u001b[0;32m     35\u001b[0m \u001b[38;5;129m@property\u001b[39m\n\u001b[0;32m     36\u001b[0m \u001b[38;5;28;01mdef\u001b[39;00m \u001b[38;5;21mtrain_model\u001b[39m(\u001b[38;5;28mself\u001b[39m):\n\u001b[1;32m---> 37\u001b[0m     \u001b[38;5;28;01mreturn\u001b[39;00m \u001b[38;5;28;43mself\u001b[39;49m\u001b[38;5;241;43m.\u001b[39;49m\u001b[43mtrain_model\u001b[49m\n",
      "\u001b[1;31mRecursionError\u001b[0m: maximum recursion depth exceeded"
     ]
    }
   ],
   "source": [
    "dataset_constructor.train_model = \"train12\"\n",
    "dataset_constructor.object_to_predict = \"2024-08-08_00.22.40.png\"\n",
    "dataset_constructor.predict_confidence = 0.5\n",
    "dataset_constructor.predict()"
   ]
  },
  {
   "cell_type": "code",
   "execution_count": null,
   "metadata": {},
   "outputs": [],
   "source": [
    "from utils.check_file import check_file\n",
    "\n",
    "check_file(\"any_file\")"
   ]
  },
  {
   "cell_type": "code",
   "execution_count": null,
   "metadata": {},
   "outputs": [],
   "source": [
    "from utils.torch_is_available import torch_is_available\n",
    "\n",
    "torch_is_available()"
   ]
  },
  {
   "cell_type": "code",
   "execution_count": null,
   "metadata": {},
   "outputs": [],
   "source": [
    "from utils.cvat_dataset import cvat_dataset\n",
    "\n",
    "cvat_dataset(\"pelotas_12-08\", \"pelotas_12-08\")"
   ]
  },
  {
   "cell_type": "code",
   "execution_count": null,
   "metadata": {},
   "outputs": [],
   "source": [
    "# from ultralytics import YOLO\n",
    "# model = YOLO(\"yolov8n.pt\")\n",
    "\n",
    "# # Run batched inference on a list of images\n",
    "# results = model(\"vid_1.mp4\")  # return a generator of Results objects\n",
    "# # Process results generator\n",
    "# i = 0\n",
    "# for result in results:\n",
    "#     device = result.cuda()\n",
    "#     boxes = result.boxes  # Boxes object for bounding box outputs\n",
    "#     conf = boxes.conf\n",
    "#     cls = boxes.cls\n",
    "#     fmt = boxes.xywhn\n",
    "#     masks = result.masks  # Masks object for segmentation masks outputs\n",
    "#     keypoints = result.keypoints  # Keypoints object for pose outputs\n",
    "#     probs = result.probs  # Probs object for classification outputs\n",
    "#     obb = result.obb  # Oriented boxes object for OBB outputs\n",
    "#     # result.show()  # display to screen\n",
    "#     result.save(filename=f\"result{i}.jpg\")  # save to disk\n",
    "#     i += 1"
   ]
  }
 ],
 "metadata": {
  "kernelspec": {
   "display_name": "dataset-for-training-UuJD_CB9-py3.10",
   "language": "python",
   "name": "python3"
  },
  "language_info": {
   "codemirror_mode": {
    "name": "ipython",
    "version": 3
   },
   "file_extension": ".py",
   "mimetype": "text/x-python",
   "name": "python",
   "nbconvert_exporter": "python",
   "pygments_lexer": "ipython3",
   "version": "3.12.1"
  }
 },
 "nbformat": 4,
 "nbformat_minor": 2
}
