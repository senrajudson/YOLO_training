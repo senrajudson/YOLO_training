{
 "cells": [
  {
   "cell_type": "code",
   "execution_count": 1,
   "metadata": {},
   "outputs": [],
   "source": [
    "from source.class_yolo_trainer import YOLOTrainer\n",
    "\n",
    "dataset_constructor = YOLOTrainer\n",
    "dataset_constructor = YOLOTrainer()"
   ]
  },
  {
   "cell_type": "code",
   "execution_count": null,
   "metadata": {},
   "outputs": [],
   "source": [
    "dataset_constructor.image_folder = \"pelotas_19-08/images\"\n",
    "dataset_constructor.annotations_folder = \"pelotas_19-08/labels\"\n",
    "dataset_constructor.yolo_Classes = \"Pellet\"\n",
    "dataset_constructor.test_percentual_divisor = 20\n",
    "dataset_constructor.slicing()"
   ]
  },
  {
   "cell_type": "code",
   "execution_count": null,
   "metadata": {},
   "outputs": [],
   "source": [
    "dataset_constructor.training()"
   ]
  },
  {
   "cell_type": "code",
   "execution_count": 2,
   "metadata": {},
   "outputs": [
    {
     "name": "stdout",
     "output_type": "stream",
     "text": [
      "\n",
      "image 1/1 D:\\Judson_projetos\\Yolo_trainer\\2024-07-08_12.15.50.png: 544x960 3 Pelotas, 45.6ms\n",
      "Speed: 4.0ms preprocess, 45.6ms inference, 78.6ms postprocess per image at shape (1, 3, 544, 960)\n",
      "D:/Judson_projetos/Yolo_trainer/2024-07-08_12.15.50.png\n"
     ]
    }
   ],
   "source": [
    "dataset_constructor.train_model = \"train16\"\n",
    "dataset_constructor.object_to_predict = \"D:/Judson_projetos/Yolo_trainer/2024-07-08_12.15.50.png\"\n",
    "dataset_constructor.predict_confidence = 0.1\n",
    "dataset_constructor.predict()"
   ]
  },
  {
   "cell_type": "code",
   "execution_count": null,
   "metadata": {},
   "outputs": [],
   "source": [
    "from utils.check_file import check_file\n",
    "\n",
    "check_file(\"any_file\")"
   ]
  },
  {
   "cell_type": "code",
   "execution_count": null,
   "metadata": {},
   "outputs": [],
   "source": [
    "from utils.torch_is_available import torch_is_available\n",
    "\n",
    "torch_is_available()"
   ]
  },
  {
   "cell_type": "code",
   "execution_count": null,
   "metadata": {},
   "outputs": [],
   "source": [
    "from utils.cvat_dataset import cvat_dataset\n",
    "\n",
    "cvat_dataset(\"pelotas_19-08\", \"pelotas_19-08\")"
   ]
  },
  {
   "cell_type": "code",
   "execution_count": null,
   "metadata": {},
   "outputs": [],
   "source": [
    "# from ultralytics import YOLO\n",
    "# model = YOLO(\"yolov8n.pt\")\n",
    "\n",
    "# # Run batched inference on a list of images\n",
    "# results = model(\"vid_1.mp4\")  # return a generator of Results objects\n",
    "# # Process results generator\n",
    "# i = 0\n",
    "# for result in results:\n",
    "#     device = result.cuda()\n",
    "#     boxes = result.boxes  # Boxes object for bounding box outputs\n",
    "#     conf = boxes.conf\n",
    "#     cls = boxes.cls\n",
    "#     fmt = boxes.xywhn\n",
    "#     masks = result.masks  # Masks object for segmentation masks outputs\n",
    "#     keypoints = result.keypoints  # Keypoints object for pose outputs\n",
    "#     probs = result.probs  # Probs object for classification outputs\n",
    "#     obb = result.obb  # Oriented boxes object for OBB outputs\n",
    "#     # result.show()  # display to screen\n",
    "#     result.save(filename=f\"result{i}.jpg\")  # save to disk\n",
    "#     i += 1"
   ]
  }
 ],
 "metadata": {
  "kernelspec": {
   "display_name": "dataset-for-training-UuJD_CB9-py3.10",
   "language": "python",
   "name": "python3"
  },
  "language_info": {
   "codemirror_mode": {
    "name": "ipython",
    "version": 3
   },
   "file_extension": ".py",
   "mimetype": "text/x-python",
   "name": "python",
   "nbconvert_exporter": "python",
   "pygments_lexer": "ipython3",
   "version": "3.12.1"
  }
 },
 "nbformat": 4,
 "nbformat_minor": 2
}
