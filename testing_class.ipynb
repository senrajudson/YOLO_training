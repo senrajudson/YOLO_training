{
 "cells": [
  {
   "cell_type": "code",
   "execution_count": 1,
   "metadata": {},
   "outputs": [],
   "source": [
    "from dataset_for_training.dataset_for_training.class_yolo_trainer import YOLOTrainer\n",
    "\n",
    "dataset_constructor = YOLOTrainer\n",
    "dataset_constructor = YOLOTrainer()"
   ]
  },
  {
   "cell_type": "code",
   "execution_count": null,
   "metadata": {},
   "outputs": [],
   "source": [
    "dataset_constructor.image_folder = \"pelotas_12-08/images\"\n",
    "dataset_constructor.annotations_folder = \"pelotas_12-08/labels\"\n",
    "dataset_constructor.yolo_Classes = \"pelotas_12-08/classes.txt\"\n",
    "dataset_constructor.yolo_Notes = \"pelotas_12-08/notes.json\"\n",
    "dataset_constructor.test_percentual_divisor = 20\n",
    "dataset_constructor.slicing_dataset_for_traning()"
   ]
  },
  {
   "cell_type": "code",
   "execution_count": null,
   "metadata": {},
   "outputs": [],
   "source": [
    "dataset_constructor.training_YOLO_model()"
   ]
  },
  {
   "cell_type": "code",
   "execution_count": 2,
   "metadata": {},
   "outputs": [
    {
     "name": "stdout",
     "output_type": "stream",
     "text": [
      "\n",
      "\n",
      "WARNING  inference results will accumulate in RAM unless `stream=True` is passed, causing potential out-of-memory\n",
      "errors for large sources or long-running streams and videos. See https://docs.ultralytics.com/modes/predict/ for help.\n",
      "\n",
      "Example:\n",
      "    results = model(source=..., stream=True)  # generator of Results objects\n",
      "    for r in results:\n",
      "        boxes = r.boxes  # Boxes object for bbox outputs\n",
      "        masks = r.masks  # Masks object for segment masks outputs\n",
      "        probs = r.probs  # Class probabilities for classification outputs\n",
      "\n",
      "video 1/1 (frame 1/44) d:\\Judson_projetos\\Yolo_trainer\\vid_1.mp4: 384x640 (no detections), 61.0ms\n",
      "video 1/1 (frame 2/44) d:\\Judson_projetos\\Yolo_trainer\\vid_1.mp4: 384x640 (no detections), 14.1ms\n",
      "video 1/1 (frame 3/44) d:\\Judson_projetos\\Yolo_trainer\\vid_1.mp4: 384x640 (no detections), 15.0ms\n",
      "video 1/1 (frame 4/44) d:\\Judson_projetos\\Yolo_trainer\\vid_1.mp4: 384x640 (no detections), 21.5ms\n",
      "video 1/1 (frame 5/44) d:\\Judson_projetos\\Yolo_trainer\\vid_1.mp4: 384x640 (no detections), 15.7ms\n",
      "video 1/1 (frame 6/44) d:\\Judson_projetos\\Yolo_trainer\\vid_1.mp4: 384x640 (no detections), 31.5ms\n",
      "video 1/1 (frame 7/44) d:\\Judson_projetos\\Yolo_trainer\\vid_1.mp4: 384x640 (no detections), 26.8ms\n",
      "video 1/1 (frame 8/44) d:\\Judson_projetos\\Yolo_trainer\\vid_1.mp4: 384x640 (no detections), 15.7ms\n",
      "video 1/1 (frame 9/44) d:\\Judson_projetos\\Yolo_trainer\\vid_1.mp4: 384x640 (no detections), 9.9ms\n",
      "video 1/1 (frame 10/44) d:\\Judson_projetos\\Yolo_trainer\\vid_1.mp4: 384x640 (no detections), 15.0ms\n",
      "video 1/1 (frame 11/44) d:\\Judson_projetos\\Yolo_trainer\\vid_1.mp4: 384x640 (no detections), 2.2ms\n",
      "video 1/1 (frame 12/44) d:\\Judson_projetos\\Yolo_trainer\\vid_1.mp4: 384x640 (no detections), 29.9ms\n",
      "video 1/1 (frame 13/44) d:\\Judson_projetos\\Yolo_trainer\\vid_1.mp4: 384x640 (no detections), 0.0ms\n",
      "video 1/1 (frame 14/44) d:\\Judson_projetos\\Yolo_trainer\\vid_1.mp4: 384x640 (no detections), 12.0ms\n",
      "video 1/1 (frame 15/44) d:\\Judson_projetos\\Yolo_trainer\\vid_1.mp4: 384x640 (no detections), 0.0ms\n",
      "video 1/1 (frame 16/44) d:\\Judson_projetos\\Yolo_trainer\\vid_1.mp4: 384x640 (no detections), 14.1ms\n",
      "video 1/1 (frame 17/44) d:\\Judson_projetos\\Yolo_trainer\\vid_1.mp4: 384x640 (no detections), 0.0ms\n",
      "video 1/1 (frame 18/44) d:\\Judson_projetos\\Yolo_trainer\\vid_1.mp4: 384x640 (no detections), 13.1ms\n",
      "video 1/1 (frame 19/44) d:\\Judson_projetos\\Yolo_trainer\\vid_1.mp4: 384x640 (no detections), 15.7ms\n",
      "video 1/1 (frame 20/44) d:\\Judson_projetos\\Yolo_trainer\\vid_1.mp4: 384x640 (no detections), 21.8ms\n",
      "video 1/1 (frame 21/44) d:\\Judson_projetos\\Yolo_trainer\\vid_1.mp4: 384x640 (no detections), 10.0ms\n",
      "video 1/1 (frame 22/44) d:\\Judson_projetos\\Yolo_trainer\\vid_1.mp4: 384x640 (no detections), 23.2ms\n",
      "video 1/1 (frame 23/44) d:\\Judson_projetos\\Yolo_trainer\\vid_1.mp4: 384x640 (no detections), 15.6ms\n",
      "video 1/1 (frame 24/44) d:\\Judson_projetos\\Yolo_trainer\\vid_1.mp4: 384x640 (no detections), 14.2ms\n",
      "video 1/1 (frame 25/44) d:\\Judson_projetos\\Yolo_trainer\\vid_1.mp4: 384x640 (no detections), 15.6ms\n",
      "video 1/1 (frame 26/44) d:\\Judson_projetos\\Yolo_trainer\\vid_1.mp4: 384x640 (no detections), 11.6ms\n",
      "video 1/1 (frame 27/44) d:\\Judson_projetos\\Yolo_trainer\\vid_1.mp4: 384x640 (no detections), 0.0ms\n",
      "video 1/1 (frame 28/44) d:\\Judson_projetos\\Yolo_trainer\\vid_1.mp4: 384x640 (no detections), 4.5ms\n",
      "video 1/1 (frame 29/44) d:\\Judson_projetos\\Yolo_trainer\\vid_1.mp4: 384x640 (no detections), 6.0ms\n",
      "video 1/1 (frame 30/44) d:\\Judson_projetos\\Yolo_trainer\\vid_1.mp4: 384x640 (no detections), 6.0ms\n",
      "video 1/1 (frame 31/44) d:\\Judson_projetos\\Yolo_trainer\\vid_1.mp4: 384x640 (no detections), 14.1ms\n",
      "video 1/1 (frame 32/44) d:\\Judson_projetos\\Yolo_trainer\\vid_1.mp4: 384x640 (no detections), 19.2ms\n",
      "video 1/1 (frame 33/44) d:\\Judson_projetos\\Yolo_trainer\\vid_1.mp4: 384x640 (no detections), 15.0ms\n",
      "video 1/1 (frame 34/44) d:\\Judson_projetos\\Yolo_trainer\\vid_1.mp4: 384x640 (no detections), 0.0ms\n",
      "video 1/1 (frame 35/44) d:\\Judson_projetos\\Yolo_trainer\\vid_1.mp4: 384x640 (no detections), 20.5ms\n",
      "video 1/1 (frame 36/44) d:\\Judson_projetos\\Yolo_trainer\\vid_1.mp4: 384x640 (no detections), 15.0ms\n",
      "video 1/1 (frame 37/44) d:\\Judson_projetos\\Yolo_trainer\\vid_1.mp4: 384x640 (no detections), 11.8ms\n",
      "video 1/1 (frame 38/44) d:\\Judson_projetos\\Yolo_trainer\\vid_1.mp4: 384x640 (no detections), 8.0ms\n",
      "video 1/1 (frame 39/44) d:\\Judson_projetos\\Yolo_trainer\\vid_1.mp4: 384x640 (no detections), 7.0ms\n",
      "video 1/1 (frame 40/44) d:\\Judson_projetos\\Yolo_trainer\\vid_1.mp4: 384x640 (no detections), 16.9ms\n",
      "video 1/1 (frame 41/44) d:\\Judson_projetos\\Yolo_trainer\\vid_1.mp4: 384x640 (no detections), 0.0ms\n",
      "video 1/1 (frame 42/44) d:\\Judson_projetos\\Yolo_trainer\\vid_1.mp4: 384x640 (no detections), 0.0ms\n",
      "video 1/1 (frame 43/44) d:\\Judson_projetos\\Yolo_trainer\\vid_1.mp4: 384x640 (no detections), 15.6ms\n",
      "video 1/1 (frame 44/44) d:\\Judson_projetos\\Yolo_trainer\\vid_1.mp4: 384x640 (no detections), 10.0ms\n",
      "Speed: 1.8ms preprocess, 13.5ms inference, 0.6ms postprocess per image at shape (1, 3, 384, 640)\n",
      "Results saved to \u001b[1mruns\\detect\\predict2\u001b[0m\n"
     ]
    }
   ],
   "source": [
    "dataset_constructor.object_to_predict = \"vid_1.mp4\"\n",
    "dataset_constructor.predict_confidence = 0.7\n",
    "dataset_constructor.predict_YOLO_model(\"train2\")"
   ]
  },
  {
   "cell_type": "code",
   "execution_count": null,
   "metadata": {},
   "outputs": [],
   "source": [
    "import os\n",
    "\n",
    "file_name = r'datasets/dataset_YOLO/classes.txt'\n",
    "\n",
    "# Check if the file exists\n",
    "if os.path.isfile(file_name):\n",
    "   with open(file_name, 'r') as f:\n",
    "       content = f.read()\n",
    "   print(content)\n",
    "else:\n",
    "   print(f\"File {file_name} does not exist.\")\n"
   ]
  },
  {
   "cell_type": "code",
   "execution_count": null,
   "metadata": {},
   "outputs": [],
   "source": [
    "import torch\n",
    "import subprocess\n",
    "\n",
    "list_commands = ['nvcc --version',\"which cuda\"]\n",
    "\n",
    "for command in list_commands: \n",
    "    print(subprocess.run(command, shell=True, stdout=subprocess.PIPE, text=True).stdout)\n",
    "\n",
    "print(\"Is torch available? \", torch.cuda.is_available())\n",
    "print(\"CUDA version: \", torch.version.cuda)\n",
    "print(\"cuDNN version: \", torch.backends.cudnn.version())"
   ]
  },
  {
   "cell_type": "code",
   "execution_count": null,
   "metadata": {},
   "outputs": [],
   "source": [
    "import os\n",
    "import re\n",
    "import shutil\n",
    "\n",
    "path_folder = \"pelotas_12-08/obj_Train_data\"\n",
    "os.makedirs(\"pelotas_12-08/images\", exist_ok=True)\n",
    "os.makedirs(\"pelotas_12-08/labels\", exist_ok=True)\n",
    "\n",
    "image_path  = \"pelotas_12-08/images\"\n",
    "text_path = \"pelotas_12-08/labels\"\n",
    "text = re.compile(r'\\.txt')\n",
    "image = re.compile(r'\\.png')\n",
    "\n",
    "for file in os.listdir(path_folder):\n",
    "    path_file = os.path.join(path_folder, file)\n",
    "\n",
    "    if image.search(file):\n",
    "        file_destination = os.path.join(image_path, file)\n",
    "        shutil.copy(path_file, file_destination)\n",
    "        continue\n",
    "\n",
    "    if text.search(file):\n",
    "        file_destination = os.path.join(text_path, file)\n",
    "        shutil.copy(path_file, file_destination)\n",
    "        continue\n",
    "    \n",
    "    print(\"???\", file)"
   ]
  }
 ],
 "metadata": {
  "kernelspec": {
   "display_name": "dataset-for-training-UuJD_CB9-py3.10",
   "language": "python",
   "name": "python3"
  },
  "language_info": {
   "codemirror_mode": {
    "name": "ipython",
    "version": 3
   },
   "file_extension": ".py",
   "mimetype": "text/x-python",
   "name": "python",
   "nbconvert_exporter": "python",
   "pygments_lexer": "ipython3",
   "version": "3.12.1"
  }
 },
 "nbformat": 4,
 "nbformat_minor": 2
}
