{
 "cells": [
  {
   "cell_type": "code",
   "execution_count": null,
   "metadata": {},
   "outputs": [],
   "source": [
    "from dataset_for_training.dataset_for_training.class_yolo_trainer import YOLOTrainer\n",
    "\n",
    "dataset_constructor = YOLOTrainer\n",
    "dataset_constructor = YOLOTrainer()"
   ]
  },
  {
   "cell_type": "code",
   "execution_count": null,
   "metadata": {},
   "outputs": [],
   "source": [
    "dataset_constructor.image_folder = \"pelotas_12-08/images\"\n",
    "dataset_constructor.annotations_folder = \"pelotas_12-08/labels\"\n",
    "dataset_constructor.yolo_Classes = \"pelotas_12-08/classes.txt\"\n",
    "dataset_constructor.yolo_Notes = \"pelotas_12-08/notes.json\"\n",
    "dataset_constructor.test_percentual_divisor = 20\n",
    "dataset_constructor.slicing_dataset_for_traning()"
   ]
  },
  {
   "cell_type": "code",
   "execution_count": null,
   "metadata": {},
   "outputs": [],
   "source": [
    "dataset_constructor.training_YOLO_model()"
   ]
  },
  {
   "cell_type": "code",
   "execution_count": null,
   "metadata": {},
   "outputs": [],
   "source": [
    "dataset_constructor.object_to_predict = \"vid_1.mp4\"\n",
    "dataset_constructor.predict_confidence = 0.7\n",
    "dataset_constructor.predict_YOLO_model()"
   ]
  },
  {
   "cell_type": "code",
   "execution_count": null,
   "metadata": {},
   "outputs": [],
   "source": [
    "import os\n",
    "\n",
    "file_name = r'datasets/dataset_YOLO/classes.txt'\n",
    "\n",
    "# Check if the file exists\n",
    "if os.path.isfile(file_name):\n",
    "   with open(file_name, 'r') as f:\n",
    "       content = f.read()\n",
    "   print(content)\n",
    "else:\n",
    "   print(f\"File {file_name} does not exist.\")\n"
   ]
  },
  {
   "cell_type": "code",
   "execution_count": null,
   "metadata": {},
   "outputs": [],
   "source": [
    "import torch\n",
    "import subprocess\n",
    "\n",
    "list_commands = ['nvcc --version',\"which cuda\"]\n",
    "\n",
    "for command in list_commands: \n",
    "    print(subprocess.run(command, shell=True, stdout=subprocess.PIPE, text=True).stdout)\n",
    "\n",
    "print(\"Is torch available? \", torch.cuda.is_available())\n",
    "print(\"CUDA version: \", torch.version.cuda)\n",
    "print(\"cuDNN version: \", torch.backends.cudnn.version())\n",
    "\n"
   ]
  },
  {
   "cell_type": "code",
   "execution_count": null,
   "metadata": {},
   "outputs": [],
   "source": [
    "import os\n",
    "import re\n",
    "import shutil\n",
    "\n",
    "path_folder = \"pelotas_12-08/obj_Train_data\"\n",
    "os.makedirs(\"pelotas_12-08/images\", exist_ok=True)\n",
    "os.makedirs(\"pelotas_12-08/labels\", exist_ok=True)\n",
    "\n",
    "image_path  = \"pelotas_12-08/images\"\n",
    "text_path = \"pelotas_12-08/labels\"\n",
    "text = re.compile(r'\\.txt')\n",
    "image = re.compile(r'\\.png')\n",
    "\n",
    "for file in os.listdir(path_folder):\n",
    "    path_file = os.path.join(path_folder, file)\n",
    "\n",
    "    if image.search(file):\n",
    "        file_destination = os.path.join(image_path, file)\n",
    "        shutil.copy(path_file, file_destination)\n",
    "        continue\n",
    "\n",
    "    if text.search(file):\n",
    "        file_destination = os.path.join(text_path, file)\n",
    "        shutil.copy(path_file, file_destination)\n",
    "        continue\n",
    "    \n",
    "    print(\"???\", file)"
   ]
  }
 ],
 "metadata": {
  "kernelspec": {
   "display_name": "dataset-for-training-UuJD_CB9-py3.10",
   "language": "python",
   "name": "python3"
  },
  "language_info": {
   "codemirror_mode": {
    "name": "ipython",
    "version": 3
   },
   "file_extension": ".py",
   "mimetype": "text/x-python",
   "name": "python",
   "nbconvert_exporter": "python",
   "pygments_lexer": "ipython3",
   "version": "3.12.3"
  }
 },
 "nbformat": 4,
 "nbformat_minor": 2
}
